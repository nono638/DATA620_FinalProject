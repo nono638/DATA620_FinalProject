{
 "cells": [
  {
   "cell_type": "markdown",
   "id": "81b676e3",
   "metadata": {},
   "source": [
    "## DATA 620 Final Project\n",
    "#### Amazon Software Reviews"
   ]
  },
  {
   "cell_type": "markdown",
   "id": "97f125de",
   "metadata": {},
   "source": [
    "Benson Toi, Noah Collin, Ahmed Elsaeyed"
   ]
  },
  {
   "cell_type": "markdown",
   "id": "ebe1597d",
   "metadata": {},
   "source": [
    "Data source:\n",
    "https://nijianmo.github.io/amazon/index.html"
   ]
  },
  {
   "cell_type": "markdown",
   "id": "2aed495c",
   "metadata": {},
   "source": [
    "This is a sentiment analyisis of Amazon reviews of software from 1998-2015"
   ]
  },
  {
   "cell_type": "code",
   "execution_count": 1,
   "id": "735f3156",
   "metadata": {},
   "outputs": [],
   "source": [
    "import pandas as pd\n",
    "import re\n",
    "import matplotlib.pyplot as plt\n",
    "from datetime import datetime\n",
    "import seaborn as sns"
   ]
  },
  {
   "cell_type": "code",
   "execution_count": 2,
   "id": "ad408fcc",
   "metadata": {},
   "outputs": [
    {
     "name": "stdout",
     "output_type": "stream",
     "text": [
      "Pandas version: 1.4.2\n",
      "Seaborn version: 0.11.2\n"
     ]
    }
   ],
   "source": [
    "print(\"Pandas version: {}\".format(pd.__version__))\n",
    "#print(\"datetime version: {}\".format(datetime.__version__))\n",
    "print(\"Seaborn version: {}\".format(sns.__version__))"
   ]
  },
  {
   "cell_type": "code",
   "execution_count": 3,
   "id": "dac51957",
   "metadata": {},
   "outputs": [],
   "source": [
    "df = pd.read_json('Software.json',  lines=True) #lines equal true because the CSV has \\n chars"
   ]
  },
  {
   "cell_type": "code",
   "execution_count": 4,
   "id": "592f47b5",
   "metadata": {},
   "outputs": [
    {
     "data": {
      "text/html": [
       "<div>\n",
       "<style scoped>\n",
       "    .dataframe tbody tr th:only-of-type {\n",
       "        vertical-align: middle;\n",
       "    }\n",
       "\n",
       "    .dataframe tbody tr th {\n",
       "        vertical-align: top;\n",
       "    }\n",
       "\n",
       "    .dataframe thead th {\n",
       "        text-align: right;\n",
       "    }\n",
       "</style>\n",
       "<table border=\"1\" class=\"dataframe\">\n",
       "  <thead>\n",
       "    <tr style=\"text-align: right;\">\n",
       "      <th></th>\n",
       "      <th>overall</th>\n",
       "      <th>verified</th>\n",
       "      <th>reviewTime</th>\n",
       "      <th>reviewerID</th>\n",
       "      <th>asin</th>\n",
       "      <th>style</th>\n",
       "      <th>reviewerName</th>\n",
       "      <th>reviewText</th>\n",
       "      <th>summary</th>\n",
       "      <th>unixReviewTime</th>\n",
       "      <th>vote</th>\n",
       "      <th>image</th>\n",
       "    </tr>\n",
       "  </thead>\n",
       "  <tbody>\n",
       "    <tr>\n",
       "      <th>0</th>\n",
       "      <td>4</td>\n",
       "      <td>True</td>\n",
       "      <td>03 11, 2014</td>\n",
       "      <td>A240ORQ2LF9LUI</td>\n",
       "      <td>0077613252</td>\n",
       "      <td>{'Format:': ' Loose Leaf'}</td>\n",
       "      <td>Michelle W</td>\n",
       "      <td>The materials arrived early and were in excell...</td>\n",
       "      <td>Material Great</td>\n",
       "      <td>1394496000</td>\n",
       "      <td>NaN</td>\n",
       "      <td>NaN</td>\n",
       "    </tr>\n",
       "    <tr>\n",
       "      <th>1</th>\n",
       "      <td>4</td>\n",
       "      <td>True</td>\n",
       "      <td>02 23, 2014</td>\n",
       "      <td>A1YCCU0YRLS0FE</td>\n",
       "      <td>0077613252</td>\n",
       "      <td>{'Format:': ' Loose Leaf'}</td>\n",
       "      <td>Rosalind White Ames</td>\n",
       "      <td>I am really enjoying this book with the worksh...</td>\n",
       "      <td>Health</td>\n",
       "      <td>1393113600</td>\n",
       "      <td>NaN</td>\n",
       "      <td>NaN</td>\n",
       "    </tr>\n",
       "    <tr>\n",
       "      <th>2</th>\n",
       "      <td>1</td>\n",
       "      <td>True</td>\n",
       "      <td>02 17, 2014</td>\n",
       "      <td>A1BJHRQDYVAY2J</td>\n",
       "      <td>0077613252</td>\n",
       "      <td>{'Format:': ' Loose Leaf'}</td>\n",
       "      <td>Allan R. Baker</td>\n",
       "      <td>IF YOU ARE TAKING THIS CLASS DON\"T WASTE YOUR ...</td>\n",
       "      <td>ARE YOU KIDING ME?</td>\n",
       "      <td>1392595200</td>\n",
       "      <td>7</td>\n",
       "      <td>NaN</td>\n",
       "    </tr>\n",
       "  </tbody>\n",
       "</table>\n",
       "</div>"
      ],
      "text/plain": [
       "   overall  verified   reviewTime      reviewerID        asin  \\\n",
       "0        4      True  03 11, 2014  A240ORQ2LF9LUI  0077613252   \n",
       "1        4      True  02 23, 2014  A1YCCU0YRLS0FE  0077613252   \n",
       "2        1      True  02 17, 2014  A1BJHRQDYVAY2J  0077613252   \n",
       "\n",
       "                        style         reviewerName  \\\n",
       "0  {'Format:': ' Loose Leaf'}           Michelle W   \n",
       "1  {'Format:': ' Loose Leaf'}  Rosalind White Ames   \n",
       "2  {'Format:': ' Loose Leaf'}       Allan R. Baker   \n",
       "\n",
       "                                          reviewText             summary  \\\n",
       "0  The materials arrived early and were in excell...      Material Great   \n",
       "1  I am really enjoying this book with the worksh...              Health   \n",
       "2  IF YOU ARE TAKING THIS CLASS DON\"T WASTE YOUR ...  ARE YOU KIDING ME?   \n",
       "\n",
       "   unixReviewTime vote image  \n",
       "0      1394496000  NaN   NaN  \n",
       "1      1393113600  NaN   NaN  \n",
       "2      1392595200    7   NaN  "
      ]
     },
     "execution_count": 4,
     "metadata": {},
     "output_type": "execute_result"
    }
   ],
   "source": [
    "df.head(3)"
   ]
  },
  {
   "cell_type": "code",
   "execution_count": 5,
   "id": "7a69614a",
   "metadata": {},
   "outputs": [
    {
     "data": {
      "text/plain": [
       "'2014-03-11 00:00:00'"
      ]
     },
     "execution_count": 5,
     "metadata": {},
     "output_type": "execute_result"
    }
   ],
   "source": [
    "def HumanTime (x):\n",
    "    return datetime.utcfromtimestamp(x).strftime('%Y-%m-%d %H:%M:%S')\n",
    "\n",
    "HumanTime(df['unixReviewTime'][0])"
   ]
  },
  {
   "cell_type": "code",
   "execution_count": 16,
   "id": "a2c66b04",
   "metadata": {},
   "outputs": [
    {
     "data": {
      "text/plain": [
       "0    2014-03-11 00:00:00\n",
       "1    2014-02-23 00:00:00\n",
       "2    2014-02-17 00:00:00\n",
       "Name: ReviewTime, dtype: object"
      ]
     },
     "execution_count": 16,
     "metadata": {},
     "output_type": "execute_result"
    }
   ],
   "source": [
    "df['ReviewTime']=df.unixReviewTime.apply(HumanTime)\n",
    "df['ReviewTime'].head(3)\n"
   ]
  },
  {
   "cell_type": "code",
   "execution_count": 22,
   "id": "60240627",
   "metadata": {},
   "outputs": [
    {
     "data": {
      "text/plain": [
       "2015    86324\n",
       "2014    77348\n",
       "2016    66786\n",
       "2013    46663\n",
       "2017    29350\n",
       "2012    22894\n",
       "2009    20000\n",
       "2008    17735\n",
       "2011    17061\n",
       "2010    15185\n",
       "2007    13962\n",
       "2018    13123\n",
       "2006     8486\n",
       "2005     6724\n",
       "2004     4685\n",
       "2003     4681\n",
       "2002     4144\n",
       "2001     2833\n",
       "2000     1326\n",
       "1999      125\n",
       "1998        1\n",
       "Name: Year, dtype: int64"
      ]
     },
     "execution_count": 22,
     "metadata": {},
     "output_type": "execute_result"
    }
   ],
   "source": [
    "df['Year'] = df['ReviewTime'].apply(lambda x: int(re.findall (\"\\d+\", x)[0]))\n",
    "df['Year'].value_counts()"
   ]
  },
  {
   "cell_type": "code",
   "execution_count": 8,
   "id": "d6e51c63",
   "metadata": {},
   "outputs": [
    {
     "data": {
      "text/plain": [
       "count     459370\n",
       "unique    421432\n",
       "top         good\n",
       "freq         811\n",
       "Name: reviewText, dtype: object"
      ]
     },
     "execution_count": 8,
     "metadata": {},
     "output_type": "execute_result"
    }
   ],
   "source": [
    "df.reviewText.describe()"
   ]
  },
  {
   "cell_type": "code",
   "execution_count": 9,
   "id": "d3479ad6",
   "metadata": {},
   "outputs": [
    {
     "data": {
      "text/plain": [
       "count         459380\n",
       "unique        286888\n",
       "top       Five Stars\n",
       "freq           51188\n",
       "Name: summary, dtype: object"
      ]
     },
     "execution_count": 9,
     "metadata": {},
     "output_type": "execute_result"
    }
   ],
   "source": [
    "df.summary.describe()"
   ]
  },
  {
   "cell_type": "code",
   "execution_count": 10,
   "id": "9aa23409",
   "metadata": {},
   "outputs": [
    {
     "data": {
      "text/plain": [
       "5    212452\n",
       "1    102548\n",
       "4     73596\n",
       "3     39395\n",
       "2     31445\n",
       "Name: overall, dtype: int64"
      ]
     },
     "execution_count": 10,
     "metadata": {},
     "output_type": "execute_result"
    }
   ],
   "source": [
    "df.overall.value_counts()"
   ]
  },
  {
   "cell_type": "code",
   "execution_count": 11,
   "id": "80d9a2f5",
   "metadata": {},
   "outputs": [
    {
     "data": {
      "text/plain": [
       "count    459436.000000\n",
       "mean          3.570175\n",
       "std           1.626662\n",
       "min           1.000000\n",
       "25%           2.000000\n",
       "50%           4.000000\n",
       "75%           5.000000\n",
       "max           5.000000\n",
       "Name: overall, dtype: float64"
      ]
     },
     "execution_count": 11,
     "metadata": {},
     "output_type": "execute_result"
    }
   ],
   "source": [
    "df.overall.describe() #Review Scores"
   ]
  },
  {
   "cell_type": "code",
   "execution_count": null,
   "id": "0c82791f",
   "metadata": {},
   "outputs": [],
   "source": []
  },
  {
   "cell_type": "code",
   "execution_count": 12,
   "id": "5db9f1e6",
   "metadata": {},
   "outputs": [
    {
     "data": {
      "text/plain": [
       "[Text(0.5, 1.0, 'Distribution of reviews for Software'),\n",
       " Text(0.5, 0, 'Review Score')]"
      ]
     },
     "execution_count": 12,
     "metadata": {},
     "output_type": "execute_result"
    },
    {
     "data": {
      "image/png": "[encoded data removed]",
      "text/plain": [
       "<Figure size 432x288 with 1 Axes>"
      ]
     },
     "metadata": {},
     "output_type": "display_data"
    }
   ],
   "source": [
    "sns.set(style=\"darkgrid\")\n",
    "sns.histplot(df['overall']).set(title = \"Distribution of reviews for Software\",\n",
    "                                        xlabel = 'Review Score')"
   ]
  },
  {
   "cell_type": "markdown",
   "id": "41134b2c",
   "metadata": {},
   "source": [
    "Mostly five-star reviews."
   ]
  },
  {
   "cell_type": "code",
   "execution_count": 13,
   "id": "dd92fc36",
   "metadata": {},
   "outputs": [
    {
     "data": {
      "text/plain": [
       "(102548, 13)"
      ]
     },
     "execution_count": 13,
     "metadata": {},
     "output_type": "execute_result"
    }
   ],
   "source": [
    "oneStarReviews = df[df['overall']==1]\n",
    "oneStarReviews.shape"
   ]
  },
  {
   "cell_type": "code",
   "execution_count": 14,
   "id": "e5bb37ce",
   "metadata": {},
   "outputs": [],
   "source": [
    "twoStarReviews = df[df['overall']==2]\n",
    "threeStarReviews = df[df['overall']==3]\n",
    "fourStarReviews = df[df['overall']==4]\n",
    "fiveStarReviews = df[df['overall']==5]"
   ]
  },
  {
   "cell_type": "code",
   "execution_count": null,
   "id": "f5fc57e6",
   "metadata": {},
   "outputs": [],
   "source": []
  },
  {
   "cell_type": "code",
   "execution_count": null,
   "id": "3159ec94",
   "metadata": {},
   "outputs": [],
   "source": []
  },
  {
   "cell_type": "code",
   "execution_count": null,
   "id": "75259c96",
   "metadata": {},
   "outputs": [],
   "source": []
  }
 ],
 "metadata": {
  "kernelspec": {
   "display_name": "Python 3 (ipykernel)",
   "language": "python",
   "name": "python3"
  },
  "language_info": {
   "codemirror_mode": {
    "name": "ipython",
    "version": 3
   },
   "file_extension": ".py",
   "mimetype": "text/x-python",
   "name": "python",
   "nbconvert_exporter": "python",
   "pygments_lexer": "ipython3",
   "version": "3.8.13"
  }
 },
 "nbformat": 4,
 "nbformat_minor": 5
}
