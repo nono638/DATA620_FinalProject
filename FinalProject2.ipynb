{
 "cells": [
  {
   "cell_type": "markdown",
   "id": "81b676e3",
   "metadata": {},
   "source": [
    "# DATA 620 Final Project\n",
    "#### Amazon Software Reviews"
   ]
  },
  {
   "cell_type": "markdown",
   "id": "97f125de",
   "metadata": {},
   "source": [
    "Benson Toi, Noah Collin, Ahmed Elsaeyed"
   ]
  },
  {
   "cell_type": "markdown",
   "id": "ebe1597d",
   "metadata": {},
   "source": [
    "#### Data source:\n",
    "https://nijianmo.github.io/amazon/index.html"
   ]
  },
  {
   "cell_type": "markdown",
   "id": "2aed495c",
   "metadata": {},
   "source": [
    "This is a text analyisis of Amazon reviews of software from 1998-2015.\n",
    "In this project, we'll compare the findings from three models that were leveraged from the Hugging Face Transformers Library.  \n",
    "https://www.youtube.com/shorts/kn5olZFRWvw"
   ]
  },
  {
   "cell_type": "markdown",
   "id": "5f494b79",
   "metadata": {},
   "source": [
    "### Dependencies"
   ]
  },
  {
   "cell_type": "code",
   "execution_count": 1,
   "id": "735f3156",
   "metadata": {},
   "outputs": [],
   "source": [
    "import pandas as pd\n",
    "import re\n",
    "import matplotlib.pyplot as plt\n",
    "from datetime import datetime\n",
    "import seaborn as sns\n",
    "import random\n",
    "import nltk\n",
    "#nltk.download('punkt')\n",
    "from tqdm import tqdm, trange #for progress bars of computation in Jupyter, see https://www.youtube.com/watch?v=n4E7of9BINo\n",
    "#import pytorch"
   ]
  },
  {
   "cell_type": "code",
   "execution_count": 2,
   "id": "3be6aa64",
   "metadata": {},
   "outputs": [
    {
     "name": "stderr",
     "output_type": "stream",
     "text": [
      "C:\\Users\\Noah\\.conda\\envs\\NLTK etal\\lib\\site-packages\\tqdm\\auto.py:22: TqdmWarning: IProgress not found. Please update jupyter and ipywidgets. See https://ipywidgets.readthedocs.io/en/stable/user_install.html\n",
      "  from .autonotebook import tqdm as notebook_tqdm\n"
     ]
    }
   ],
   "source": [
    "from transformers import pipeline"
   ]
  },
  {
   "cell_type": "code",
   "execution_count": 3,
   "id": "ad408fcc",
   "metadata": {},
   "outputs": [
    {
     "name": "stdout",
     "output_type": "stream",
     "text": [
      "Pandas version: 1.4.2\n",
      "Seaborn version: 0.11.2\n"
     ]
    }
   ],
   "source": [
    "print(\"Pandas version: {}\".format(pd.__version__))\n",
    "#print(\"datetime version: {}\".format(datetime.__version__))\n",
    "print(\"Seaborn version: {}\".format(sns.__version__))"
   ]
  },
  {
   "cell_type": "markdown",
   "id": "d647285b",
   "metadata": {},
   "source": [
    "### Data"
   ]
  },
  {
   "cell_type": "code",
   "execution_count": 4,
   "id": "dac51957",
   "metadata": {},
   "outputs": [],
   "source": [
    "df = pd.read_json('Software.json',  lines=True) #lines equal true because the CSV has \\n chars\n",
    "#again, data from here: \n",
    "# https://nijianmo.github.io/amazon/index.html"
   ]
  },
  {
   "cell_type": "markdown",
   "id": "5e70a0da",
   "metadata": {},
   "source": [
    "### Data Exploration"
   ]
  },
  {
   "cell_type": "code",
   "execution_count": 5,
   "id": "5f109f28",
   "metadata": {},
   "outputs": [
    {
     "data": {
      "text/plain": [
       "Index(['overall', 'verified', 'reviewTime', 'reviewerID', 'asin', 'style',\n",
       "       'reviewerName', 'reviewText', 'summary', 'unixReviewTime', 'vote',\n",
       "       'image'],\n",
       "      dtype='object')"
      ]
     },
     "execution_count": 5,
     "metadata": {},
     "output_type": "execute_result"
    }
   ],
   "source": [
    "df.columns"
   ]
  },
  {
   "cell_type": "code",
   "execution_count": 6,
   "id": "868e9ce0",
   "metadata": {},
   "outputs": [],
   "source": [
    "initialCols = ['overall', 'verified', 'reviewTime', 'reviewerID', 'style',\n",
    "       'reviewerName', 'reviewText', 'summary', 'unixReviewTime',]"
   ]
  },
  {
   "cell_type": "code",
   "execution_count": 7,
   "id": "fe5d9039",
   "metadata": {},
   "outputs": [],
   "source": [
    "df = df[initialCols]"
   ]
  },
  {
   "cell_type": "code",
   "execution_count": 8,
   "id": "592f47b5",
   "metadata": {},
   "outputs": [
    {
     "data": {
      "text/html": [
       "<div>\n",
       "<style scoped>\n",
       "    .dataframe tbody tr th:only-of-type {\n",
       "        vertical-align: middle;\n",
       "    }\n",
       "\n",
       "    .dataframe tbody tr th {\n",
       "        vertical-align: top;\n",
       "    }\n",
       "\n",
       "    .dataframe thead th {\n",
       "        text-align: right;\n",
       "    }\n",
       "</style>\n",
       "<table border=\"1\" class=\"dataframe\">\n",
       "  <thead>\n",
       "    <tr style=\"text-align: right;\">\n",
       "      <th></th>\n",
       "      <th>overall</th>\n",
       "      <th>verified</th>\n",
       "      <th>reviewTime</th>\n",
       "      <th>reviewerID</th>\n",
       "      <th>style</th>\n",
       "      <th>reviewerName</th>\n",
       "      <th>reviewText</th>\n",
       "      <th>summary</th>\n",
       "      <th>unixReviewTime</th>\n",
       "    </tr>\n",
       "  </thead>\n",
       "  <tbody>\n",
       "    <tr>\n",
       "      <th>0</th>\n",
       "      <td>4</td>\n",
       "      <td>True</td>\n",
       "      <td>03 11, 2014</td>\n",
       "      <td>A240ORQ2LF9LUI</td>\n",
       "      <td>{'Format:': ' Loose Leaf'}</td>\n",
       "      <td>Michelle W</td>\n",
       "      <td>The materials arrived early and were in excell...</td>\n",
       "      <td>Material Great</td>\n",
       "      <td>1394496000</td>\n",
       "    </tr>\n",
       "    <tr>\n",
       "      <th>1</th>\n",
       "      <td>4</td>\n",
       "      <td>True</td>\n",
       "      <td>02 23, 2014</td>\n",
       "      <td>A1YCCU0YRLS0FE</td>\n",
       "      <td>{'Format:': ' Loose Leaf'}</td>\n",
       "      <td>Rosalind White Ames</td>\n",
       "      <td>I am really enjoying this book with the worksh...</td>\n",
       "      <td>Health</td>\n",
       "      <td>1393113600</td>\n",
       "    </tr>\n",
       "    <tr>\n",
       "      <th>2</th>\n",
       "      <td>1</td>\n",
       "      <td>True</td>\n",
       "      <td>02 17, 2014</td>\n",
       "      <td>A1BJHRQDYVAY2J</td>\n",
       "      <td>{'Format:': ' Loose Leaf'}</td>\n",
       "      <td>Allan R. Baker</td>\n",
       "      <td>IF YOU ARE TAKING THIS CLASS DON\"T WASTE YOUR ...</td>\n",
       "      <td>ARE YOU KIDING ME?</td>\n",
       "      <td>1392595200</td>\n",
       "    </tr>\n",
       "  </tbody>\n",
       "</table>\n",
       "</div>"
      ],
      "text/plain": [
       "   overall  verified   reviewTime      reviewerID                       style  \\\n",
       "0        4      True  03 11, 2014  A240ORQ2LF9LUI  {'Format:': ' Loose Leaf'}   \n",
       "1        4      True  02 23, 2014  A1YCCU0YRLS0FE  {'Format:': ' Loose Leaf'}   \n",
       "2        1      True  02 17, 2014  A1BJHRQDYVAY2J  {'Format:': ' Loose Leaf'}   \n",
       "\n",
       "          reviewerName                                         reviewText  \\\n",
       "0           Michelle W  The materials arrived early and were in excell...   \n",
       "1  Rosalind White Ames  I am really enjoying this book with the worksh...   \n",
       "2       Allan R. Baker  IF YOU ARE TAKING THIS CLASS DON\"T WASTE YOUR ...   \n",
       "\n",
       "              summary  unixReviewTime  \n",
       "0      Material Great      1394496000  \n",
       "1              Health      1393113600  \n",
       "2  ARE YOU KIDING ME?      1392595200  "
      ]
     },
     "execution_count": 8,
     "metadata": {},
     "output_type": "execute_result"
    }
   ],
   "source": [
    "df.head(3)"
   ]
  },
  {
   "cell_type": "code",
   "execution_count": 9,
   "id": "a95c2835",
   "metadata": {},
   "outputs": [
    {
     "data": {
      "text/plain": [
       "count            459436\n",
       "unique           375147\n",
       "top       A5JLAU2ARJ0BO\n",
       "freq                 73\n",
       "Name: reviewerID, dtype: object"
      ]
     },
     "execution_count": 9,
     "metadata": {},
     "output_type": "execute_result"
    }
   ],
   "source": [
    "df['reviewerID'].describe()"
   ]
  },
  {
   "cell_type": "markdown",
   "id": "86694dbf",
   "metadata": {},
   "source": [
    "A5JLAU2ARJ0BO gave 73 reviews.  We might do some analysis on this reviewer alone."
   ]
  },
  {
   "cell_type": "code",
   "execution_count": 10,
   "id": "7a69614a",
   "metadata": {},
   "outputs": [
    {
     "name": "stdout",
     "output_type": "stream",
     "text": [
      "2009-06-24 00:00:00\n",
      "00:00:00\n"
     ]
    }
   ],
   "source": [
    "def HumanTime (x):\n",
    "    return datetime.utcfromtimestamp(x).strftime('%Y-%m-%d %H:%M:%S')\n",
    "\n",
    "print(HumanTime(df['unixReviewTime'][40000]) )\n",
    "\n",
    "def TimeOfDay(x):\n",
    "    humanTime = HumanTime(x)\n",
    "    return re.findall(\"\\d{2}:\\d{2}:\\d{2}\", humanTime)[0]\n",
    "print(TimeOfDay(df['unixReviewTime'][40000]) )"
   ]
  },
  {
   "cell_type": "markdown",
   "id": "2ad631f1",
   "metadata": {},
   "source": [
    "<i> Unfortunately, the times of day seem to mostly be absent from the data.  That could have made for interesting analysis. </i>"
   ]
  },
  {
   "cell_type": "code",
   "execution_count": 11,
   "id": "a2c66b04",
   "metadata": {},
   "outputs": [
    {
     "name": "stderr",
     "output_type": "stream",
     "text": [
      "100%|██████████| 459436/459436 [00:00<00:00, 4548857.37it/s]\n"
     ]
    }
   ],
   "source": [
    "df['ReviewTime']= tqdm(df.unixReviewTime.apply(HumanTime))\n"
   ]
  },
  {
   "cell_type": "code",
   "execution_count": 12,
   "id": "18293fba",
   "metadata": {},
   "outputs": [
    {
     "data": {
      "text/plain": [
       "0    2014-03-11 00:00:00\n",
       "1    2014-02-23 00:00:00\n",
       "2    2014-02-17 00:00:00\n",
       "Name: ReviewTime, dtype: object"
      ]
     },
     "execution_count": 12,
     "metadata": {},
     "output_type": "execute_result"
    }
   ],
   "source": [
    "df['ReviewTime'].head(3)"
   ]
  },
  {
   "cell_type": "code",
   "execution_count": 13,
   "id": "60240627",
   "metadata": {},
   "outputs": [],
   "source": [
    "df['Year'] = df['ReviewTime'].apply(lambda x: int(re.findall (\"\\d+\", x)[0]))"
   ]
  },
  {
   "cell_type": "code",
   "execution_count": 14,
   "id": "1ff8ef9f",
   "metadata": {},
   "outputs": [],
   "source": [
    "#df['Year'].value_counts().sort_index()"
   ]
  },
  {
   "cell_type": "code",
   "execution_count": 15,
   "id": "9fdbe5a3",
   "metadata": {},
   "outputs": [
    {
     "data": {
      "image/png": "[encoded data removed]",
      "text/plain": [
       "<Figure size 432x288 with 1 Axes>"
      ]
     },
     "metadata": {},
     "output_type": "display_data"
    }
   ],
   "source": [
    "sns.set(style=\"darkgrid\")\n",
    "sns.histplot(df['Year']).set(title = \"Years of reviews for Software - entire dataset\",\n",
    "                                        xlabel = 'Review Score'\n",
    "                            )\n",
    "plt.xticks([i for i in range(1999,2018,3)])\n",
    "plt.show()"
   ]
  },
  {
   "cell_type": "code",
   "execution_count": 16,
   "id": "d6e51c63",
   "metadata": {},
   "outputs": [
    {
     "data": {
      "text/plain": [
       "count     459370\n",
       "unique    421432\n",
       "top         good\n",
       "freq         811\n",
       "Name: reviewText, dtype: object"
      ]
     },
     "execution_count": 16,
     "metadata": {},
     "output_type": "execute_result"
    }
   ],
   "source": [
    "df.reviewText.describe()"
   ]
  },
  {
   "cell_type": "code",
   "execution_count": 17,
   "id": "d3479ad6",
   "metadata": {},
   "outputs": [
    {
     "data": {
      "text/plain": [
       "count         459380\n",
       "unique        286888\n",
       "top       Five Stars\n",
       "freq           51188\n",
       "Name: summary, dtype: object"
      ]
     },
     "execution_count": 17,
     "metadata": {},
     "output_type": "execute_result"
    }
   ],
   "source": [
    "df.summary.describe()"
   ]
  },
  {
   "cell_type": "code",
   "execution_count": 18,
   "id": "9aa23409",
   "metadata": {},
   "outputs": [
    {
     "data": {
      "text/plain": [
       "1    102548\n",
       "2     31445\n",
       "3     39395\n",
       "4     73596\n",
       "5    212452\n",
       "Name: overall, dtype: int64"
      ]
     },
     "execution_count": 18,
     "metadata": {},
     "output_type": "execute_result"
    }
   ],
   "source": [
    "df.overall.value_counts().sort_index()"
   ]
  },
  {
   "cell_type": "code",
   "execution_count": 19,
   "id": "80d9a2f5",
   "metadata": {},
   "outputs": [
    {
     "data": {
      "text/plain": [
       "count    459436.000000\n",
       "mean          3.570175\n",
       "std           1.626662\n",
       "min           1.000000\n",
       "25%           2.000000\n",
       "50%           4.000000\n",
       "75%           5.000000\n",
       "max           5.000000\n",
       "Name: overall, dtype: float64"
      ]
     },
     "execution_count": 19,
     "metadata": {},
     "output_type": "execute_result"
    }
   ],
   "source": [
    "df.overall.describe() #Review Scores"
   ]
  },
  {
   "cell_type": "code",
   "execution_count": 20,
   "id": "0c82791f",
   "metadata": {},
   "outputs": [
    {
     "data": {
      "text/plain": [
       "4.0"
      ]
     },
     "execution_count": 20,
     "metadata": {},
     "output_type": "execute_result"
    }
   ],
   "source": [
    "df['overall'].median()"
   ]
  },
  {
   "cell_type": "code",
   "execution_count": 21,
   "id": "d183abcf",
   "metadata": {},
   "outputs": [
    {
     "data": {
      "text/plain": [
       "count                            234401\n",
       "unique                              423\n",
       "top       {'Platform:': ' PC Download'}\n",
       "freq                              50647\n",
       "Name: style, dtype: object"
      ]
     },
     "execution_count": 21,
     "metadata": {},
     "output_type": "execute_result"
    }
   ],
   "source": [
    "df['style'].describe()"
   ]
  },
  {
   "cell_type": "code",
   "execution_count": 66,
   "id": "5db9f1e6",
   "metadata": {},
   "outputs": [
    {
     "data": {
      "image/png": "[encoded data removed]",
      "text/plain": [
       "<Figure size 432x288 with 1 Axes>"
      ]
     },
     "metadata": {},
     "output_type": "display_data"
    }
   ],
   "source": [
    "sns.set(style=\"darkgrid\")\n",
    "sns.histplot(df['overall']).set(title = \"Distribution of reviews for Software - entire dataset\",\n",
    "                                        xlabel = 'Review Score')\n",
    "plt.xticks([1,2,3,4,5])\n",
    "plt.show()"
   ]
  },
  {
   "cell_type": "markdown",
   "id": "41134b2c",
   "metadata": {},
   "source": [
    "Mostly five-star reviews."
   ]
  },
  {
   "cell_type": "markdown",
   "id": "c7c1a135",
   "metadata": {},
   "source": [
    "### Step 1: Make a dataframe with 1000 random rows to perform analysis"
   ]
  },
  {
   "cell_type": "markdown",
   "id": "c3eb2820",
   "metadata": {},
   "source": [
    "It's not feasible / useful to run the analysis on the entire dataset for this project.  So for the rest of the notebook, it'll just be 1000 random rows:"
   ]
  },
  {
   "cell_type": "code",
   "execution_count": 23,
   "id": "f5fc57e6",
   "metadata": {},
   "outputs": [],
   "source": [
    "random.seed(6174)\n",
    "#Kaprekar’s constant"
   ]
  },
  {
   "cell_type": "code",
   "execution_count": 24,
   "id": "a57a72aa",
   "metadata": {},
   "outputs": [],
   "source": [
    "randomSelection = random.choices(range(len(df)), k=1000) \n",
    "# we're going to work with 1000 reviews to lessen run times\n",
    "#randomSelection"
   ]
  },
  {
   "cell_type": "code",
   "execution_count": 25,
   "id": "3a327714",
   "metadata": {},
   "outputs": [
    {
     "data": {
      "text/html": [
       "<div>\n",
       "<style scoped>\n",
       "    .dataframe tbody tr th:only-of-type {\n",
       "        vertical-align: middle;\n",
       "    }\n",
       "\n",
       "    .dataframe tbody tr th {\n",
       "        vertical-align: top;\n",
       "    }\n",
       "\n",
       "    .dataframe thead th {\n",
       "        text-align: right;\n",
       "    }\n",
       "</style>\n",
       "<table border=\"1\" class=\"dataframe\">\n",
       "  <thead>\n",
       "    <tr style=\"text-align: right;\">\n",
       "      <th></th>\n",
       "      <th>Unnamed: 0</th>\n",
       "      <th>overall</th>\n",
       "      <th>verified</th>\n",
       "      <th>reviewTime</th>\n",
       "      <th>reviewerID</th>\n",
       "      <th>asin</th>\n",
       "      <th>style</th>\n",
       "      <th>reviewerName</th>\n",
       "      <th>reviewText</th>\n",
       "      <th>summary</th>\n",
       "      <th>unixReviewTime</th>\n",
       "      <th>vote</th>\n",
       "      <th>image</th>\n",
       "      <th>ReviewTime</th>\n",
       "      <th>Year</th>\n",
       "      <th>zero shot facebook/bart-large-mnli</th>\n",
       "      <th>endorsement per zero shot facebook/bart-large-mnli</th>\n",
       "      <th>disapproval per zero shot facebook/bart-large-mnli</th>\n",
       "      <th>NER dslim bert-base</th>\n",
       "      <th>Num of Recognized Entites dslim bert-base</th>\n",
       "    </tr>\n",
       "  </thead>\n",
       "  <tbody>\n",
       "    <tr>\n",
       "      <th>0</th>\n",
       "      <td>319057</td>\n",
       "      <td>1</td>\n",
       "      <td>False</td>\n",
       "      <td>11 19, 2016</td>\n",
       "      <td>A2WULF7HX5QRW6</td>\n",
       "      <td>B01019T6O0</td>\n",
       "      <td>{'Style:': ' USB Flash Drive'}</td>\n",
       "      <td>fazil</td>\n",
       "      <td>Windows 10 updates all the time! Causing my co...</td>\n",
       "      <td>Garbage!</td>\n",
       "      <td>1479513600</td>\n",
       "      <td>NaN</td>\n",
       "      <td>NaN</td>\n",
       "      <td>2016-11-19 00:00:00</td>\n",
       "      <td>2016</td>\n",
       "      <td>{'sequence': 'Windows 10 updates all the time!...</td>\n",
       "      <td>0.199932</td>\n",
       "      <td>0.800068</td>\n",
       "      <td>[{'entity': 'B-MISC', 'score': 0.9983368, 'ind...</td>\n",
       "      <td>2</td>\n",
       "    </tr>\n",
       "    <tr>\n",
       "      <th>1</th>\n",
       "      <td>351090</td>\n",
       "      <td>5</td>\n",
       "      <td>True</td>\n",
       "      <td>12 30, 2015</td>\n",
       "      <td>A2LDZGQKQTBLKE</td>\n",
       "      <td>B01637REAM</td>\n",
       "      <td>{'Platform:': ' PC Download'}</td>\n",
       "      <td>joe d</td>\n",
       "      <td>I have been using turbo tax from the start way...</td>\n",
       "      <td>Still The Best</td>\n",
       "      <td>1451433600</td>\n",
       "      <td>NaN</td>\n",
       "      <td>NaN</td>\n",
       "      <td>2015-12-30 00:00:00</td>\n",
       "      <td>2015</td>\n",
       "      <td>{'sequence': 'I have been using turbo tax from...</td>\n",
       "      <td>0.847972</td>\n",
       "      <td>0.152028</td>\n",
       "      <td>[{'entity': 'B-ORG', 'score': 0.9976609, 'inde...</td>\n",
       "      <td>3</td>\n",
       "    </tr>\n",
       "    <tr>\n",
       "      <th>2</th>\n",
       "      <td>391520</td>\n",
       "      <td>1</td>\n",
       "      <td>False</td>\n",
       "      <td>06 29, 2007</td>\n",
       "      <td>AOWZQAE1TO0IA</td>\n",
       "      <td>B000AMPJPY</td>\n",
       "      <td>NaN</td>\n",
       "      <td>Science Minded</td>\n",
       "      <td>Very Buggy software that needs some rewriting....</td>\n",
       "      <td>Don't expect any help</td>\n",
       "      <td>1183075200</td>\n",
       "      <td>NaN</td>\n",
       "      <td>NaN</td>\n",
       "      <td>2007-06-29 00:00:00</td>\n",
       "      <td>2007</td>\n",
       "      <td>{'sequence': 'Very Buggy software that needs s...</td>\n",
       "      <td>0.287219</td>\n",
       "      <td>0.712781</td>\n",
       "      <td>[{'entity': 'B-MISC', 'score': 0.63482374, 'in...</td>\n",
       "      <td>1</td>\n",
       "    </tr>\n",
       "  </tbody>\n",
       "</table>\n",
       "</div>"
      ],
      "text/plain": [
       "   Unnamed: 0  overall  verified   reviewTime      reviewerID        asin  \\\n",
       "0      319057        1     False  11 19, 2016  A2WULF7HX5QRW6  B01019T6O0   \n",
       "1      351090        5      True  12 30, 2015  A2LDZGQKQTBLKE  B01637REAM   \n",
       "2      391520        1     False  06 29, 2007   AOWZQAE1TO0IA  B000AMPJPY   \n",
       "\n",
       "                            style    reviewerName  \\\n",
       "0  {'Style:': ' USB Flash Drive'}           fazil   \n",
       "1   {'Platform:': ' PC Download'}           joe d   \n",
       "2                             NaN  Science Minded   \n",
       "\n",
       "                                          reviewText                summary  \\\n",
       "0  Windows 10 updates all the time! Causing my co...               Garbage!   \n",
       "1  I have been using turbo tax from the start way...         Still The Best   \n",
       "2  Very Buggy software that needs some rewriting....  Don't expect any help   \n",
       "\n",
       "   unixReviewTime vote image           ReviewTime  Year  \\\n",
       "0      1479513600  NaN   NaN  2016-11-19 00:00:00  2016   \n",
       "1      1451433600  NaN   NaN  2015-12-30 00:00:00  2015   \n",
       "2      1183075200  NaN   NaN  2007-06-29 00:00:00  2007   \n",
       "\n",
       "                  zero shot facebook/bart-large-mnli  \\\n",
       "0  {'sequence': 'Windows 10 updates all the time!...   \n",
       "1  {'sequence': 'I have been using turbo tax from...   \n",
       "2  {'sequence': 'Very Buggy software that needs s...   \n",
       "\n",
       "   endorsement per zero shot facebook/bart-large-mnli  \\\n",
       "0                                           0.199932    \n",
       "1                                           0.847972    \n",
       "2                                           0.287219    \n",
       "\n",
       "   disapproval per zero shot facebook/bart-large-mnli  \\\n",
       "0                                           0.800068    \n",
       "1                                           0.152028    \n",
       "2                                           0.712781    \n",
       "\n",
       "                                 NER dslim bert-base  \\\n",
       "0  [{'entity': 'B-MISC', 'score': 0.9983368, 'ind...   \n",
       "1  [{'entity': 'B-ORG', 'score': 0.9976609, 'inde...   \n",
       "2  [{'entity': 'B-MISC', 'score': 0.63482374, 'in...   \n",
       "\n",
       "   Num of Recognized Entites dslim bert-base  \n",
       "0                                          2  \n",
       "1                                          3  \n",
       "2                                          1  "
      ]
     },
     "execution_count": 25,
     "metadata": {},
     "output_type": "execute_result"
    }
   ],
   "source": [
    "df1000ReadIn = False\n",
    "try:\n",
    "    df1000 = pd.read_csv(\"df1000.csv\")\n",
    "    df1000ReadIn = True\n",
    "except:\n",
    "\n",
    "    df1000 = df.loc[randomSelection,]\n",
    "df1000.head(3)"
   ]
  },
  {
   "cell_type": "code",
   "execution_count": 67,
   "id": "f4abea90",
   "metadata": {},
   "outputs": [
    {
     "data": {
      "image/png": "[encoded data removed]",
      "text/plain": [
       "<Figure size 432x288 with 1 Axes>"
      ]
     },
     "metadata": {},
     "output_type": "display_data"
    }
   ],
   "source": [
    "sns.set(style=\"darkgrid\")\n",
    "sns.histplot(df1000['overall']).set(\n",
    "    title = \"Distribution of reviews for Software - 1000 random entries\",\n",
    "    xlabel = 'Review Score')\n",
    "plt.xticks([1,2,3,4,5])\n",
    "plt.show()"
   ]
  },
  {
   "cell_type": "markdown",
   "id": "89c17498",
   "metadata": {},
   "source": [
    "<i>This histogram of 1000 random rows resembles the one for the entire dataset.</i>"
   ]
  },
  {
   "cell_type": "code",
   "execution_count": 27,
   "id": "91979aad",
   "metadata": {},
   "outputs": [
    {
     "name": "stdout",
     "output_type": "stream",
     "text": [
      "The average score in the dataset was 3.57 whereas \n",
      "the mean score for the 1000 random rows was 3.55.\n"
     ]
    }
   ],
   "source": [
    "print(\"\"\"The average score in the dataset was {} whereas \n",
    "the mean score for the 1000 random rows was {}.\"\"\".format(\n",
    "round(df['overall'].mean(), 2),\n",
    "round(df1000['overall'].mean(), 2)\n",
    "     ))"
   ]
  },
  {
   "cell_type": "markdown",
   "id": "38a68cd2",
   "metadata": {},
   "source": [
    "##### More rigourous comparisons of the dataset to the 1000 random samples could be done, but I'd say this 1000 random rows is representaive enough of the dataset for our NLP puproses.\n",
    "---------------"
   ]
  },
  {
   "cell_type": "markdown",
   "id": "6b91f134",
   "metadata": {},
   "source": [
    "We'll also be making a df25 of the first 25 rows for troubleshooting, testing, and the reapply it all to the df1000 later."
   ]
  },
  {
   "cell_type": "code",
   "execution_count": 28,
   "id": "82e69dc7",
   "metadata": {},
   "outputs": [
    {
     "data": {
      "text/html": [
       "<div>\n",
       "<style scoped>\n",
       "    .dataframe tbody tr th:only-of-type {\n",
       "        vertical-align: middle;\n",
       "    }\n",
       "\n",
       "    .dataframe tbody tr th {\n",
       "        vertical-align: top;\n",
       "    }\n",
       "\n",
       "    .dataframe thead th {\n",
       "        text-align: right;\n",
       "    }\n",
       "</style>\n",
       "<table border=\"1\" class=\"dataframe\">\n",
       "  <thead>\n",
       "    <tr style=\"text-align: right;\">\n",
       "      <th></th>\n",
       "      <th>overall</th>\n",
       "      <th>verified</th>\n",
       "      <th>reviewTime</th>\n",
       "      <th>reviewerID</th>\n",
       "      <th>style</th>\n",
       "      <th>reviewerName</th>\n",
       "      <th>reviewText</th>\n",
       "      <th>summary</th>\n",
       "      <th>unixReviewTime</th>\n",
       "      <th>ReviewTime</th>\n",
       "      <th>Year</th>\n",
       "    </tr>\n",
       "  </thead>\n",
       "  <tbody>\n",
       "    <tr>\n",
       "      <th>319057</th>\n",
       "      <td>1</td>\n",
       "      <td>False</td>\n",
       "      <td>11 19, 2016</td>\n",
       "      <td>A2WULF7HX5QRW6</td>\n",
       "      <td>{'Style:': ' USB Flash Drive'}</td>\n",
       "      <td>fazil</td>\n",
       "      <td>Windows 10 updates all the time! Causing my co...</td>\n",
       "      <td>Garbage!</td>\n",
       "      <td>1479513600</td>\n",
       "      <td>2016-11-19 00:00:00</td>\n",
       "      <td>2016</td>\n",
       "    </tr>\n",
       "    <tr>\n",
       "      <th>351090</th>\n",
       "      <td>5</td>\n",
       "      <td>True</td>\n",
       "      <td>12 30, 2015</td>\n",
       "      <td>A2LDZGQKQTBLKE</td>\n",
       "      <td>{'Platform:': ' PC Download'}</td>\n",
       "      <td>joe d</td>\n",
       "      <td>I have been using turbo tax from the start way...</td>\n",
       "      <td>Still The Best</td>\n",
       "      <td>1451433600</td>\n",
       "      <td>2015-12-30 00:00:00</td>\n",
       "      <td>2015</td>\n",
       "    </tr>\n",
       "  </tbody>\n",
       "</table>\n",
       "</div>"
      ],
      "text/plain": [
       "        overall  verified   reviewTime      reviewerID  \\\n",
       "319057        1     False  11 19, 2016  A2WULF7HX5QRW6   \n",
       "351090        5      True  12 30, 2015  A2LDZGQKQTBLKE   \n",
       "\n",
       "                                 style reviewerName  \\\n",
       "319057  {'Style:': ' USB Flash Drive'}        fazil   \n",
       "351090   {'Platform:': ' PC Download'}        joe d   \n",
       "\n",
       "                                               reviewText         summary  \\\n",
       "319057  Windows 10 updates all the time! Causing my co...        Garbage!   \n",
       "351090  I have been using turbo tax from the start way...  Still The Best   \n",
       "\n",
       "        unixReviewTime           ReviewTime  Year  \n",
       "319057      1479513600  2016-11-19 00:00:00  2016  \n",
       "351090      1451433600  2015-12-30 00:00:00  2015  "
      ]
     },
     "execution_count": 28,
     "metadata": {},
     "output_type": "execute_result"
    }
   ],
   "source": [
    "df25 = df.loc[randomSelection[:25]]\n",
    "df25.head(2)"
   ]
  },
  {
   "cell_type": "code",
   "execution_count": 29,
   "id": "d7771502",
   "metadata": {},
   "outputs": [
    {
     "data": {
      "image/png": "[encoded data removed]",
      "text/plain": [
       "<Figure size 432x288 with 1 Axes>"
      ]
     },
     "metadata": {},
     "output_type": "display_data"
    }
   ],
   "source": [
    "temp = [len(i) for i in df1000['reviewText']]\n",
    "\n",
    "sns.set_theme(style=\"ticks\", palette=\"pastel\")\n",
    "\n",
    "sns.boxplot(x=\"overall\", y=temp,\n",
    "            data=df1000).\\\n",
    "set(title = \"Length of Reviews by rating (n=1000)\",\n",
    "                                        xlabel = 'Review Score', \n",
    "                           ylabel = 'Length of reviews (in charachters)')\n",
    "sns.despine(offset=10, trim=True)\n",
    "\n",
    "del temp"
   ]
  },
  {
   "cell_type": "markdown",
   "id": "5ac54439",
   "metadata": {},
   "source": [
    "##### There doesn't seem to be clear or strong relationship between the length of a review and the rating.  It does seem that 5-star reviews seem to be a bit shorter.  "
   ]
  },
  {
   "cell_type": "markdown",
   "id": "c50d23ce",
   "metadata": {},
   "source": [
    "##### Defining the voabulary of the reviews:"
   ]
  },
  {
   "cell_type": "code",
   "execution_count": 30,
   "id": "1b8c6dcd",
   "metadata": {},
   "outputs": [],
   "source": [
    "vocab= []\n",
    "for c, r in df1000.iterrows():\n",
    "    tokens =( nltk.word_tokenize(r['reviewText']) )\n",
    "    for token in tokens:\n",
    "        vocab.append(token)"
   ]
  },
  {
   "cell_type": "code",
   "execution_count": 31,
   "id": "214ef987",
   "metadata": {},
   "outputs": [
    {
     "name": "stdout",
     "output_type": "stream",
     "text": [
      "There are 7567 unique words in our random 1000 reviews.\n"
     ]
    }
   ],
   "source": [
    "vocabulary = set(vocab) # to assure no duplicates.  As of now, we haven't handled capitalization\n",
    "print(\"There are {} unique words in our random {} reviews.\".format(len(vocabulary), len(df1000)) )"
   ]
  },
  {
   "cell_type": "markdown",
   "id": "6148a013",
   "metadata": {},
   "source": [
    "## <p>Hugging Face</p>"
   ]
  },
  {
   "cell_type": "markdown",
   "id": "7c206476",
   "metadata": {},
   "source": [
    "https://huggingface.co/"
   ]
  },
  {
   "cell_type": "markdown",
   "id": "7726a42e",
   "metadata": {},
   "source": [
    "The following cells will perform text analysis using models from the Hugging Face model hub "
   ]
  },
  {
   "cell_type": "markdown",
   "id": "5370443a",
   "metadata": {},
   "source": [
    "### Sentiment Analysis\n",
    "https://huggingface.co/distilbert-base-uncased-finetuned-sst-2-english\n",
    "<p>In this section, the model will return a label of whether a given input text is potivie or negative and an associated score."
   ]
  },
  {
   "cell_type": "code",
   "execution_count": 32,
   "id": "3159ec94",
   "metadata": {},
   "outputs": [
    {
     "name": "stderr",
     "output_type": "stream",
     "text": [
      "No model was supplied, defaulted to distilbert-base-uncased-finetuned-sst-2-english (https://huggingface.co/distilbert-base-uncased-finetuned-sst-2-english)\n"
     ]
    }
   ],
   "source": [
    "classifier = pipeline(\"sentiment-analysis\")\n",
    "currentClassifierType = \"sentiment-analysis\" #This variable will be updated throughtout the notebook\n",
    "#It assures that the correct classifier is in user\n",
    "#Run the notebook in order to assure proper classifier\n",
    "\n",
    "\n",
    "#This cell will download models the first time it's run.  \n",
    "#These are large so don't use a metered connection if possible.\n",
    "#default model used, link here:\n",
    "#https://huggingface.co/distilbert-base-uncased-finetuned-sst-2-english"
   ]
  },
  {
   "cell_type": "code",
   "execution_count": 33,
   "id": "75259c96",
   "metadata": {},
   "outputs": [],
   "source": [
    "def performDefaultSetntimentAnalysis(x):\n",
    "    if(currentClassifierType != \"sentiment-analysis\"):\n",
    "        print(\"You're using the wrong classifier!  Run the notebook in order.\")\n",
    "        return None\n",
    "    try:\n",
    "        return classifier(x)\n",
    "    except:\n",
    "        return\"UNKNOWN\""
   ]
  },
  {
   "cell_type": "code",
   "execution_count": 34,
   "id": "fb372af3",
   "metadata": {},
   "outputs": [
    {
     "name": "stderr",
     "output_type": "stream",
     "text": [
      "100%|██████████| 25/25 [00:00<?, ?it/s]\n"
     ]
    }
   ],
   "source": [
    "\n",
    "df25['distilbert-base-uncased sentiment-analysis'] = tqdm(\n",
    "    df25['reviewText'].apply(performDefaultSetntimentAnalysis)\n",
    ",total = len(df25))\n",
    "#This cell will take several minutes to run"
   ]
  },
  {
   "cell_type": "code",
   "execution_count": 35,
   "id": "5c47bd80",
   "metadata": {},
   "outputs": [
    {
     "data": {
      "text/html": [
       "<div>\n",
       "<style scoped>\n",
       "    .dataframe tbody tr th:only-of-type {\n",
       "        vertical-align: middle;\n",
       "    }\n",
       "\n",
       "    .dataframe tbody tr th {\n",
       "        vertical-align: top;\n",
       "    }\n",
       "\n",
       "    .dataframe thead th {\n",
       "        text-align: right;\n",
       "    }\n",
       "</style>\n",
       "<table border=\"1\" class=\"dataframe\">\n",
       "  <thead>\n",
       "    <tr style=\"text-align: right;\">\n",
       "      <th></th>\n",
       "      <th>overall</th>\n",
       "      <th>verified</th>\n",
       "      <th>reviewTime</th>\n",
       "      <th>reviewerID</th>\n",
       "      <th>style</th>\n",
       "      <th>reviewerName</th>\n",
       "      <th>reviewText</th>\n",
       "      <th>summary</th>\n",
       "      <th>unixReviewTime</th>\n",
       "      <th>ReviewTime</th>\n",
       "      <th>Year</th>\n",
       "      <th>distilbert-base-uncased sentiment-analysis</th>\n",
       "    </tr>\n",
       "  </thead>\n",
       "  <tbody>\n",
       "    <tr>\n",
       "      <th>319057</th>\n",
       "      <td>1</td>\n",
       "      <td>False</td>\n",
       "      <td>11 19, 2016</td>\n",
       "      <td>A2WULF7HX5QRW6</td>\n",
       "      <td>{'Style:': ' USB Flash Drive'}</td>\n",
       "      <td>fazil</td>\n",
       "      <td>Windows 10 updates all the time! Causing my co...</td>\n",
       "      <td>Garbage!</td>\n",
       "      <td>1479513600</td>\n",
       "      <td>2016-11-19 00:00:00</td>\n",
       "      <td>2016</td>\n",
       "      <td>[{'label': 'NEGATIVE', 'score': 0.999703466892...</td>\n",
       "    </tr>\n",
       "    <tr>\n",
       "      <th>351090</th>\n",
       "      <td>5</td>\n",
       "      <td>True</td>\n",
       "      <td>12 30, 2015</td>\n",
       "      <td>A2LDZGQKQTBLKE</td>\n",
       "      <td>{'Platform:': ' PC Download'}</td>\n",
       "      <td>joe d</td>\n",
       "      <td>I have been using turbo tax from the start way...</td>\n",
       "      <td>Still The Best</td>\n",
       "      <td>1451433600</td>\n",
       "      <td>2015-12-30 00:00:00</td>\n",
       "      <td>2015</td>\n",
       "      <td>[{'label': 'NEGATIVE', 'score': 0.993547618389...</td>\n",
       "    </tr>\n",
       "    <tr>\n",
       "      <th>391520</th>\n",
       "      <td>1</td>\n",
       "      <td>False</td>\n",
       "      <td>06 29, 2007</td>\n",
       "      <td>AOWZQAE1TO0IA</td>\n",
       "      <td>NaN</td>\n",
       "      <td>Science Minded</td>\n",
       "      <td>Very Buggy software that needs some rewriting....</td>\n",
       "      <td>Don't expect any help</td>\n",
       "      <td>1183075200</td>\n",
       "      <td>2007-06-29 00:00:00</td>\n",
       "      <td>2007</td>\n",
       "      <td>[{'label': 'NEGATIVE', 'score': 0.999778926372...</td>\n",
       "    </tr>\n",
       "  </tbody>\n",
       "</table>\n",
       "</div>"
      ],
      "text/plain": [
       "        overall  verified   reviewTime      reviewerID  \\\n",
       "319057        1     False  11 19, 2016  A2WULF7HX5QRW6   \n",
       "351090        5      True  12 30, 2015  A2LDZGQKQTBLKE   \n",
       "391520        1     False  06 29, 2007   AOWZQAE1TO0IA   \n",
       "\n",
       "                                 style    reviewerName  \\\n",
       "319057  {'Style:': ' USB Flash Drive'}           fazil   \n",
       "351090   {'Platform:': ' PC Download'}           joe d   \n",
       "391520                             NaN  Science Minded   \n",
       "\n",
       "                                               reviewText  \\\n",
       "319057  Windows 10 updates all the time! Causing my co...   \n",
       "351090  I have been using turbo tax from the start way...   \n",
       "391520  Very Buggy software that needs some rewriting....   \n",
       "\n",
       "                      summary  unixReviewTime           ReviewTime  Year  \\\n",
       "319057               Garbage!      1479513600  2016-11-19 00:00:00  2016   \n",
       "351090         Still The Best      1451433600  2015-12-30 00:00:00  2015   \n",
       "391520  Don't expect any help      1183075200  2007-06-29 00:00:00  2007   \n",
       "\n",
       "               distilbert-base-uncased sentiment-analysis  \n",
       "319057  [{'label': 'NEGATIVE', 'score': 0.999703466892...  \n",
       "351090  [{'label': 'NEGATIVE', 'score': 0.993547618389...  \n",
       "391520  [{'label': 'NEGATIVE', 'score': 0.999778926372...  "
      ]
     },
     "execution_count": 35,
     "metadata": {},
     "output_type": "execute_result"
    }
   ],
   "source": [
    "df25.head(3)"
   ]
  },
  {
   "cell_type": "code",
   "execution_count": 36,
   "id": "90cd984c",
   "metadata": {},
   "outputs": [],
   "source": [
    "#df25.iloc[0:14,-1]"
   ]
  },
  {
   "cell_type": "code",
   "execution_count": 37,
   "id": "54c474b8",
   "metadata": {},
   "outputs": [],
   "source": [
    "negatives = []\n",
    "positives =[]\n",
    "\n",
    "for c,r in df25.iterrows():\n",
    "    #print(r['distilbert-base-uncased sentiment-analysis'][0])\n",
    "    if(r['distilbert-base-uncased sentiment-analysis'][0]['label']== 'NEGATIVE'):\n",
    "        negatives.append(r['distilbert-base-uncased sentiment-analysis'][0]['score'])\n",
    "        positives.append(0)\n",
    "    else:\n",
    "        negatives.append(0)\n",
    "        positives.append(r['distilbert-base-uncased sentiment-analysis'][0]['score'])"
   ]
  },
  {
   "cell_type": "code",
   "execution_count": 38,
   "id": "5a46c129",
   "metadata": {},
   "outputs": [],
   "source": [
    "df25['positive sentiment-analysis'] = positives\n",
    "df25['negative sentiment-analysis'] = negatives"
   ]
  },
  {
   "cell_type": "code",
   "execution_count": 39,
   "id": "a2680822",
   "metadata": {},
   "outputs": [
    {
     "name": "stderr",
     "output_type": "stream",
     "text": [
      "Token indices sequence length is longer than the specified maximum sequence length for this model (716 > 512). Running this sequence through the model will result in indexing errors\n",
      "1000it [00:00, 999834.09it/s]         \n"
     ]
    }
   ],
   "source": [
    "if( (not(df1000ReadIn)) | ('distilbert-base-uncased sentiment-analysis' not in df1000) ):\n",
    "    df1000['distilbert-base-uncased sentiment-analysis'] = tqdm(\n",
    "    df1000['reviewText'].apply(performDefaultSetntimentAnalysis)\n",
    ",total = len(df25))\n",
    "    \n",
    "    negatives = []\n",
    "    positives =[]\n",
    "\n",
    "    for c,r in df1000.iterrows():\n",
    "        #print(r['distilbert-base-uncased sentiment-analysis'][0])\n",
    "        if(r['distilbert-base-uncased sentiment-analysis'] != \"UNKNOWN\"):\n",
    "            if(r['distilbert-base-uncased sentiment-analysis'][0]['label']== 'NEGATIVE'):\n",
    "                negatives.append(r['distilbert-base-uncased sentiment-analysis'][0]['score'])\n",
    "                positives.append(0)\n",
    "            elif(r['distilbert-base-uncased sentiment-analysis'][0]['label']== 'POSITIVE'):\n",
    "                negatives.append(0)\n",
    "                positives.append(r['distilbert-base-uncased sentiment-analysis'][0]['score'])\n",
    "        else: #in this case, Sentiment Analysis couldn't be performed\n",
    "            positives.append(0)\n",
    "            negatives.append(0)\n",
    "            \n",
    "            \n",
    "    df1000['positive sentiment-analysis'] = positives\n",
    "    df1000['negative sentiment-analysis'] = negatives\n",
    "else:\n",
    "    print('Skipping this cell, df1000 with sentiment analysis read in earlier.')"
   ]
  },
  {
   "cell_type": "code",
   "execution_count": 40,
   "id": "6a280038",
   "metadata": {},
   "outputs": [
    {
     "data": {
      "text/html": [
       "<div>\n",
       "<style scoped>\n",
       "    .dataframe tbody tr th:only-of-type {\n",
       "        vertical-align: middle;\n",
       "    }\n",
       "\n",
       "    .dataframe tbody tr th {\n",
       "        vertical-align: top;\n",
       "    }\n",
       "\n",
       "    .dataframe thead th {\n",
       "        text-align: right;\n",
       "    }\n",
       "</style>\n",
       "<table border=\"1\" class=\"dataframe\">\n",
       "  <thead>\n",
       "    <tr style=\"text-align: right;\">\n",
       "      <th></th>\n",
       "      <th>Unnamed: 0</th>\n",
       "      <th>overall</th>\n",
       "      <th>verified</th>\n",
       "      <th>reviewTime</th>\n",
       "      <th>reviewerID</th>\n",
       "      <th>asin</th>\n",
       "      <th>style</th>\n",
       "      <th>reviewerName</th>\n",
       "      <th>reviewText</th>\n",
       "      <th>summary</th>\n",
       "      <th>...</th>\n",
       "      <th>ReviewTime</th>\n",
       "      <th>Year</th>\n",
       "      <th>zero shot facebook/bart-large-mnli</th>\n",
       "      <th>endorsement per zero shot facebook/bart-large-mnli</th>\n",
       "      <th>disapproval per zero shot facebook/bart-large-mnli</th>\n",
       "      <th>NER dslim bert-base</th>\n",
       "      <th>Num of Recognized Entites dslim bert-base</th>\n",
       "      <th>distilbert-base-uncased sentiment-analysis</th>\n",
       "      <th>positive sentiment-analysis</th>\n",
       "      <th>negative sentiment-analysis</th>\n",
       "    </tr>\n",
       "  </thead>\n",
       "  <tbody>\n",
       "    <tr>\n",
       "      <th>0</th>\n",
       "      <td>319057</td>\n",
       "      <td>1</td>\n",
       "      <td>False</td>\n",
       "      <td>11 19, 2016</td>\n",
       "      <td>A2WULF7HX5QRW6</td>\n",
       "      <td>B01019T6O0</td>\n",
       "      <td>{'Style:': ' USB Flash Drive'}</td>\n",
       "      <td>fazil</td>\n",
       "      <td>Windows 10 updates all the time! Causing my co...</td>\n",
       "      <td>Garbage!</td>\n",
       "      <td>...</td>\n",
       "      <td>2016-11-19 00:00:00</td>\n",
       "      <td>2016</td>\n",
       "      <td>{'sequence': 'Windows 10 updates all the time!...</td>\n",
       "      <td>0.199932</td>\n",
       "      <td>0.800068</td>\n",
       "      <td>[{'entity': 'B-MISC', 'score': 0.9983368, 'ind...</td>\n",
       "      <td>2</td>\n",
       "      <td>[{'label': 'NEGATIVE', 'score': 0.999703466892...</td>\n",
       "      <td>0.0</td>\n",
       "      <td>0.999703</td>\n",
       "    </tr>\n",
       "    <tr>\n",
       "      <th>1</th>\n",
       "      <td>351090</td>\n",
       "      <td>5</td>\n",
       "      <td>True</td>\n",
       "      <td>12 30, 2015</td>\n",
       "      <td>A2LDZGQKQTBLKE</td>\n",
       "      <td>B01637REAM</td>\n",
       "      <td>{'Platform:': ' PC Download'}</td>\n",
       "      <td>joe d</td>\n",
       "      <td>I have been using turbo tax from the start way...</td>\n",
       "      <td>Still The Best</td>\n",
       "      <td>...</td>\n",
       "      <td>2015-12-30 00:00:00</td>\n",
       "      <td>2015</td>\n",
       "      <td>{'sequence': 'I have been using turbo tax from...</td>\n",
       "      <td>0.847972</td>\n",
       "      <td>0.152028</td>\n",
       "      <td>[{'entity': 'B-ORG', 'score': 0.9976609, 'inde...</td>\n",
       "      <td>3</td>\n",
       "      <td>[{'label': 'NEGATIVE', 'score': 0.993547618389...</td>\n",
       "      <td>0.0</td>\n",
       "      <td>0.993548</td>\n",
       "    </tr>\n",
       "  </tbody>\n",
       "</table>\n",
       "<p>2 rows × 23 columns</p>\n",
       "</div>"
      ],
      "text/plain": [
       "   Unnamed: 0  overall  verified   reviewTime      reviewerID        asin  \\\n",
       "0      319057        1     False  11 19, 2016  A2WULF7HX5QRW6  B01019T6O0   \n",
       "1      351090        5      True  12 30, 2015  A2LDZGQKQTBLKE  B01637REAM   \n",
       "\n",
       "                            style reviewerName  \\\n",
       "0  {'Style:': ' USB Flash Drive'}        fazil   \n",
       "1   {'Platform:': ' PC Download'}        joe d   \n",
       "\n",
       "                                          reviewText         summary  ...  \\\n",
       "0  Windows 10 updates all the time! Causing my co...        Garbage!  ...   \n",
       "1  I have been using turbo tax from the start way...  Still The Best  ...   \n",
       "\n",
       "            ReviewTime  Year  \\\n",
       "0  2016-11-19 00:00:00  2016   \n",
       "1  2015-12-30 00:00:00  2015   \n",
       "\n",
       "                  zero shot facebook/bart-large-mnli  \\\n",
       "0  {'sequence': 'Windows 10 updates all the time!...   \n",
       "1  {'sequence': 'I have been using turbo tax from...   \n",
       "\n",
       "  endorsement per zero shot facebook/bart-large-mnli  \\\n",
       "0                                           0.199932   \n",
       "1                                           0.847972   \n",
       "\n",
       "   disapproval per zero shot facebook/bart-large-mnli  \\\n",
       "0                                           0.800068    \n",
       "1                                           0.152028    \n",
       "\n",
       "                                 NER dslim bert-base  \\\n",
       "0  [{'entity': 'B-MISC', 'score': 0.9983368, 'ind...   \n",
       "1  [{'entity': 'B-ORG', 'score': 0.9976609, 'inde...   \n",
       "\n",
       "   Num of Recognized Entites dslim bert-base  \\\n",
       "0                                          2   \n",
       "1                                          3   \n",
       "\n",
       "          distilbert-base-uncased sentiment-analysis  \\\n",
       "0  [{'label': 'NEGATIVE', 'score': 0.999703466892...   \n",
       "1  [{'label': 'NEGATIVE', 'score': 0.993547618389...   \n",
       "\n",
       "  positive sentiment-analysis  negative sentiment-analysis  \n",
       "0                         0.0                     0.999703  \n",
       "1                         0.0                     0.993548  \n",
       "\n",
       "[2 rows x 23 columns]"
      ]
     },
     "execution_count": 40,
     "metadata": {},
     "output_type": "execute_result"
    }
   ],
   "source": [
    "df1000.head(2)"
   ]
  },
  {
   "cell_type": "code",
   "execution_count": 41,
   "id": "c7af801c",
   "metadata": {},
   "outputs": [
    {
     "data": {
      "image/png": "[encoded data removed]",
      "text/plain": [
       "<Figure size 432x288 with 1 Axes>"
      ]
     },
     "metadata": {},
     "output_type": "display_data"
    }
   ],
   "source": [
    "sns.boxplot(x=\"overall\", y=\"positive sentiment-analysis\",\n",
    "            data=df1000[df1000['positive sentiment-analysis']>0])\\\n",
    ".set(title = \"Positivity of sentiment analysis by rating\",\n",
    "                                        xlabel = 'Review Score', \n",
    "                           ylabel = 'Degree of Positivity')\n",
    "sns.despine(offset=10, trim=True)\n",
    "\n",
    "plt.show()"
   ]
  },
  {
   "cell_type": "markdown",
   "id": "60f98800",
   "metadata": {},
   "source": [
    "##### The above graph shows that the positivite sentiment is more concentrated around a score of 5 stars, meaning very positive, in sentiment analysis for 5-star reviews.  But the lower-star reviews have a more of a spread and a lower median positivity."
   ]
  },
  {
   "cell_type": "code",
   "execution_count": 42,
   "id": "ceee23b3",
   "metadata": {},
   "outputs": [
    {
     "data": {
      "image/png": "[encoded data removed]",
      "text/plain": [
       "<Figure size 432x288 with 1 Axes>"
      ]
     },
     "metadata": {},
     "output_type": "display_data"
    }
   ],
   "source": [
    "sns.set_theme(style=\"ticks\", palette=\"pastel\")\n",
    "sns.boxplot(x=\"overall\", y=\"negative sentiment-analysis\",\n",
    "            data=df1000[df1000['negative sentiment-analysis']>0])\\\n",
    ".set(title = \"Negativity of sentiment analysis by rating (n=25)\",\n",
    "                                        xlabel = 'Review Score', \n",
    "                           ylabel = 'Degree of Negativity')\n",
    "sns.despine(offset=10, trim=True)\n",
    "plt.show()"
   ]
  },
  {
   "cell_type": "markdown",
   "id": "e12edbc6",
   "metadata": {},
   "source": [
    "###### This graph conveys the inverse infromation of the one directly above it.  It shows that the <b>negativity</b> is more concentrated around a score of 1 star.  The Higher-star reviews have a more of a spread and a lower median negativity."
   ]
  },
  {
   "cell_type": "markdown",
   "id": "d2a49333",
   "metadata": {},
   "source": [
    "## Zero-Shot classification\n",
    "https://huggingface.co/facebook/bart-large-mnli\n",
    "<p> Using this model, we \"force\" the model to choose whether a given statement is more of an <b>endorsement</b> or more of a <b>disapproval</b>.  The model will also generate a score given to "
   ]
  },
  {
   "cell_type": "code",
   "execution_count": 43,
   "id": "bf2bf681",
   "metadata": {},
   "outputs": [
    {
     "name": "stderr",
     "output_type": "stream",
     "text": [
      "No model was supplied, defaulted to facebook/bart-large-mnli (https://huggingface.co/facebook/bart-large-mnli)\n"
     ]
    },
    {
     "data": {
      "text/plain": [
       "transformers.pipelines.zero_shot_classification.ZeroShotClassificationPipeline"
      ]
     },
     "execution_count": 43,
     "metadata": {},
     "output_type": "execute_result"
    }
   ],
   "source": [
    "classifier = pipeline(\"zero-shot-classification\")\n",
    "currentClassifierType = \"zero-shot-classification\"\n",
    "type(classifier)\n",
    "#This cell involves a 1.5+ GB download"
   ]
  },
  {
   "cell_type": "code",
   "execution_count": 44,
   "id": "aebbcbd3",
   "metadata": {},
   "outputs": [],
   "source": [
    "def performZeroShotAnalysis(x, labs = ['endorsement','disapproval']):\n",
    "    if (currentClassifierType != \"zero-shot-classification\"):\n",
    "        print(\"You aren't using the right classifer now.  Rerun the cell with the ZeroShot.\")\n",
    "        return None\n",
    "    try:\n",
    "        return classifier (x, candidate_labels = labs)\n",
    "    except:\n",
    "        return \"UNKNOWN\""
   ]
  },
  {
   "cell_type": "code",
   "execution_count": 45,
   "id": "978d157d",
   "metadata": {},
   "outputs": [
    {
     "name": "stderr",
     "output_type": "stream",
     "text": [
      "100%|██████████| 25/25 [00:00<?, ?it/s]\n"
     ]
    }
   ],
   "source": [
    "df25['zero shot facebook/bart-large-mnli'] =  tqdm(df25['reviewText'].\\\n",
    "                                                   apply(performZeroShotAnalysis),\n",
    "                                                  total = len(df25))"
   ]
  },
  {
   "cell_type": "code",
   "execution_count": 46,
   "id": "e791eb55",
   "metadata": {},
   "outputs": [
    {
     "name": "stdout",
     "output_type": "stream",
     "text": [
      "df1000 containing 'zero shot facebook/bart-large-mnli' read in from file.\n",
      "skipping this cell...\n"
     ]
    }
   ],
   "source": [
    "if( (not(df1000ReadIn)) | ('zero shot facebook/bart-large-mnli' not in df1000) ):\n",
    "    df1000['zero shot facebook/bart-large-mnli'] =  tqdm(df1000['reviewText'].\\\n",
    "                                                         apply(performZeroShotAnalysis),\n",
    "                                                    total = len(df1000))\n",
    "else:\n",
    "    print(\"df1000 containing 'zero shot facebook/bart-large-mnli' read in from file.\")\n",
    "    print(\"skipping this cell...\")"
   ]
  },
  {
   "cell_type": "code",
   "execution_count": 47,
   "id": "fa3150fe",
   "metadata": {},
   "outputs": [
    {
     "data": {
      "text/plain": [
       "array([{'sequence': 'Windows 10 updates all the time! Causing my computer to shut down and restart right in the middle of my projects!!! Garbage!', 'labels': ['disapproval', 'endorsement'], 'scores': [0.8000677824020386, 0.1999322772026062]},\n",
       "       {'sequence': 'I have been using turbo tax from the start way back.  One year I even took  it H&R to see if it was anything different but they were charging $230.00  Guess what I am still using Turbo Tax with no regrets.', 'labels': ['endorsement', 'disapproval'], 'scores': [0.8479723930358887, 0.15202759206295013]}],\n",
       "      dtype=object)"
      ]
     },
     "execution_count": 47,
     "metadata": {},
     "output_type": "execute_result"
    }
   ],
   "source": [
    "df25['zero shot facebook/bart-large-mnli'].values[0:2]\n",
    "#notice that the labels, \"endorsement and dissaproval\" change order.  TODO"
   ]
  },
  {
   "cell_type": "code",
   "execution_count": 48,
   "id": "f315bec7",
   "metadata": {},
   "outputs": [],
   "source": [
    "#This function will always get the Endorsment rating first, then the disapproval rating second.\n",
    "#The order can sometimes be given in an unexpected way.\n",
    "#\n",
    "def getEndorsementThenDissaproval(x): #x is a dataframe\n",
    "    endorsementScore = 0\n",
    "    disapprovalScore = 0\n",
    "    try:\n",
    "        if(x['labels'][0]=='endorsement'):\n",
    "            endorsementScore = x['scores'][0]\n",
    "            disapprovalScore = x['scores'][1]\n",
    "            return [endorsementScore, disapprovalScore]\n",
    "        elif (x['labels'][0]=='disapproval'):\n",
    "            endorsementScore = x['scores'][1] #flip-flopped\n",
    "            disapprovalScore = x['scores'][0] \n",
    "            return [endorsementScore, disapprovalScore]\n",
    "        else:\n",
    "            print('something wrong here')\n",
    "            return [-2,-2]\n",
    "    except:\n",
    "        return [-1,-1]"
   ]
  },
  {
   "cell_type": "code",
   "execution_count": 49,
   "id": "7d8d1c49",
   "metadata": {},
   "outputs": [
    {
     "data": {
      "text/plain": [
       "[0.7803976535797119, 0.21960234642028809]"
      ]
     },
     "execution_count": 49,
     "metadata": {},
     "output_type": "execute_result"
    }
   ],
   "source": [
    "getEndorsementThenDissaproval ( df25['zero shot facebook/bart-large-mnli'].values[21] )"
   ]
  },
  {
   "cell_type": "code",
   "execution_count": 50,
   "id": "cadce929",
   "metadata": {},
   "outputs": [
    {
     "data": {
      "text/plain": [
       "{'sequence': 'This game may be old, but it\\'s still fun to play. You can choose the character you want to race with from over 10 characters, including SpongeBob, Catdog, Angelica, and, when you win in all three cups, the Mystery Rider. Even when you reveal who the Mystery Rider is, you can keep playing the game and win gold in the medium and hard modes. Once you beat every cup in every difficulty level, you can ride in a bonus round, which, in my opinion, is not that fun. In the bonus round, you\\'re not racing against other characters. Instead, you have to collect a bunch of presents under the amount of time given. Besides that, the rest of the game is fun. The best part of this game is that every time you race, whether in a cup or just for fun, different things happen, which are usually funny. For example, some of the worlds have a few \"glitch spots,\" which cause characters to wind up last. One time, Catdog got stuck on the wall of an obstacle, causing them to get 6th place. It looked very funny, because they were trying to back up and nothing happened. Although this game may have a few minor bugs, I still recommend this game to anyone who likes Nicktoons.',\n",
       " 'labels': ['endorsement', 'disapproval'],\n",
       " 'scores': [0.7803976535797119, 0.21960234642028809]}"
      ]
     },
     "execution_count": 50,
     "metadata": {},
     "output_type": "execute_result"
    }
   ],
   "source": [
    "df25['zero shot facebook/bart-large-mnli'].values[21]"
   ]
  },
  {
   "cell_type": "code",
   "execution_count": 51,
   "id": "1b0e793d",
   "metadata": {},
   "outputs": [],
   "source": [
    "endorsementsList = []\n",
    "disapprovalsList =[]\n",
    "for i in df25['zero shot facebook/bart-large-mnli'].index:\n",
    "    endorsementsList.append(\n",
    "        getEndorsementThenDissaproval(\n",
    "        df25['zero shot facebook/bart-large-mnli'][i]\n",
    "                          )[0]\n",
    "    )\n",
    "    disapprovalsList.append(\n",
    "        getEndorsementThenDissaproval(\n",
    "        df25['zero shot facebook/bart-large-mnli'][i]\n",
    "                          )[1]\n",
    "    )\n",
    "\n",
    "#for i in range(len(df25)):\n",
    "#    print(df25['zero shot facebook/bart-large-mnli'][i])"
   ]
  },
  {
   "cell_type": "code",
   "execution_count": 52,
   "id": "6a2b4584",
   "metadata": {},
   "outputs": [],
   "source": [
    "df25['endorsement per zero shot facebook/bart-large-mnli']= endorsementsList\n",
    "df25['disapproval per zero shot facebook/bart-large-mnli']= disapprovalsList"
   ]
  },
  {
   "cell_type": "code",
   "execution_count": 53,
   "id": "5940d1fb",
   "metadata": {},
   "outputs": [
    {
     "data": {
      "text/html": [
       "<div>\n",
       "<style scoped>\n",
       "    .dataframe tbody tr th:only-of-type {\n",
       "        vertical-align: middle;\n",
       "    }\n",
       "\n",
       "    .dataframe tbody tr th {\n",
       "        vertical-align: top;\n",
       "    }\n",
       "\n",
       "    .dataframe thead th {\n",
       "        text-align: right;\n",
       "    }\n",
       "</style>\n",
       "<table border=\"1\" class=\"dataframe\">\n",
       "  <thead>\n",
       "    <tr style=\"text-align: right;\">\n",
       "      <th></th>\n",
       "      <th>overall</th>\n",
       "      <th>verified</th>\n",
       "      <th>reviewTime</th>\n",
       "      <th>reviewerID</th>\n",
       "      <th>style</th>\n",
       "      <th>reviewerName</th>\n",
       "      <th>reviewText</th>\n",
       "      <th>summary</th>\n",
       "      <th>unixReviewTime</th>\n",
       "      <th>ReviewTime</th>\n",
       "      <th>Year</th>\n",
       "      <th>distilbert-base-uncased sentiment-analysis</th>\n",
       "      <th>positive sentiment-analysis</th>\n",
       "      <th>negative sentiment-analysis</th>\n",
       "      <th>zero shot facebook/bart-large-mnli</th>\n",
       "      <th>endorsement per zero shot facebook/bart-large-mnli</th>\n",
       "      <th>disapproval per zero shot facebook/bart-large-mnli</th>\n",
       "    </tr>\n",
       "  </thead>\n",
       "  <tbody>\n",
       "    <tr>\n",
       "      <th>319057</th>\n",
       "      <td>1</td>\n",
       "      <td>False</td>\n",
       "      <td>11 19, 2016</td>\n",
       "      <td>A2WULF7HX5QRW6</td>\n",
       "      <td>{'Style:': ' USB Flash Drive'}</td>\n",
       "      <td>fazil</td>\n",
       "      <td>Windows 10 updates all the time! Causing my co...</td>\n",
       "      <td>Garbage!</td>\n",
       "      <td>1479513600</td>\n",
       "      <td>2016-11-19 00:00:00</td>\n",
       "      <td>2016</td>\n",
       "      <td>[{'label': 'NEGATIVE', 'score': 0.999703466892...</td>\n",
       "      <td>0.0</td>\n",
       "      <td>0.999703</td>\n",
       "      <td>{'sequence': 'Windows 10 updates all the time!...</td>\n",
       "      <td>0.199932</td>\n",
       "      <td>0.800068</td>\n",
       "    </tr>\n",
       "    <tr>\n",
       "      <th>351090</th>\n",
       "      <td>5</td>\n",
       "      <td>True</td>\n",
       "      <td>12 30, 2015</td>\n",
       "      <td>A2LDZGQKQTBLKE</td>\n",
       "      <td>{'Platform:': ' PC Download'}</td>\n",
       "      <td>joe d</td>\n",
       "      <td>I have been using turbo tax from the start way...</td>\n",
       "      <td>Still The Best</td>\n",
       "      <td>1451433600</td>\n",
       "      <td>2015-12-30 00:00:00</td>\n",
       "      <td>2015</td>\n",
       "      <td>[{'label': 'NEGATIVE', 'score': 0.993547618389...</td>\n",
       "      <td>0.0</td>\n",
       "      <td>0.993548</td>\n",
       "      <td>{'sequence': 'I have been using turbo tax from...</td>\n",
       "      <td>0.847972</td>\n",
       "      <td>0.152028</td>\n",
       "    </tr>\n",
       "    <tr>\n",
       "      <th>391520</th>\n",
       "      <td>1</td>\n",
       "      <td>False</td>\n",
       "      <td>06 29, 2007</td>\n",
       "      <td>AOWZQAE1TO0IA</td>\n",
       "      <td>NaN</td>\n",
       "      <td>Science Minded</td>\n",
       "      <td>Very Buggy software that needs some rewriting....</td>\n",
       "      <td>Don't expect any help</td>\n",
       "      <td>1183075200</td>\n",
       "      <td>2007-06-29 00:00:00</td>\n",
       "      <td>2007</td>\n",
       "      <td>[{'label': 'NEGATIVE', 'score': 0.999778926372...</td>\n",
       "      <td>0.0</td>\n",
       "      <td>0.999779</td>\n",
       "      <td>{'sequence': 'Very Buggy software that needs s...</td>\n",
       "      <td>0.287219</td>\n",
       "      <td>0.712781</td>\n",
       "    </tr>\n",
       "  </tbody>\n",
       "</table>\n",
       "</div>"
      ],
      "text/plain": [
       "        overall  verified   reviewTime      reviewerID  \\\n",
       "319057        1     False  11 19, 2016  A2WULF7HX5QRW6   \n",
       "351090        5      True  12 30, 2015  A2LDZGQKQTBLKE   \n",
       "391520        1     False  06 29, 2007   AOWZQAE1TO0IA   \n",
       "\n",
       "                                 style    reviewerName  \\\n",
       "319057  {'Style:': ' USB Flash Drive'}           fazil   \n",
       "351090   {'Platform:': ' PC Download'}           joe d   \n",
       "391520                             NaN  Science Minded   \n",
       "\n",
       "                                               reviewText  \\\n",
       "319057  Windows 10 updates all the time! Causing my co...   \n",
       "351090  I have been using turbo tax from the start way...   \n",
       "391520  Very Buggy software that needs some rewriting....   \n",
       "\n",
       "                      summary  unixReviewTime           ReviewTime  Year  \\\n",
       "319057               Garbage!      1479513600  2016-11-19 00:00:00  2016   \n",
       "351090         Still The Best      1451433600  2015-12-30 00:00:00  2015   \n",
       "391520  Don't expect any help      1183075200  2007-06-29 00:00:00  2007   \n",
       "\n",
       "               distilbert-base-uncased sentiment-analysis  \\\n",
       "319057  [{'label': 'NEGATIVE', 'score': 0.999703466892...   \n",
       "351090  [{'label': 'NEGATIVE', 'score': 0.993547618389...   \n",
       "391520  [{'label': 'NEGATIVE', 'score': 0.999778926372...   \n",
       "\n",
       "        positive sentiment-analysis  negative sentiment-analysis  \\\n",
       "319057                          0.0                     0.999703   \n",
       "351090                          0.0                     0.993548   \n",
       "391520                          0.0                     0.999779   \n",
       "\n",
       "                       zero shot facebook/bart-large-mnli  \\\n",
       "319057  {'sequence': 'Windows 10 updates all the time!...   \n",
       "351090  {'sequence': 'I have been using turbo tax from...   \n",
       "391520  {'sequence': 'Very Buggy software that needs s...   \n",
       "\n",
       "        endorsement per zero shot facebook/bart-large-mnli  \\\n",
       "319057                                           0.199932    \n",
       "351090                                           0.847972    \n",
       "391520                                           0.287219    \n",
       "\n",
       "        disapproval per zero shot facebook/bart-large-mnli  \n",
       "319057                                           0.800068   \n",
       "351090                                           0.152028   \n",
       "391520                                           0.712781   "
      ]
     },
     "execution_count": 53,
     "metadata": {},
     "output_type": "execute_result"
    }
   ],
   "source": [
    "df25.head(3)"
   ]
  },
  {
   "cell_type": "code",
   "execution_count": 54,
   "id": "0b2ddf5e",
   "metadata": {},
   "outputs": [
    {
     "name": "stdout",
     "output_type": "stream",
     "text": [
      "df1000 read in, skipping this cell...\n"
     ]
    }
   ],
   "source": [
    "if(not(df1000ReadIn)):\n",
    "    endorsementsList = []\n",
    "    disapprovalsList =[]\n",
    "    for i in df1000['zero shot facebook/bart-large-mnli'].index:\n",
    "        endorsementsList.append(\n",
    "            getEndorsementThenDissaproval(\n",
    "            df1000['zero shot facebook/bart-large-mnli'][i]\n",
    "                              )[0]\n",
    "        )\n",
    "        disapprovalsList.append(\n",
    "            getEndorsementThenDissaproval(\n",
    "            df1000['zero shot facebook/bart-large-mnli'][i]\n",
    "                              )[1]\n",
    "        )\n",
    "\n",
    "    df1000['endorsement per zero shot facebook/bart-large-mnli']= endorsementsList\n",
    "    df1000['disapproval per zero shot facebook/bart-large-mnli']= disapprovalsList\n",
    "else:\n",
    "    print(\"df1000 read in, skipping this cell...\")"
   ]
  },
  {
   "cell_type": "code",
   "execution_count": 55,
   "id": "0be5e99b",
   "metadata": {},
   "outputs": [
    {
     "data": {
      "text/html": [
       "<div>\n",
       "<style scoped>\n",
       "    .dataframe tbody tr th:only-of-type {\n",
       "        vertical-align: middle;\n",
       "    }\n",
       "\n",
       "    .dataframe tbody tr th {\n",
       "        vertical-align: top;\n",
       "    }\n",
       "\n",
       "    .dataframe thead th {\n",
       "        text-align: right;\n",
       "    }\n",
       "</style>\n",
       "<table border=\"1\" class=\"dataframe\">\n",
       "  <thead>\n",
       "    <tr style=\"text-align: right;\">\n",
       "      <th></th>\n",
       "      <th>Unnamed: 0</th>\n",
       "      <th>overall</th>\n",
       "      <th>verified</th>\n",
       "      <th>reviewTime</th>\n",
       "      <th>reviewerID</th>\n",
       "      <th>asin</th>\n",
       "      <th>style</th>\n",
       "      <th>reviewerName</th>\n",
       "      <th>reviewText</th>\n",
       "      <th>summary</th>\n",
       "      <th>...</th>\n",
       "      <th>ReviewTime</th>\n",
       "      <th>Year</th>\n",
       "      <th>zero shot facebook/bart-large-mnli</th>\n",
       "      <th>endorsement per zero shot facebook/bart-large-mnli</th>\n",
       "      <th>disapproval per zero shot facebook/bart-large-mnli</th>\n",
       "      <th>NER dslim bert-base</th>\n",
       "      <th>Num of Recognized Entites dslim bert-base</th>\n",
       "      <th>distilbert-base-uncased sentiment-analysis</th>\n",
       "      <th>positive sentiment-analysis</th>\n",
       "      <th>negative sentiment-analysis</th>\n",
       "    </tr>\n",
       "  </thead>\n",
       "  <tbody>\n",
       "    <tr>\n",
       "      <th>324</th>\n",
       "      <td>100448</td>\n",
       "      <td>2</td>\n",
       "      <td>True</td>\n",
       "      <td>02 4, 2011</td>\n",
       "      <td>A39PCQXHDWK2KD</td>\n",
       "      <td>B003YJ5DSS</td>\n",
       "      <td>{'Format:': ' Box', 'Platform:': ' PC Disc'}</td>\n",
       "      <td>rjmat</td>\n",
       "      <td>After having used M$ Money for 8+ years (which...</td>\n",
       "      <td>This is not M$ Money</td>\n",
       "      <td>...</td>\n",
       "      <td>2011-02-04 00:00:00</td>\n",
       "      <td>2011</td>\n",
       "      <td>{'sequence': \"After having used M$ Money for 8...</td>\n",
       "      <td>-1.0</td>\n",
       "      <td>-1.0</td>\n",
       "      <td>[{'entity': 'B-MISC', 'score': 0.94828135, 'in...</td>\n",
       "      <td>14</td>\n",
       "      <td>[{'label': 'NEGATIVE', 'score': 0.999511361122...</td>\n",
       "      <td>0.0</td>\n",
       "      <td>0.999511</td>\n",
       "    </tr>\n",
       "    <tr>\n",
       "      <th>804</th>\n",
       "      <td>100448</td>\n",
       "      <td>2</td>\n",
       "      <td>True</td>\n",
       "      <td>02 4, 2011</td>\n",
       "      <td>A39PCQXHDWK2KD</td>\n",
       "      <td>B003YJ5DSS</td>\n",
       "      <td>{'Format:': ' Box', 'Platform:': ' PC Disc'}</td>\n",
       "      <td>rjmat</td>\n",
       "      <td>After having used M$ Money for 8+ years (which...</td>\n",
       "      <td>This is not M$ Money</td>\n",
       "      <td>...</td>\n",
       "      <td>2011-02-04 00:00:00</td>\n",
       "      <td>2011</td>\n",
       "      <td>{'sequence': \"After having used M$ Money for 8...</td>\n",
       "      <td>-1.0</td>\n",
       "      <td>-1.0</td>\n",
       "      <td>[{'entity': 'B-MISC', 'score': 0.94828135, 'in...</td>\n",
       "      <td>14</td>\n",
       "      <td>[{'label': 'NEGATIVE', 'score': 0.999511361122...</td>\n",
       "      <td>0.0</td>\n",
       "      <td>0.999511</td>\n",
       "    </tr>\n",
       "  </tbody>\n",
       "</table>\n",
       "<p>2 rows × 23 columns</p>\n",
       "</div>"
      ],
      "text/plain": [
       "     Unnamed: 0  overall  verified  reviewTime      reviewerID        asin  \\\n",
       "324      100448        2      True  02 4, 2011  A39PCQXHDWK2KD  B003YJ5DSS   \n",
       "804      100448        2      True  02 4, 2011  A39PCQXHDWK2KD  B003YJ5DSS   \n",
       "\n",
       "                                            style reviewerName  \\\n",
       "324  {'Format:': ' Box', 'Platform:': ' PC Disc'}        rjmat   \n",
       "804  {'Format:': ' Box', 'Platform:': ' PC Disc'}        rjmat   \n",
       "\n",
       "                                            reviewText               summary  \\\n",
       "324  After having used M$ Money for 8+ years (which...  This is not M$ Money   \n",
       "804  After having used M$ Money for 8+ years (which...  This is not M$ Money   \n",
       "\n",
       "     ...           ReviewTime  Year  \\\n",
       "324  ...  2011-02-04 00:00:00  2011   \n",
       "804  ...  2011-02-04 00:00:00  2011   \n",
       "\n",
       "                    zero shot facebook/bart-large-mnli  \\\n",
       "324  {'sequence': \"After having used M$ Money for 8...   \n",
       "804  {'sequence': \"After having used M$ Money for 8...   \n",
       "\n",
       "    endorsement per zero shot facebook/bart-large-mnli  \\\n",
       "324                                               -1.0   \n",
       "804                                               -1.0   \n",
       "\n",
       "     disapproval per zero shot facebook/bart-large-mnli  \\\n",
       "324                                               -1.0    \n",
       "804                                               -1.0    \n",
       "\n",
       "                                   NER dslim bert-base  \\\n",
       "324  [{'entity': 'B-MISC', 'score': 0.94828135, 'in...   \n",
       "804  [{'entity': 'B-MISC', 'score': 0.94828135, 'in...   \n",
       "\n",
       "     Num of Recognized Entites dslim bert-base  \\\n",
       "324                                         14   \n",
       "804                                         14   \n",
       "\n",
       "            distilbert-base-uncased sentiment-analysis  \\\n",
       "324  [{'label': 'NEGATIVE', 'score': 0.999511361122...   \n",
       "804  [{'label': 'NEGATIVE', 'score': 0.999511361122...   \n",
       "\n",
       "    positive sentiment-analysis  negative sentiment-analysis  \n",
       "324                         0.0                     0.999511  \n",
       "804                         0.0                     0.999511  \n",
       "\n",
       "[2 rows x 23 columns]"
      ]
     },
     "execution_count": 55,
     "metadata": {},
     "output_type": "execute_result"
    }
   ],
   "source": [
    "df1000[df1000[\"endorsement per zero shot facebook/bart-large-mnli\"]<=0]"
   ]
  },
  {
   "cell_type": "code",
   "execution_count": 56,
   "id": "7c8adc83",
   "metadata": {},
   "outputs": [
    {
     "data": {
      "image/png": "[encoded data removed]",
      "text/plain": [
       "<Figure size 432x288 with 1 Axes>"
      ]
     },
     "metadata": {},
     "output_type": "display_data"
    }
   ],
   "source": [
    "sns.set_theme(style=\"ticks\", palette=\"pastel\")\n",
    "\n",
    "# Draw a nested boxplot\n",
    "sns.boxplot(x=\"overall\", y=\"endorsement per zero shot facebook/bart-large-mnli\",\n",
    "            data=df1000[df1000['endorsement per zero shot facebook/bart-large-mnli']>=0])\\\n",
    ".set(title = \"How much of an 'Endorsement' a review is by rating\",\n",
    "                                        xlabel = 'Review Score', \n",
    "                           ylabel = 'Is the review scored as an endorsement')\n",
    "sns.despine(offset=10, trim=True)"
   ]
  },
  {
   "cell_type": "code",
   "execution_count": 57,
   "id": "e37985aa",
   "metadata": {},
   "outputs": [
    {
     "data": {
      "image/png": "[encoded data removed]",
      "text/plain": [
       "<Figure size 432x288 with 1 Axes>"
      ]
     },
     "metadata": {},
     "output_type": "display_data"
    }
   ],
   "source": [
    "sns.set_theme(style=\"ticks\", palette=\"pastel\")\n",
    "\n",
    "# Draw a nested boxplot to show bills by day and time\n",
    "sns.boxplot(x=\"overall\", y=\"disapproval per zero shot facebook/bart-large-mnli\",\n",
    "            data=df1000[df1000['endorsement per zero shot facebook/bart-large-mnli']>0]).\\\n",
    "set(title = \"How much of a 'disapproval' a review is by rating (n=1000)\",\n",
    "                                        xlabel = 'Review Score', \n",
    "                           ylabel = 'Review scored as a disapproval')\n",
    "sns.despine(offset=10, trim=True)"
   ]
  },
  {
   "cell_type": "markdown",
   "id": "123dc0bd",
   "metadata": {},
   "source": [
    "It's sensible that scores of 1 would be more likely to be scored a \"disapproval\" while scores of 5 would have a lower score on that word."
   ]
  },
  {
   "cell_type": "markdown",
   "id": "97b3e8c7",
   "metadata": {},
   "source": [
    "## Named Entity Recognition\n",
    "https://huggingface.co/dslim/bert-base-NER?text=My+name+is+Wolfgang+and+I+live+in+Berlin\n",
    "<p>This model will identify Named Entities.  This will be used to determine if there are more named entites in negative reviews."
   ]
  },
  {
   "cell_type": "code",
   "execution_count": 58,
   "id": "8ab2f496",
   "metadata": {},
   "outputs": [],
   "source": [
    "from transformers import AutoTokenizer, AutoModelForTokenClassification\n",
    "from transformers import pipeline\n",
    "\n",
    "tokenizer = AutoTokenizer.from_pretrained(\"dslim/bert-base-NER\")\n",
    "model = AutoModelForTokenClassification.from_pretrained(\"dslim/bert-base-NER\") \n",
    "currentClassifierType = \"dslim/bert-base-NER\"\n",
    "\n",
    "nlp = pipeline(\"ner\", model=model, tokenizer=tokenizer)"
   ]
  },
  {
   "cell_type": "code",
   "execution_count": 59,
   "id": "316c95b5",
   "metadata": {},
   "outputs": [],
   "source": [
    "#Types of named entites: \n",
    "#O \tOutside of a named entity\n",
    "#B-MIS \tBeginning of a miscellaneous entity right after another miscellaneous entity\n",
    "#I-MIS \tMiscellaneous entity\n",
    "#B-PER \tBeginning of a person’s name right after another person’s name\n",
    "#I-PER \tPerson’s name\n",
    "#B-ORG \tBeginning of an organization right after another organization\n",
    "#I-ORG \torganization\n",
    "#B-LOC \tBeginning of a location right after another location\n",
    "#I-LOC \tLocation"
   ]
  },
  {
   "cell_type": "code",
   "execution_count": 60,
   "id": "e90fe75a",
   "metadata": {},
   "outputs": [],
   "source": [
    "if(currentClassifierType) == \"dslim/bert-base-NER\":\n",
    "    df25['NER dslim bert-base'] = df25['reviewText'].apply(lambda x: nlp(x))\n",
    "    df25['Num of Recognized Entites dslim bert-base'] = df25['NER dslim bert-base'].\\\n",
    "    apply(lambda x: len(x))\n",
    "else:\n",
    "    print(\"Wrong classifier.  Expecting \\\"dslim/bert-base-NER\\\"  Run notebook in order.\")"
   ]
  },
  {
   "cell_type": "code",
   "execution_count": 61,
   "id": "95ca1435",
   "metadata": {},
   "outputs": [
    {
     "data": {
      "text/html": [
       "<div>\n",
       "<style scoped>\n",
       "    .dataframe tbody tr th:only-of-type {\n",
       "        vertical-align: middle;\n",
       "    }\n",
       "\n",
       "    .dataframe tbody tr th {\n",
       "        vertical-align: top;\n",
       "    }\n",
       "\n",
       "    .dataframe thead th {\n",
       "        text-align: right;\n",
       "    }\n",
       "</style>\n",
       "<table border=\"1\" class=\"dataframe\">\n",
       "  <thead>\n",
       "    <tr style=\"text-align: right;\">\n",
       "      <th></th>\n",
       "      <th>overall</th>\n",
       "      <th>verified</th>\n",
       "      <th>reviewTime</th>\n",
       "      <th>reviewerID</th>\n",
       "      <th>style</th>\n",
       "      <th>reviewerName</th>\n",
       "      <th>reviewText</th>\n",
       "      <th>summary</th>\n",
       "      <th>unixReviewTime</th>\n",
       "      <th>ReviewTime</th>\n",
       "      <th>Year</th>\n",
       "      <th>distilbert-base-uncased sentiment-analysis</th>\n",
       "      <th>positive sentiment-analysis</th>\n",
       "      <th>negative sentiment-analysis</th>\n",
       "      <th>zero shot facebook/bart-large-mnli</th>\n",
       "      <th>endorsement per zero shot facebook/bart-large-mnli</th>\n",
       "      <th>disapproval per zero shot facebook/bart-large-mnli</th>\n",
       "      <th>NER dslim bert-base</th>\n",
       "      <th>Num of Recognized Entites dslim bert-base</th>\n",
       "    </tr>\n",
       "  </thead>\n",
       "  <tbody>\n",
       "    <tr>\n",
       "      <th>319057</th>\n",
       "      <td>1</td>\n",
       "      <td>False</td>\n",
       "      <td>11 19, 2016</td>\n",
       "      <td>A2WULF7HX5QRW6</td>\n",
       "      <td>{'Style:': ' USB Flash Drive'}</td>\n",
       "      <td>fazil</td>\n",
       "      <td>Windows 10 updates all the time! Causing my co...</td>\n",
       "      <td>Garbage!</td>\n",
       "      <td>1479513600</td>\n",
       "      <td>2016-11-19 00:00:00</td>\n",
       "      <td>2016</td>\n",
       "      <td>[{'label': 'NEGATIVE', 'score': 0.999703466892...</td>\n",
       "      <td>0.0</td>\n",
       "      <td>0.999703</td>\n",
       "      <td>{'sequence': 'Windows 10 updates all the time!...</td>\n",
       "      <td>0.199932</td>\n",
       "      <td>0.800068</td>\n",
       "      <td>[{'entity': 'B-MISC', 'score': 0.9983368, 'ind...</td>\n",
       "      <td>2</td>\n",
       "    </tr>\n",
       "    <tr>\n",
       "      <th>351090</th>\n",
       "      <td>5</td>\n",
       "      <td>True</td>\n",
       "      <td>12 30, 2015</td>\n",
       "      <td>A2LDZGQKQTBLKE</td>\n",
       "      <td>{'Platform:': ' PC Download'}</td>\n",
       "      <td>joe d</td>\n",
       "      <td>I have been using turbo tax from the start way...</td>\n",
       "      <td>Still The Best</td>\n",
       "      <td>1451433600</td>\n",
       "      <td>2015-12-30 00:00:00</td>\n",
       "      <td>2015</td>\n",
       "      <td>[{'label': 'NEGATIVE', 'score': 0.993547618389...</td>\n",
       "      <td>0.0</td>\n",
       "      <td>0.993548</td>\n",
       "      <td>{'sequence': 'I have been using turbo tax from...</td>\n",
       "      <td>0.847972</td>\n",
       "      <td>0.152028</td>\n",
       "      <td>[{'entity': 'B-ORG', 'score': 0.9976609, 'inde...</td>\n",
       "      <td>3</td>\n",
       "    </tr>\n",
       "  </tbody>\n",
       "</table>\n",
       "</div>"
      ],
      "text/plain": [
       "        overall  verified   reviewTime      reviewerID  \\\n",
       "319057        1     False  11 19, 2016  A2WULF7HX5QRW6   \n",
       "351090        5      True  12 30, 2015  A2LDZGQKQTBLKE   \n",
       "\n",
       "                                 style reviewerName  \\\n",
       "319057  {'Style:': ' USB Flash Drive'}        fazil   \n",
       "351090   {'Platform:': ' PC Download'}        joe d   \n",
       "\n",
       "                                               reviewText         summary  \\\n",
       "319057  Windows 10 updates all the time! Causing my co...        Garbage!   \n",
       "351090  I have been using turbo tax from the start way...  Still The Best   \n",
       "\n",
       "        unixReviewTime           ReviewTime  Year  \\\n",
       "319057      1479513600  2016-11-19 00:00:00  2016   \n",
       "351090      1451433600  2015-12-30 00:00:00  2015   \n",
       "\n",
       "               distilbert-base-uncased sentiment-analysis  \\\n",
       "319057  [{'label': 'NEGATIVE', 'score': 0.999703466892...   \n",
       "351090  [{'label': 'NEGATIVE', 'score': 0.993547618389...   \n",
       "\n",
       "        positive sentiment-analysis  negative sentiment-analysis  \\\n",
       "319057                          0.0                     0.999703   \n",
       "351090                          0.0                     0.993548   \n",
       "\n",
       "                       zero shot facebook/bart-large-mnli  \\\n",
       "319057  {'sequence': 'Windows 10 updates all the time!...   \n",
       "351090  {'sequence': 'I have been using turbo tax from...   \n",
       "\n",
       "        endorsement per zero shot facebook/bart-large-mnli  \\\n",
       "319057                                           0.199932    \n",
       "351090                                           0.847972    \n",
       "\n",
       "        disapproval per zero shot facebook/bart-large-mnli  \\\n",
       "319057                                           0.800068    \n",
       "351090                                           0.152028    \n",
       "\n",
       "                                      NER dslim bert-base  \\\n",
       "319057  [{'entity': 'B-MISC', 'score': 0.9983368, 'ind...   \n",
       "351090  [{'entity': 'B-ORG', 'score': 0.9976609, 'inde...   \n",
       "\n",
       "        Num of Recognized Entites dslim bert-base  \n",
       "319057                                          2  \n",
       "351090                                          3  "
      ]
     },
     "execution_count": 61,
     "metadata": {},
     "output_type": "execute_result"
    }
   ],
   "source": [
    "df25.head(2)"
   ]
  },
  {
   "cell_type": "code",
   "execution_count": 62,
   "id": "91597ecf",
   "metadata": {},
   "outputs": [
    {
     "name": "stdout",
     "output_type": "stream",
     "text": [
      "df1000 read in from file earlier.\n"
     ]
    }
   ],
   "source": [
    "if (not(df1000ReadIn)):\n",
    "    print(\"This will take a while...\")\n",
    "    df1000['NER dslim bert-base'] = df1000['reviewText'].apply(lambda x: nlp(x))\n",
    "    df1000['Num of Recognized Entites dslim bert-base'] = df1000['NER dslim bert-base'].apply(lambda x: len(x))\n",
    "else:\n",
    "    print('df1000 read in from file earlier.')"
   ]
  },
  {
   "cell_type": "code",
   "execution_count": 63,
   "id": "a11b67a9",
   "metadata": {},
   "outputs": [
    {
     "data": {
      "text/html": [
       "<div>\n",
       "<style scoped>\n",
       "    .dataframe tbody tr th:only-of-type {\n",
       "        vertical-align: middle;\n",
       "    }\n",
       "\n",
       "    .dataframe tbody tr th {\n",
       "        vertical-align: top;\n",
       "    }\n",
       "\n",
       "    .dataframe thead th {\n",
       "        text-align: right;\n",
       "    }\n",
       "</style>\n",
       "<table border=\"1\" class=\"dataframe\">\n",
       "  <thead>\n",
       "    <tr style=\"text-align: right;\">\n",
       "      <th></th>\n",
       "      <th>Unnamed: 0</th>\n",
       "      <th>overall</th>\n",
       "      <th>verified</th>\n",
       "      <th>reviewTime</th>\n",
       "      <th>reviewerID</th>\n",
       "      <th>asin</th>\n",
       "      <th>style</th>\n",
       "      <th>reviewerName</th>\n",
       "      <th>reviewText</th>\n",
       "      <th>summary</th>\n",
       "      <th>...</th>\n",
       "      <th>ReviewTime</th>\n",
       "      <th>Year</th>\n",
       "      <th>zero shot facebook/bart-large-mnli</th>\n",
       "      <th>endorsement per zero shot facebook/bart-large-mnli</th>\n",
       "      <th>disapproval per zero shot facebook/bart-large-mnli</th>\n",
       "      <th>NER dslim bert-base</th>\n",
       "      <th>Num of Recognized Entites dslim bert-base</th>\n",
       "      <th>distilbert-base-uncased sentiment-analysis</th>\n",
       "      <th>positive sentiment-analysis</th>\n",
       "      <th>negative sentiment-analysis</th>\n",
       "    </tr>\n",
       "  </thead>\n",
       "  <tbody>\n",
       "    <tr>\n",
       "      <th>0</th>\n",
       "      <td>319057</td>\n",
       "      <td>1</td>\n",
       "      <td>False</td>\n",
       "      <td>11 19, 2016</td>\n",
       "      <td>A2WULF7HX5QRW6</td>\n",
       "      <td>B01019T6O0</td>\n",
       "      <td>{'Style:': ' USB Flash Drive'}</td>\n",
       "      <td>fazil</td>\n",
       "      <td>Windows 10 updates all the time! Causing my co...</td>\n",
       "      <td>Garbage!</td>\n",
       "      <td>...</td>\n",
       "      <td>2016-11-19 00:00:00</td>\n",
       "      <td>2016</td>\n",
       "      <td>{'sequence': 'Windows 10 updates all the time!...</td>\n",
       "      <td>0.199932</td>\n",
       "      <td>0.800068</td>\n",
       "      <td>[{'entity': 'B-MISC', 'score': 0.9983368, 'ind...</td>\n",
       "      <td>2</td>\n",
       "      <td>[{'label': 'NEGATIVE', 'score': 0.999703466892...</td>\n",
       "      <td>0.0</td>\n",
       "      <td>0.999703</td>\n",
       "    </tr>\n",
       "    <tr>\n",
       "      <th>1</th>\n",
       "      <td>351090</td>\n",
       "      <td>5</td>\n",
       "      <td>True</td>\n",
       "      <td>12 30, 2015</td>\n",
       "      <td>A2LDZGQKQTBLKE</td>\n",
       "      <td>B01637REAM</td>\n",
       "      <td>{'Platform:': ' PC Download'}</td>\n",
       "      <td>joe d</td>\n",
       "      <td>I have been using turbo tax from the start way...</td>\n",
       "      <td>Still The Best</td>\n",
       "      <td>...</td>\n",
       "      <td>2015-12-30 00:00:00</td>\n",
       "      <td>2015</td>\n",
       "      <td>{'sequence': 'I have been using turbo tax from...</td>\n",
       "      <td>0.847972</td>\n",
       "      <td>0.152028</td>\n",
       "      <td>[{'entity': 'B-ORG', 'score': 0.9976609, 'inde...</td>\n",
       "      <td>3</td>\n",
       "      <td>[{'label': 'NEGATIVE', 'score': 0.993547618389...</td>\n",
       "      <td>0.0</td>\n",
       "      <td>0.993548</td>\n",
       "    </tr>\n",
       "  </tbody>\n",
       "</table>\n",
       "<p>2 rows × 23 columns</p>\n",
       "</div>"
      ],
      "text/plain": [
       "   Unnamed: 0  overall  verified   reviewTime      reviewerID        asin  \\\n",
       "0      319057        1     False  11 19, 2016  A2WULF7HX5QRW6  B01019T6O0   \n",
       "1      351090        5      True  12 30, 2015  A2LDZGQKQTBLKE  B01637REAM   \n",
       "\n",
       "                            style reviewerName  \\\n",
       "0  {'Style:': ' USB Flash Drive'}        fazil   \n",
       "1   {'Platform:': ' PC Download'}        joe d   \n",
       "\n",
       "                                          reviewText         summary  ...  \\\n",
       "0  Windows 10 updates all the time! Causing my co...        Garbage!  ...   \n",
       "1  I have been using turbo tax from the start way...  Still The Best  ...   \n",
       "\n",
       "            ReviewTime  Year  \\\n",
       "0  2016-11-19 00:00:00  2016   \n",
       "1  2015-12-30 00:00:00  2015   \n",
       "\n",
       "                  zero shot facebook/bart-large-mnli  \\\n",
       "0  {'sequence': 'Windows 10 updates all the time!...   \n",
       "1  {'sequence': 'I have been using turbo tax from...   \n",
       "\n",
       "  endorsement per zero shot facebook/bart-large-mnli  \\\n",
       "0                                           0.199932   \n",
       "1                                           0.847972   \n",
       "\n",
       "   disapproval per zero shot facebook/bart-large-mnli  \\\n",
       "0                                           0.800068    \n",
       "1                                           0.152028    \n",
       "\n",
       "                                 NER dslim bert-base  \\\n",
       "0  [{'entity': 'B-MISC', 'score': 0.9983368, 'ind...   \n",
       "1  [{'entity': 'B-ORG', 'score': 0.9976609, 'inde...   \n",
       "\n",
       "   Num of Recognized Entites dslim bert-base  \\\n",
       "0                                          2   \n",
       "1                                          3   \n",
       "\n",
       "          distilbert-base-uncased sentiment-analysis  \\\n",
       "0  [{'label': 'NEGATIVE', 'score': 0.999703466892...   \n",
       "1  [{'label': 'NEGATIVE', 'score': 0.993547618389...   \n",
       "\n",
       "  positive sentiment-analysis  negative sentiment-analysis  \n",
       "0                         0.0                     0.999703  \n",
       "1                         0.0                     0.993548  \n",
       "\n",
       "[2 rows x 23 columns]"
      ]
     },
     "execution_count": 63,
     "metadata": {},
     "output_type": "execute_result"
    }
   ],
   "source": [
    "df1000.head(2)"
   ]
  },
  {
   "cell_type": "code",
   "execution_count": 64,
   "id": "8d7ea92b",
   "metadata": {},
   "outputs": [],
   "source": [
    "#df1000.to_csv('df1000.csv')"
   ]
  },
  {
   "cell_type": "code",
   "execution_count": 65,
   "id": "45dbf193",
   "metadata": {},
   "outputs": [
    {
     "data": {
      "image/png": "[encoded data removed]",
      "text/plain": [
       "<Figure size 432x288 with 1 Axes>"
      ]
     },
     "metadata": {},
     "output_type": "display_data"
    }
   ],
   "source": [
    "sns.set_theme(style=\"ticks\", palette=\"pastel\")\n",
    "\n",
    "# Draw a nested boxplot to show bills by day and time\n",
    "sns.boxplot(x=\"overall\", y=\"Num of Recognized Entites dslim bert-base\",\n",
    "            data=df1000[df1000['Num of Recognized Entites dslim bert-base']>=0]).\\\n",
    "set(title = \"Amount of recognized Named Entites by rating (n=1000)\",\n",
    "                                        xlabel = 'Review Score', \n",
    "                           ylabel = 'Number of recognized entities')\n",
    "sns.despine(offset=10, trim=True)"
   ]
  },
  {
   "cell_type": "markdown",
   "id": "c2fd6f86",
   "metadata": {},
   "source": [
    "There doesn't appear to be a relationship between the numbner of recognized entities and the review score."
   ]
  },
  {
   "cell_type": "markdown",
   "id": "3e02e32d",
   "metadata": {},
   "source": [
    "### Findings / Conclusion: "
   ]
  },
  {
   "cell_type": "markdown",
   "id": "6ae5e510",
   "metadata": {},
   "source": [
    "As would be predicatable, we showed that higher rated reviews are percieved  more positively by a sentiment analysis transofrmer model, and likewise lower-rated reviews are percieved more negatively by the same algorithm.  \n",
    "Using a different but similar transformer model, we should that higher rated reviews are more likely to be interprted as an <i>\"endorsement\"</i> by an alogrithm, where as negative reviews are more likely to be interprted as a <i>\"disapproval\"</i>.\n",
    "<p>Lastly, using a \"Named Entity Recognition\" model (NRE), we did not find a relationship between the amount of recognizable enties and the score of the review.  This final graph could be compared the the length of the review graph earlier in the notebook and it's possibly not suprising that no such relationship was evident."
   ]
  }
 ],
 "metadata": {
  "kernelspec": {
   "display_name": "Python 3 (ipykernel)",
   "language": "python",
   "name": "python3"
  },
  "language_info": {
   "codemirror_mode": {
    "name": "ipython",
    "version": 3
   },
   "file_extension": ".py",
   "mimetype": "text/x-python",
   "name": "python",
   "nbconvert_exporter": "python",
   "pygments_lexer": "ipython3",
   "version": "3.8.13"
  }
 },
 "nbformat": 4,
 "nbformat_minor": 5
}
