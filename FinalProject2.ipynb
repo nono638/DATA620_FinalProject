{
 "cells": [
  {
   "cell_type": "markdown",
   "id": "81b676e3",
   "metadata": {},
   "source": [
    "## DATA 620 Final Project\n",
    "#### Amazon Software Reviews"
   ]
  },
  {
   "cell_type": "markdown",
   "id": "97f125de",
   "metadata": {},
   "source": [
    "Benson Toi, Noah Collin, Ahmed Elsaeyed"
   ]
  },
  {
   "cell_type": "markdown",
   "id": "ebe1597d",
   "metadata": {},
   "source": [
    "Data source:\n",
    "https://nijianmo.github.io/amazon/index.html"
   ]
  },
  {
   "cell_type": "markdown",
   "id": "2aed495c",
   "metadata": {},
   "source": [
    "This is a sentiment analyisis of Amazon reviews of software from 1998-2015"
   ]
  },
  {
   "cell_type": "code",
   "execution_count": 40,
   "id": "735f3156",
   "metadata": {},
   "outputs": [],
   "source": [
    "import pandas as pd\n",
    "import re\n",
    "import matplotlib.pyplot as plt\n",
    "from datetime import datetime\n",
    "import seaborn as sns\n",
    "import random\n",
    "from tqdm import tqdm, trange #for progress bars of computation in Jupyter, see https://www.youtube.com/watch?v=n4E7of9BINo"
   ]
  },
  {
   "cell_type": "code",
   "execution_count": 41,
   "id": "3be6aa64",
   "metadata": {},
   "outputs": [],
   "source": [
    "from transformers import pipeline"
   ]
  },
  {
   "cell_type": "code",
   "execution_count": 42,
   "id": "ad408fcc",
   "metadata": {},
   "outputs": [
    {
     "name": "stdout",
     "output_type": "stream",
     "text": [
      "Pandas version: 1.4.2\n",
      "Seaborn version: 0.11.2\n"
     ]
    }
   ],
   "source": [
    "print(\"Pandas version: {}\".format(pd.__version__))\n",
    "#print(\"datetime version: {}\".format(datetime.__version__))\n",
    "print(\"Seaborn version: {}\".format(sns.__version__))"
   ]
  },
  {
   "cell_type": "code",
   "execution_count": 43,
   "id": "dac51957",
   "metadata": {},
   "outputs": [],
   "source": [
    "df = pd.read_json('Software.json',  lines=True) #lines equal true because the CSV has \\n chars"
   ]
  },
  {
   "cell_type": "code",
   "execution_count": 44,
   "id": "5f109f28",
   "metadata": {},
   "outputs": [
    {
     "data": {
      "text/plain": [
       "Index(['overall', 'verified', 'reviewTime', 'reviewerID', 'asin', 'style',\n",
       "       'reviewerName', 'reviewText', 'summary', 'unixReviewTime', 'vote',\n",
       "       'image'],\n",
       "      dtype='object')"
      ]
     },
     "execution_count": 44,
     "metadata": {},
     "output_type": "execute_result"
    }
   ],
   "source": [
    "df.columns"
   ]
  },
  {
   "cell_type": "code",
   "execution_count": 45,
   "id": "592f47b5",
   "metadata": {},
   "outputs": [
    {
     "data": {
      "text/html": [
       "<div>\n",
       "<style scoped>\n",
       "    .dataframe tbody tr th:only-of-type {\n",
       "        vertical-align: middle;\n",
       "    }\n",
       "\n",
       "    .dataframe tbody tr th {\n",
       "        vertical-align: top;\n",
       "    }\n",
       "\n",
       "    .dataframe thead th {\n",
       "        text-align: right;\n",
       "    }\n",
       "</style>\n",
       "<table border=\"1\" class=\"dataframe\">\n",
       "  <thead>\n",
       "    <tr style=\"text-align: right;\">\n",
       "      <th></th>\n",
       "      <th>overall</th>\n",
       "      <th>verified</th>\n",
       "      <th>reviewTime</th>\n",
       "      <th>reviewerID</th>\n",
       "      <th>asin</th>\n",
       "      <th>style</th>\n",
       "      <th>reviewerName</th>\n",
       "      <th>reviewText</th>\n",
       "      <th>summary</th>\n",
       "      <th>unixReviewTime</th>\n",
       "      <th>vote</th>\n",
       "      <th>image</th>\n",
       "    </tr>\n",
       "  </thead>\n",
       "  <tbody>\n",
       "    <tr>\n",
       "      <th>0</th>\n",
       "      <td>4</td>\n",
       "      <td>True</td>\n",
       "      <td>03 11, 2014</td>\n",
       "      <td>A240ORQ2LF9LUI</td>\n",
       "      <td>0077613252</td>\n",
       "      <td>{'Format:': ' Loose Leaf'}</td>\n",
       "      <td>Michelle W</td>\n",
       "      <td>The materials arrived early and were in excell...</td>\n",
       "      <td>Material Great</td>\n",
       "      <td>1394496000</td>\n",
       "      <td>NaN</td>\n",
       "      <td>NaN</td>\n",
       "    </tr>\n",
       "    <tr>\n",
       "      <th>1</th>\n",
       "      <td>4</td>\n",
       "      <td>True</td>\n",
       "      <td>02 23, 2014</td>\n",
       "      <td>A1YCCU0YRLS0FE</td>\n",
       "      <td>0077613252</td>\n",
       "      <td>{'Format:': ' Loose Leaf'}</td>\n",
       "      <td>Rosalind White Ames</td>\n",
       "      <td>I am really enjoying this book with the worksh...</td>\n",
       "      <td>Health</td>\n",
       "      <td>1393113600</td>\n",
       "      <td>NaN</td>\n",
       "      <td>NaN</td>\n",
       "    </tr>\n",
       "    <tr>\n",
       "      <th>2</th>\n",
       "      <td>1</td>\n",
       "      <td>True</td>\n",
       "      <td>02 17, 2014</td>\n",
       "      <td>A1BJHRQDYVAY2J</td>\n",
       "      <td>0077613252</td>\n",
       "      <td>{'Format:': ' Loose Leaf'}</td>\n",
       "      <td>Allan R. Baker</td>\n",
       "      <td>IF YOU ARE TAKING THIS CLASS DON\"T WASTE YOUR ...</td>\n",
       "      <td>ARE YOU KIDING ME?</td>\n",
       "      <td>1392595200</td>\n",
       "      <td>7</td>\n",
       "      <td>NaN</td>\n",
       "    </tr>\n",
       "  </tbody>\n",
       "</table>\n",
       "</div>"
      ],
      "text/plain": [
       "   overall  verified   reviewTime      reviewerID        asin  \\\n",
       "0        4      True  03 11, 2014  A240ORQ2LF9LUI  0077613252   \n",
       "1        4      True  02 23, 2014  A1YCCU0YRLS0FE  0077613252   \n",
       "2        1      True  02 17, 2014  A1BJHRQDYVAY2J  0077613252   \n",
       "\n",
       "                        style         reviewerName  \\\n",
       "0  {'Format:': ' Loose Leaf'}           Michelle W   \n",
       "1  {'Format:': ' Loose Leaf'}  Rosalind White Ames   \n",
       "2  {'Format:': ' Loose Leaf'}       Allan R. Baker   \n",
       "\n",
       "                                          reviewText             summary  \\\n",
       "0  The materials arrived early and were in excell...      Material Great   \n",
       "1  I am really enjoying this book with the worksh...              Health   \n",
       "2  IF YOU ARE TAKING THIS CLASS DON\"T WASTE YOUR ...  ARE YOU KIDING ME?   \n",
       "\n",
       "   unixReviewTime vote image  \n",
       "0      1394496000  NaN   NaN  \n",
       "1      1393113600  NaN   NaN  \n",
       "2      1392595200    7   NaN  "
      ]
     },
     "execution_count": 45,
     "metadata": {},
     "output_type": "execute_result"
    }
   ],
   "source": [
    "df.head(3)"
   ]
  },
  {
   "cell_type": "code",
   "execution_count": 46,
   "id": "7a69614a",
   "metadata": {},
   "outputs": [
    {
     "data": {
      "text/plain": [
       "'2014-03-11 00:00:00'"
      ]
     },
     "execution_count": 46,
     "metadata": {},
     "output_type": "execute_result"
    }
   ],
   "source": [
    "def HumanTime (x):\n",
    "    return datetime.utcfromtimestamp(x).strftime('%Y-%m-%d %H:%M:%S')\n",
    "\n",
    "HumanTime(df['unixReviewTime'][0])"
   ]
  },
  {
   "cell_type": "code",
   "execution_count": 47,
   "id": "a2c66b04",
   "metadata": {},
   "outputs": [
    {
     "name": "stderr",
     "output_type": "stream",
     "text": [
      "100%|██████████| 459436/459436 [00:00<00:00, 4609762.13it/s]\n"
     ]
    }
   ],
   "source": [
    "df['ReviewTime']= tqdm(df.unixReviewTime.apply(HumanTime))\n"
   ]
  },
  {
   "cell_type": "code",
   "execution_count": 48,
   "id": "18293fba",
   "metadata": {},
   "outputs": [
    {
     "data": {
      "text/plain": [
       "0    2014-03-11 00:00:00\n",
       "1    2014-02-23 00:00:00\n",
       "2    2014-02-17 00:00:00\n",
       "Name: ReviewTime, dtype: object"
      ]
     },
     "execution_count": 48,
     "metadata": {},
     "output_type": "execute_result"
    }
   ],
   "source": [
    "df['ReviewTime'].head(3)"
   ]
  },
  {
   "cell_type": "code",
   "execution_count": 49,
   "id": "60240627",
   "metadata": {},
   "outputs": [],
   "source": [
    "df['Year'] = df['ReviewTime'].apply(lambda x: int(re.findall (\"\\d+\", x)[0]))"
   ]
  },
  {
   "cell_type": "code",
   "execution_count": 50,
   "id": "1ff8ef9f",
   "metadata": {},
   "outputs": [
    {
     "data": {
      "text/plain": [
       "1998        1\n",
       "1999      125\n",
       "2000     1326\n",
       "2001     2833\n",
       "2002     4144\n",
       "2003     4681\n",
       "2004     4685\n",
       "2005     6724\n",
       "2006     8486\n",
       "2007    13962\n",
       "2008    17735\n",
       "2009    20000\n",
       "2010    15185\n",
       "2011    17061\n",
       "2012    22894\n",
       "2013    46663\n",
       "2014    77348\n",
       "2015    86324\n",
       "2016    66786\n",
       "2017    29350\n",
       "2018    13123\n",
       "Name: Year, dtype: int64"
      ]
     },
     "execution_count": 50,
     "metadata": {},
     "output_type": "execute_result"
    }
   ],
   "source": [
    "df['Year'].value_counts().sort_index()"
   ]
  },
  {
   "cell_type": "code",
   "execution_count": 51,
   "id": "d6e51c63",
   "metadata": {},
   "outputs": [
    {
     "data": {
      "text/plain": [
       "count     459370\n",
       "unique    421432\n",
       "top         good\n",
       "freq         811\n",
       "Name: reviewText, dtype: object"
      ]
     },
     "execution_count": 51,
     "metadata": {},
     "output_type": "execute_result"
    }
   ],
   "source": [
    "df.reviewText.describe()"
   ]
  },
  {
   "cell_type": "code",
   "execution_count": 52,
   "id": "d3479ad6",
   "metadata": {},
   "outputs": [
    {
     "data": {
      "text/plain": [
       "count         459380\n",
       "unique        286888\n",
       "top       Five Stars\n",
       "freq           51188\n",
       "Name: summary, dtype: object"
      ]
     },
     "execution_count": 52,
     "metadata": {},
     "output_type": "execute_result"
    }
   ],
   "source": [
    "df.summary.describe()"
   ]
  },
  {
   "cell_type": "code",
   "execution_count": 53,
   "id": "9aa23409",
   "metadata": {},
   "outputs": [
    {
     "data": {
      "text/plain": [
       "1    102548\n",
       "2     31445\n",
       "3     39395\n",
       "4     73596\n",
       "5    212452\n",
       "Name: overall, dtype: int64"
      ]
     },
     "execution_count": 53,
     "metadata": {},
     "output_type": "execute_result"
    }
   ],
   "source": [
    "df.overall.value_counts().sort_index()"
   ]
  },
  {
   "cell_type": "code",
   "execution_count": 54,
   "id": "80d9a2f5",
   "metadata": {},
   "outputs": [
    {
     "data": {
      "text/plain": [
       "count    459436.000000\n",
       "mean          3.570175\n",
       "std           1.626662\n",
       "min           1.000000\n",
       "25%           2.000000\n",
       "50%           4.000000\n",
       "75%           5.000000\n",
       "max           5.000000\n",
       "Name: overall, dtype: float64"
      ]
     },
     "execution_count": 54,
     "metadata": {},
     "output_type": "execute_result"
    }
   ],
   "source": [
    "df.overall.describe() #Review Scores"
   ]
  },
  {
   "cell_type": "code",
   "execution_count": 55,
   "id": "0c82791f",
   "metadata": {},
   "outputs": [
    {
     "data": {
      "text/plain": [
       "4.0"
      ]
     },
     "execution_count": 55,
     "metadata": {},
     "output_type": "execute_result"
    }
   ],
   "source": [
    "df['overall'].median()"
   ]
  },
  {
   "cell_type": "code",
   "execution_count": 56,
   "id": "d183abcf",
   "metadata": {},
   "outputs": [
    {
     "data": {
      "text/plain": [
       "count                            234401\n",
       "unique                              423\n",
       "top       {'Platform:': ' PC Download'}\n",
       "freq                              50647\n",
       "Name: style, dtype: object"
      ]
     },
     "execution_count": 56,
     "metadata": {},
     "output_type": "execute_result"
    }
   ],
   "source": [
    "df['style'].describe()"
   ]
  },
  {
   "cell_type": "code",
   "execution_count": 57,
   "id": "5db9f1e6",
   "metadata": {},
   "outputs": [
    {
     "data": {
      "image/png": "[encoded data removed]",
      "text/plain": [
       "<Figure size 432x288 with 1 Axes>"
      ]
     },
     "metadata": {},
     "output_type": "display_data"
    }
   ],
   "source": [
    "sns.set(style=\"darkgrid\")\n",
    "sns.histplot(df['overall']).set(title = \"Distribution of reviews for Software - entire dataset\",\n",
    "                                        xlabel = 'Review Score')\n",
    "plt.show()"
   ]
  },
  {
   "cell_type": "markdown",
   "id": "41134b2c",
   "metadata": {},
   "source": [
    "Mostly five-star reviews."
   ]
  },
  {
   "cell_type": "code",
   "execution_count": 58,
   "id": "dd92fc36",
   "metadata": {},
   "outputs": [
    {
     "data": {
      "text/plain": [
       "(102548, 14)"
      ]
     },
     "execution_count": 58,
     "metadata": {},
     "output_type": "execute_result"
    }
   ],
   "source": [
    "oneStarReviews = df[df['overall']==1]\n",
    "oneStarReviews.shape"
   ]
  },
  {
   "cell_type": "code",
   "execution_count": 59,
   "id": "e5bb37ce",
   "metadata": {},
   "outputs": [],
   "source": [
    "twoStarReviews = df[df['overall']==2]\n",
    "threeStarReviews = df[df['overall']==3]\n",
    "fourStarReviews = df[df['overall']==4]\n",
    "fiveStarReviews = df[df['overall']==5]"
   ]
  },
  {
   "cell_type": "code",
   "execution_count": 60,
   "id": "f5fc57e6",
   "metadata": {},
   "outputs": [],
   "source": [
    "random.seed(6174)\n",
    "#Kaprekar’s constant"
   ]
  },
  {
   "cell_type": "code",
   "execution_count": 61,
   "id": "a57a72aa",
   "metadata": {},
   "outputs": [],
   "source": [
    "randomSelection = random.choices(range(len(df)), k=1000) \n",
    "# we're going to work with 1000 reviews I suppose"
   ]
  },
  {
   "cell_type": "code",
   "execution_count": 62,
   "id": "3a327714",
   "metadata": {},
   "outputs": [
    {
     "data": {
      "text/html": [
       "<div>\n",
       "<style scoped>\n",
       "    .dataframe tbody tr th:only-of-type {\n",
       "        vertical-align: middle;\n",
       "    }\n",
       "\n",
       "    .dataframe tbody tr th {\n",
       "        vertical-align: top;\n",
       "    }\n",
       "\n",
       "    .dataframe thead th {\n",
       "        text-align: right;\n",
       "    }\n",
       "</style>\n",
       "<table border=\"1\" class=\"dataframe\">\n",
       "  <thead>\n",
       "    <tr style=\"text-align: right;\">\n",
       "      <th></th>\n",
       "      <th>overall</th>\n",
       "      <th>verified</th>\n",
       "      <th>reviewTime</th>\n",
       "      <th>reviewerID</th>\n",
       "      <th>asin</th>\n",
       "      <th>style</th>\n",
       "      <th>reviewerName</th>\n",
       "      <th>reviewText</th>\n",
       "      <th>summary</th>\n",
       "      <th>unixReviewTime</th>\n",
       "      <th>vote</th>\n",
       "      <th>image</th>\n",
       "      <th>ReviewTime</th>\n",
       "      <th>Year</th>\n",
       "    </tr>\n",
       "  </thead>\n",
       "  <tbody>\n",
       "    <tr>\n",
       "      <th>319057</th>\n",
       "      <td>1</td>\n",
       "      <td>False</td>\n",
       "      <td>11 19, 2016</td>\n",
       "      <td>A2WULF7HX5QRW6</td>\n",
       "      <td>B01019T6O0</td>\n",
       "      <td>{'Style:': ' USB Flash Drive'}</td>\n",
       "      <td>fazil</td>\n",
       "      <td>Windows 10 updates all the time! Causing my co...</td>\n",
       "      <td>Garbage!</td>\n",
       "      <td>1479513600</td>\n",
       "      <td>NaN</td>\n",
       "      <td>NaN</td>\n",
       "      <td>2016-11-19 00:00:00</td>\n",
       "      <td>2016</td>\n",
       "    </tr>\n",
       "    <tr>\n",
       "      <th>351090</th>\n",
       "      <td>5</td>\n",
       "      <td>True</td>\n",
       "      <td>12 30, 2015</td>\n",
       "      <td>A2LDZGQKQTBLKE</td>\n",
       "      <td>B01637REAM</td>\n",
       "      <td>{'Platform:': ' PC Download'}</td>\n",
       "      <td>joe d</td>\n",
       "      <td>I have been using turbo tax from the start way...</td>\n",
       "      <td>Still The Best</td>\n",
       "      <td>1451433600</td>\n",
       "      <td>NaN</td>\n",
       "      <td>NaN</td>\n",
       "      <td>2015-12-30 00:00:00</td>\n",
       "      <td>2015</td>\n",
       "    </tr>\n",
       "    <tr>\n",
       "      <th>391520</th>\n",
       "      <td>1</td>\n",
       "      <td>False</td>\n",
       "      <td>06 29, 2007</td>\n",
       "      <td>AOWZQAE1TO0IA</td>\n",
       "      <td>B000AMPJPY</td>\n",
       "      <td>NaN</td>\n",
       "      <td>Science Minded</td>\n",
       "      <td>Very Buggy software that needs some rewriting....</td>\n",
       "      <td>Don't expect any help</td>\n",
       "      <td>1183075200</td>\n",
       "      <td>NaN</td>\n",
       "      <td>NaN</td>\n",
       "      <td>2007-06-29 00:00:00</td>\n",
       "      <td>2007</td>\n",
       "    </tr>\n",
       "    <tr>\n",
       "      <th>65569</th>\n",
       "      <td>4</td>\n",
       "      <td>True</td>\n",
       "      <td>06 16, 2012</td>\n",
       "      <td>A24K4130JIZCC6</td>\n",
       "      <td>B0014X2UAK</td>\n",
       "      <td>NaN</td>\n",
       "      <td>iTanz</td>\n",
       "      <td>I ordered this product with expedited shipping...</td>\n",
       "      <td>iWork Rox</td>\n",
       "      <td>1339804800</td>\n",
       "      <td>NaN</td>\n",
       "      <td>NaN</td>\n",
       "      <td>2012-06-16 00:00:00</td>\n",
       "      <td>2012</td>\n",
       "    </tr>\n",
       "  </tbody>\n",
       "</table>\n",
       "</div>"
      ],
      "text/plain": [
       "        overall  verified   reviewTime      reviewerID        asin  \\\n",
       "319057        1     False  11 19, 2016  A2WULF7HX5QRW6  B01019T6O0   \n",
       "351090        5      True  12 30, 2015  A2LDZGQKQTBLKE  B01637REAM   \n",
       "391520        1     False  06 29, 2007   AOWZQAE1TO0IA  B000AMPJPY   \n",
       "65569         4      True  06 16, 2012  A24K4130JIZCC6  B0014X2UAK   \n",
       "\n",
       "                                 style    reviewerName  \\\n",
       "319057  {'Style:': ' USB Flash Drive'}           fazil   \n",
       "351090   {'Platform:': ' PC Download'}           joe d   \n",
       "391520                             NaN  Science Minded   \n",
       "65569                              NaN           iTanz   \n",
       "\n",
       "                                               reviewText  \\\n",
       "319057  Windows 10 updates all the time! Causing my co...   \n",
       "351090  I have been using turbo tax from the start way...   \n",
       "391520  Very Buggy software that needs some rewriting....   \n",
       "65569   I ordered this product with expedited shipping...   \n",
       "\n",
       "                      summary  unixReviewTime vote image           ReviewTime  \\\n",
       "319057               Garbage!      1479513600  NaN   NaN  2016-11-19 00:00:00   \n",
       "351090         Still The Best      1451433600  NaN   NaN  2015-12-30 00:00:00   \n",
       "391520  Don't expect any help      1183075200  NaN   NaN  2007-06-29 00:00:00   \n",
       "65569               iWork Rox      1339804800  NaN   NaN  2012-06-16 00:00:00   \n",
       "\n",
       "        Year  \n",
       "319057  2016  \n",
       "351090  2015  \n",
       "391520  2007  \n",
       "65569   2012  "
      ]
     },
     "execution_count": 62,
     "metadata": {},
     "output_type": "execute_result"
    }
   ],
   "source": [
    "df1000 = df.loc[randomSelection,]\n",
    "df1000.head(4)"
   ]
  },
  {
   "cell_type": "code",
   "execution_count": 63,
   "id": "3159ec94",
   "metadata": {},
   "outputs": [
    {
     "name": "stderr",
     "output_type": "stream",
     "text": [
      "No model was supplied, defaulted to distilbert-base-uncased-finetuned-sst-2-english (https://huggingface.co/distilbert-base-uncased-finetuned-sst-2-english)\n"
     ]
    }
   ],
   "source": [
    "classifier = pipeline(\"sentiment-analysis\")\n",
    "currentClassifierType = \"sentiment-analysis\"\n",
    "#This cell will download models the first time it's run.  \n",
    "#These are large so don't use a metered connection if possible.\n",
    "#default model used, link here:\n",
    "#https://huggingface.co/distilbert-base-uncased-finetuned-sst-2-english"
   ]
  },
  {
   "cell_type": "code",
   "execution_count": 64,
   "id": "4167d538",
   "metadata": {},
   "outputs": [
    {
     "data": {
      "text/plain": [
       "[{'label': 'NEGATIVE', 'score': 0.9996140599250793}]"
      ]
     },
     "execution_count": 64,
     "metadata": {},
     "output_type": "execute_result"
    }
   ],
   "source": [
    "sentence = \"The apple is icky.\"\n",
    "classifier(sentence)"
   ]
  },
  {
   "cell_type": "code",
   "execution_count": 65,
   "id": "75259c96",
   "metadata": {},
   "outputs": [],
   "source": [
    "def hugFace(x):\n",
    "    if(currentClassifierType != \"sentiment-analysis\"):\n",
    "        print(\"You're using the wrong classifier!  Run the notebook in order.\")\n",
    "        return None\n",
    "    try:\n",
    "        return classifier(x)\n",
    "    except:\n",
    "        return\"UNKNOWN\""
   ]
  },
  {
   "cell_type": "code",
   "execution_count": 66,
   "id": "fb372af3",
   "metadata": {},
   "outputs": [
    {
     "name": "stderr",
     "output_type": "stream",
     "text": [
      "Token indices sequence length is longer than the specified maximum sequence length for this model (716 > 512). Running this sequence through the model will result in indexing errors\n",
      "100%|██████████| 1000/1000 [00:00<?, ?it/s]\n"
     ]
    }
   ],
   "source": [
    "\n",
    "df1000['distilbert-base-uncased sentiment-analysis'] = tqdm(\n",
    "    df1000['reviewText'].apply(hugFace)\n",
    ")\n",
    "#This cell will take several minutes to run"
   ]
  },
  {
   "cell_type": "code",
   "execution_count": 67,
   "id": "5c47bd80",
   "metadata": {},
   "outputs": [
    {
     "data": {
      "text/html": [
       "<div>\n",
       "<style scoped>\n",
       "    .dataframe tbody tr th:only-of-type {\n",
       "        vertical-align: middle;\n",
       "    }\n",
       "\n",
       "    .dataframe tbody tr th {\n",
       "        vertical-align: top;\n",
       "    }\n",
       "\n",
       "    .dataframe thead th {\n",
       "        text-align: right;\n",
       "    }\n",
       "</style>\n",
       "<table border=\"1\" class=\"dataframe\">\n",
       "  <thead>\n",
       "    <tr style=\"text-align: right;\">\n",
       "      <th></th>\n",
       "      <th>overall</th>\n",
       "      <th>verified</th>\n",
       "      <th>reviewTime</th>\n",
       "      <th>reviewerID</th>\n",
       "      <th>asin</th>\n",
       "      <th>style</th>\n",
       "      <th>reviewerName</th>\n",
       "      <th>reviewText</th>\n",
       "      <th>summary</th>\n",
       "      <th>unixReviewTime</th>\n",
       "      <th>vote</th>\n",
       "      <th>image</th>\n",
       "      <th>ReviewTime</th>\n",
       "      <th>Year</th>\n",
       "      <th>distilbert-base-uncased sentiment-analysis</th>\n",
       "    </tr>\n",
       "  </thead>\n",
       "  <tbody>\n",
       "    <tr>\n",
       "      <th>319057</th>\n",
       "      <td>1</td>\n",
       "      <td>False</td>\n",
       "      <td>11 19, 2016</td>\n",
       "      <td>A2WULF7HX5QRW6</td>\n",
       "      <td>B01019T6O0</td>\n",
       "      <td>{'Style:': ' USB Flash Drive'}</td>\n",
       "      <td>fazil</td>\n",
       "      <td>Windows 10 updates all the time! Causing my co...</td>\n",
       "      <td>Garbage!</td>\n",
       "      <td>1479513600</td>\n",
       "      <td>NaN</td>\n",
       "      <td>NaN</td>\n",
       "      <td>2016-11-19 00:00:00</td>\n",
       "      <td>2016</td>\n",
       "      <td>[{'label': 'NEGATIVE', 'score': 0.999703466892...</td>\n",
       "    </tr>\n",
       "    <tr>\n",
       "      <th>351090</th>\n",
       "      <td>5</td>\n",
       "      <td>True</td>\n",
       "      <td>12 30, 2015</td>\n",
       "      <td>A2LDZGQKQTBLKE</td>\n",
       "      <td>B01637REAM</td>\n",
       "      <td>{'Platform:': ' PC Download'}</td>\n",
       "      <td>joe d</td>\n",
       "      <td>I have been using turbo tax from the start way...</td>\n",
       "      <td>Still The Best</td>\n",
       "      <td>1451433600</td>\n",
       "      <td>NaN</td>\n",
       "      <td>NaN</td>\n",
       "      <td>2015-12-30 00:00:00</td>\n",
       "      <td>2015</td>\n",
       "      <td>[{'label': 'NEGATIVE', 'score': 0.993547618389...</td>\n",
       "    </tr>\n",
       "    <tr>\n",
       "      <th>391520</th>\n",
       "      <td>1</td>\n",
       "      <td>False</td>\n",
       "      <td>06 29, 2007</td>\n",
       "      <td>AOWZQAE1TO0IA</td>\n",
       "      <td>B000AMPJPY</td>\n",
       "      <td>NaN</td>\n",
       "      <td>Science Minded</td>\n",
       "      <td>Very Buggy software that needs some rewriting....</td>\n",
       "      <td>Don't expect any help</td>\n",
       "      <td>1183075200</td>\n",
       "      <td>NaN</td>\n",
       "      <td>NaN</td>\n",
       "      <td>2007-06-29 00:00:00</td>\n",
       "      <td>2007</td>\n",
       "      <td>[{'label': 'NEGATIVE', 'score': 0.999778926372...</td>\n",
       "    </tr>\n",
       "    <tr>\n",
       "      <th>65569</th>\n",
       "      <td>4</td>\n",
       "      <td>True</td>\n",
       "      <td>06 16, 2012</td>\n",
       "      <td>A24K4130JIZCC6</td>\n",
       "      <td>B0014X2UAK</td>\n",
       "      <td>NaN</td>\n",
       "      <td>iTanz</td>\n",
       "      <td>I ordered this product with expedited shipping...</td>\n",
       "      <td>iWork Rox</td>\n",
       "      <td>1339804800</td>\n",
       "      <td>NaN</td>\n",
       "      <td>NaN</td>\n",
       "      <td>2012-06-16 00:00:00</td>\n",
       "      <td>2012</td>\n",
       "      <td>[{'label': 'POSITIVE', 'score': 0.971159636974...</td>\n",
       "    </tr>\n",
       "    <tr>\n",
       "      <th>192359</th>\n",
       "      <td>1</td>\n",
       "      <td>False</td>\n",
       "      <td>02 10, 2014</td>\n",
       "      <td>ABVYGB2TKBO8F</td>\n",
       "      <td>B00E6LJBUO</td>\n",
       "      <td>NaN</td>\n",
       "      <td>J. Donaldson</td>\n",
       "      <td>Update Nov 2016\\nI continue to wonder why Intu...</td>\n",
       "      <td>Intuit doesn't listen to it's customers.</td>\n",
       "      <td>1391990400</td>\n",
       "      <td>3</td>\n",
       "      <td>NaN</td>\n",
       "      <td>2014-02-10 00:00:00</td>\n",
       "      <td>2014</td>\n",
       "      <td>[{'label': 'NEGATIVE', 'score': 0.999666571617...</td>\n",
       "    </tr>\n",
       "    <tr>\n",
       "      <th>...</th>\n",
       "      <td>...</td>\n",
       "      <td>...</td>\n",
       "      <td>...</td>\n",
       "      <td>...</td>\n",
       "      <td>...</td>\n",
       "      <td>...</td>\n",
       "      <td>...</td>\n",
       "      <td>...</td>\n",
       "      <td>...</td>\n",
       "      <td>...</td>\n",
       "      <td>...</td>\n",
       "      <td>...</td>\n",
       "      <td>...</td>\n",
       "      <td>...</td>\n",
       "      <td>...</td>\n",
       "    </tr>\n",
       "    <tr>\n",
       "      <th>432238</th>\n",
       "      <td>1</td>\n",
       "      <td>True</td>\n",
       "      <td>09 2, 2014</td>\n",
       "      <td>ATYTMVDLMV3SW</td>\n",
       "      <td>B009YYZJDQ</td>\n",
       "      <td>NaN</td>\n",
       "      <td>R. Stern</td>\n",
       "      <td>I have used Symantec products for many years; ...</td>\n",
       "      <td>Avoid This product</td>\n",
       "      <td>1409616000</td>\n",
       "      <td>NaN</td>\n",
       "      <td>NaN</td>\n",
       "      <td>2014-09-02 00:00:00</td>\n",
       "      <td>2014</td>\n",
       "      <td>[{'label': 'NEGATIVE', 'score': 0.998853802680...</td>\n",
       "    </tr>\n",
       "    <tr>\n",
       "      <th>299367</th>\n",
       "      <td>5</td>\n",
       "      <td>True</td>\n",
       "      <td>01 28, 2015</td>\n",
       "      <td>A31DN6H8LGI1LK</td>\n",
       "      <td>B00PJPI6P2</td>\n",
       "      <td>{'Platform:': ' PC Disc'}</td>\n",
       "      <td>Jimmy D</td>\n",
       "      <td>I did 3 returns as soon as I got it.  It was g...</td>\n",
       "      <td>A really great bundle of options included.</td>\n",
       "      <td>1422403200</td>\n",
       "      <td>NaN</td>\n",
       "      <td>NaN</td>\n",
       "      <td>2015-01-28 00:00:00</td>\n",
       "      <td>2015</td>\n",
       "      <td>[{'label': 'POSITIVE', 'score': 0.999598443508...</td>\n",
       "    </tr>\n",
       "    <tr>\n",
       "      <th>209978</th>\n",
       "      <td>5</td>\n",
       "      <td>True</td>\n",
       "      <td>02 19, 2015</td>\n",
       "      <td>A1USN54OPO3UE0</td>\n",
       "      <td>B00EZPXYP4</td>\n",
       "      <td>{'Platform:': ' PC Disc'}</td>\n",
       "      <td>James E. Amos</td>\n",
       "      <td>Great product as always. Continues to save my ...</td>\n",
       "      <td>Norton 360</td>\n",
       "      <td>1424304000</td>\n",
       "      <td>NaN</td>\n",
       "      <td>NaN</td>\n",
       "      <td>2015-02-19 00:00:00</td>\n",
       "      <td>2015</td>\n",
       "      <td>[{'label': 'POSITIVE', 'score': 0.999535322189...</td>\n",
       "    </tr>\n",
       "    <tr>\n",
       "      <th>72222</th>\n",
       "      <td>5</td>\n",
       "      <td>False</td>\n",
       "      <td>08 6, 2009</td>\n",
       "      <td>AKNAB82ICFA31</td>\n",
       "      <td>B001CJQGM4</td>\n",
       "      <td>{'Format:': ' DVD-ROM'}</td>\n",
       "      <td>sgray</td>\n",
       "      <td>It has been great for music ripping.  It does ...</td>\n",
       "      <td>Simple solution</td>\n",
       "      <td>1249516800</td>\n",
       "      <td>NaN</td>\n",
       "      <td>NaN</td>\n",
       "      <td>2009-08-06 00:00:00</td>\n",
       "      <td>2009</td>\n",
       "      <td>[{'label': 'POSITIVE', 'score': 0.988519370555...</td>\n",
       "    </tr>\n",
       "    <tr>\n",
       "      <th>324930</th>\n",
       "      <td>3</td>\n",
       "      <td>True</td>\n",
       "      <td>08 13, 2016</td>\n",
       "      <td>ARG2GFV2LR7NI</td>\n",
       "      <td>B01326J62G</td>\n",
       "      <td>{'Platform:': ' PC Disc'}</td>\n",
       "      <td>Joseph H. Kest</td>\n",
       "      <td>Didn't really offer much in new functionality ...</td>\n",
       "      <td>I just like to stay current in releases</td>\n",
       "      <td>1471046400</td>\n",
       "      <td>NaN</td>\n",
       "      <td>NaN</td>\n",
       "      <td>2016-08-13 00:00:00</td>\n",
       "      <td>2016</td>\n",
       "      <td>[{'label': 'NEGATIVE', 'score': 0.966219246387...</td>\n",
       "    </tr>\n",
       "  </tbody>\n",
       "</table>\n",
       "<p>1000 rows × 15 columns</p>\n",
       "</div>"
      ],
      "text/plain": [
       "        overall  verified   reviewTime      reviewerID        asin  \\\n",
       "319057        1     False  11 19, 2016  A2WULF7HX5QRW6  B01019T6O0   \n",
       "351090        5      True  12 30, 2015  A2LDZGQKQTBLKE  B01637REAM   \n",
       "391520        1     False  06 29, 2007   AOWZQAE1TO0IA  B000AMPJPY   \n",
       "65569         4      True  06 16, 2012  A24K4130JIZCC6  B0014X2UAK   \n",
       "192359        1     False  02 10, 2014   ABVYGB2TKBO8F  B00E6LJBUO   \n",
       "...         ...       ...          ...             ...         ...   \n",
       "432238        1      True   09 2, 2014   ATYTMVDLMV3SW  B009YYZJDQ   \n",
       "299367        5      True  01 28, 2015  A31DN6H8LGI1LK  B00PJPI6P2   \n",
       "209978        5      True  02 19, 2015  A1USN54OPO3UE0  B00EZPXYP4   \n",
       "72222         5     False   08 6, 2009   AKNAB82ICFA31  B001CJQGM4   \n",
       "324930        3      True  08 13, 2016   ARG2GFV2LR7NI  B01326J62G   \n",
       "\n",
       "                                 style    reviewerName  \\\n",
       "319057  {'Style:': ' USB Flash Drive'}           fazil   \n",
       "351090   {'Platform:': ' PC Download'}           joe d   \n",
       "391520                             NaN  Science Minded   \n",
       "65569                              NaN           iTanz   \n",
       "192359                             NaN    J. Donaldson   \n",
       "...                                ...             ...   \n",
       "432238                             NaN        R. Stern   \n",
       "299367       {'Platform:': ' PC Disc'}         Jimmy D   \n",
       "209978       {'Platform:': ' PC Disc'}   James E. Amos   \n",
       "72222          {'Format:': ' DVD-ROM'}           sgray   \n",
       "324930       {'Platform:': ' PC Disc'}  Joseph H. Kest   \n",
       "\n",
       "                                               reviewText  \\\n",
       "319057  Windows 10 updates all the time! Causing my co...   \n",
       "351090  I have been using turbo tax from the start way...   \n",
       "391520  Very Buggy software that needs some rewriting....   \n",
       "65569   I ordered this product with expedited shipping...   \n",
       "192359  Update Nov 2016\\nI continue to wonder why Intu...   \n",
       "...                                                   ...   \n",
       "432238  I have used Symantec products for many years; ...   \n",
       "299367  I did 3 returns as soon as I got it.  It was g...   \n",
       "209978  Great product as always. Continues to save my ...   \n",
       "72222   It has been great for music ripping.  It does ...   \n",
       "324930  Didn't really offer much in new functionality ...   \n",
       "\n",
       "                                           summary  unixReviewTime vote image  \\\n",
       "319057                                    Garbage!      1479513600  NaN   NaN   \n",
       "351090                              Still The Best      1451433600  NaN   NaN   \n",
       "391520                       Don't expect any help      1183075200  NaN   NaN   \n",
       "65569                                    iWork Rox      1339804800  NaN   NaN   \n",
       "192359    Intuit doesn't listen to it's customers.      1391990400    3   NaN   \n",
       "...                                            ...             ...  ...   ...   \n",
       "432238                          Avoid This product      1409616000  NaN   NaN   \n",
       "299367  A really great bundle of options included.      1422403200  NaN   NaN   \n",
       "209978                                  Norton 360      1424304000  NaN   NaN   \n",
       "72222                              Simple solution      1249516800  NaN   NaN   \n",
       "324930     I just like to stay current in releases      1471046400  NaN   NaN   \n",
       "\n",
       "                 ReviewTime  Year  \\\n",
       "319057  2016-11-19 00:00:00  2016   \n",
       "351090  2015-12-30 00:00:00  2015   \n",
       "391520  2007-06-29 00:00:00  2007   \n",
       "65569   2012-06-16 00:00:00  2012   \n",
       "192359  2014-02-10 00:00:00  2014   \n",
       "...                     ...   ...   \n",
       "432238  2014-09-02 00:00:00  2014   \n",
       "299367  2015-01-28 00:00:00  2015   \n",
       "209978  2015-02-19 00:00:00  2015   \n",
       "72222   2009-08-06 00:00:00  2009   \n",
       "324930  2016-08-13 00:00:00  2016   \n",
       "\n",
       "               distilbert-base-uncased sentiment-analysis  \n",
       "319057  [{'label': 'NEGATIVE', 'score': 0.999703466892...  \n",
       "351090  [{'label': 'NEGATIVE', 'score': 0.993547618389...  \n",
       "391520  [{'label': 'NEGATIVE', 'score': 0.999778926372...  \n",
       "65569   [{'label': 'POSITIVE', 'score': 0.971159636974...  \n",
       "192359  [{'label': 'NEGATIVE', 'score': 0.999666571617...  \n",
       "...                                                   ...  \n",
       "432238  [{'label': 'NEGATIVE', 'score': 0.998853802680...  \n",
       "299367  [{'label': 'POSITIVE', 'score': 0.999598443508...  \n",
       "209978  [{'label': 'POSITIVE', 'score': 0.999535322189...  \n",
       "72222   [{'label': 'POSITIVE', 'score': 0.988519370555...  \n",
       "324930  [{'label': 'NEGATIVE', 'score': 0.966219246387...  \n",
       "\n",
       "[1000 rows x 15 columns]"
      ]
     },
     "execution_count": 67,
     "metadata": {},
     "output_type": "execute_result"
    }
   ],
   "source": [
    "df1000"
   ]
  },
  {
   "cell_type": "code",
   "execution_count": 68,
   "id": "bf2bf681",
   "metadata": {},
   "outputs": [
    {
     "name": "stderr",
     "output_type": "stream",
     "text": [
      "No model was supplied, defaulted to facebook/bart-large-mnli (https://huggingface.co/facebook/bart-large-mnli)\n"
     ]
    },
    {
     "data": {
      "text/plain": [
       "transformers.pipelines.zero_shot_classification.ZeroShotClassificationPipeline"
      ]
     },
     "execution_count": 68,
     "metadata": {},
     "output_type": "execute_result"
    }
   ],
   "source": [
    "classifier = pipeline(\"zero-shot-classification\")\n",
    "\n",
    "currentClassifierType = \"zero-shot-classification\"\n",
    "type(classifier)\n",
    "#This cell involves a 1.5+ GB download"
   ]
  },
  {
   "cell_type": "code",
   "execution_count": null,
   "id": "03a3660c",
   "metadata": {},
   "outputs": [],
   "source": []
  },
  {
   "cell_type": "code",
   "execution_count": 69,
   "id": "4b9898d2",
   "metadata": {},
   "outputs": [
    {
     "data": {
      "text/plain": [
       "{'sequence': 'I just ate great Spanish food with my foes.',\n",
       " 'labels': ['cuisine', 'friendship', 'nihilism'],\n",
       " 'scores': [0.9875638484954834, 0.0067010740749537945, 0.005735104903578758]}"
      ]
     },
     "execution_count": 69,
     "metadata": {},
     "output_type": "execute_result"
    }
   ],
   "source": [
    "classifier(\n",
    "    \"I just ate great Spanish food with my foes.\",\n",
    "    candidate_labels=[\"cuisine\", \"friendship\",\"nihilism\"],\n",
    ")"
   ]
  },
  {
   "cell_type": "code",
   "execution_count": 70,
   "id": "aebbcbd3",
   "metadata": {},
   "outputs": [],
   "source": [
    "def performZeroShotAnalysis(x, labs = ['endorsement','disapproval']):\n",
    "    if (currentClassifierType != \"zero-shot-classification\"):\n",
    "        print(\"You aren't using the right classifer now.  Rerun the cell with the ZeroShot.\")\n",
    "        return None\n",
    "    try:\n",
    "        return classifier (x, candidate_labels = labs)\n",
    "    except:\n",
    "        return \"UNKNOWN\""
   ]
  },
  {
   "cell_type": "code",
   "execution_count": 71,
   "id": "41d52d77",
   "metadata": {},
   "outputs": [
    {
     "data": {
      "text/plain": [
       "{'sequence': \"I wish I hadn't bought this product.\",\n",
       " 'labels': ['disapproval', 'endorsement'],\n",
       " 'scores': [0.9734046459197998, 0.026595350354909897]}"
      ]
     },
     "execution_count": 71,
     "metadata": {},
     "output_type": "execute_result"
    }
   ],
   "source": [
    "performZeroShotAnalysis('I wish I hadn\\'t bought this product.')\n",
    "#So we can use this pipeline to to classify reviews "
   ]
  },
  {
   "cell_type": "code",
   "execution_count": null,
   "id": "978d157d",
   "metadata": {},
   "outputs": [],
   "source": [
    "df1000['zero shot facebook/bart-large-mnli'] =  tqdm(df1000['reviewText'].apply(performZeroShotAnalysis))"
   ]
  },
  {
   "cell_type": "code",
   "execution_count": null,
   "id": "fa3150fe",
   "metadata": {},
   "outputs": [],
   "source": [
    "df1000['zero shot facebook/bart-large-mnli'].values[0:3]\n",
    "#notice that the labels, \"endorsement and dissaproval\" change order.  TODO"
   ]
  },
  {
   "cell_type": "code",
   "execution_count": null,
   "id": "ebefd740",
   "metadata": {},
   "outputs": [],
   "source": []
  }
 ],
 "metadata": {
  "kernelspec": {
   "display_name": "Python 3 (ipykernel)",
   "language": "python",
   "name": "python3"
  },
  "language_info": {
   "codemirror_mode": {
    "name": "ipython",
    "version": 3
   },
   "file_extension": ".py",
   "mimetype": "text/x-python",
   "name": "python",
   "nbconvert_exporter": "python",
   "pygments_lexer": "ipython3",
   "version": "3.8.13"
  }
 },
 "nbformat": 4,
 "nbformat_minor": 5
}
