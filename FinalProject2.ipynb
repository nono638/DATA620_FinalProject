{
 "cells": [
  {
   "cell_type": "markdown",
   "id": "81b676e3",
   "metadata": {},
   "source": [
    "## DATA 620 Final Project\n",
    "#### Amazon Software Reviews"
   ]
  },
  {
   "cell_type": "markdown",
   "id": "97f125de",
   "metadata": {},
   "source": [
    "Benson Toi, Noah Collin, Ahmed Elsaeyed"
   ]
  },
  {
   "cell_type": "markdown",
   "id": "ebe1597d",
   "metadata": {},
   "source": [
    "#### Data source:\n",
    "https://nijianmo.github.io/amazon/index.html"
   ]
  },
  {
   "cell_type": "markdown",
   "id": "2aed495c",
   "metadata": {},
   "source": [
    "This is a text analyisis of Amazon reviews of software from 1998-2015"
   ]
  },
  {
   "cell_type": "markdown",
   "id": "5f494b79",
   "metadata": {},
   "source": [
    "#### Dependencies"
   ]
  },
  {
   "cell_type": "code",
   "execution_count": 32,
   "id": "735f3156",
   "metadata": {},
   "outputs": [
    {
     "name": "stderr",
     "output_type": "stream",
     "text": [
      "[nltk_data] Downloading package punkt to\n",
      "[nltk_data]     C:\\Users\\Noah\\AppData\\Roaming\\nltk_data...\n",
      "[nltk_data]   Unzipping tokenizers\\punkt.zip.\n"
     ]
    }
   ],
   "source": [
    "import pandas as pd\n",
    "import re\n",
    "import matplotlib.pyplot as plt\n",
    "from datetime import datetime\n",
    "import seaborn as sns\n",
    "import random\n",
    "import nltk\n",
    "#nltk.download('punkt')\n",
    "from tqdm import tqdm, trange #for progress bars of computation in Jupyter, see https://www.youtube.com/watch?v=n4E7of9BINo"
   ]
  },
  {
   "cell_type": "code",
   "execution_count": 2,
   "id": "3be6aa64",
   "metadata": {},
   "outputs": [
    {
     "name": "stderr",
     "output_type": "stream",
     "text": [
      "C:\\Users\\Noah\\.conda\\envs\\NLTK etal\\lib\\site-packages\\tqdm\\auto.py:22: TqdmWarning: IProgress not found. Please update jupyter and ipywidgets. See https://ipywidgets.readthedocs.io/en/stable/user_install.html\n",
      "  from .autonotebook import tqdm as notebook_tqdm\n"
     ]
    }
   ],
   "source": [
    "from transformers import pipeline"
   ]
  },
  {
   "cell_type": "code",
   "execution_count": 3,
   "id": "ad408fcc",
   "metadata": {},
   "outputs": [
    {
     "name": "stdout",
     "output_type": "stream",
     "text": [
      "Pandas version: 1.4.2\n",
      "Seaborn version: 0.11.2\n"
     ]
    }
   ],
   "source": [
    "print(\"Pandas version: {}\".format(pd.__version__))\n",
    "#print(\"datetime version: {}\".format(datetime.__version__))\n",
    "print(\"Seaborn version: {}\".format(sns.__version__))"
   ]
  },
  {
   "cell_type": "code",
   "execution_count": 4,
   "id": "dac51957",
   "metadata": {},
   "outputs": [],
   "source": [
    "df = pd.read_json('Software.json',  lines=True) #lines equal true because the CSV has \\n chars\n",
    "#again, data from here: \n",
    "# https://nijianmo.github.io/amazon/index.html"
   ]
  },
  {
   "cell_type": "code",
   "execution_count": 5,
   "id": "5f109f28",
   "metadata": {},
   "outputs": [
    {
     "data": {
      "text/plain": [
       "Index(['overall', 'verified', 'reviewTime', 'reviewerID', 'asin', 'style',\n",
       "       'reviewerName', 'reviewText', 'summary', 'unixReviewTime', 'vote',\n",
       "       'image'],\n",
       "      dtype='object')"
      ]
     },
     "execution_count": 5,
     "metadata": {},
     "output_type": "execute_result"
    }
   ],
   "source": [
    "df.columns"
   ]
  },
  {
   "cell_type": "code",
   "execution_count": 6,
   "id": "592f47b5",
   "metadata": {},
   "outputs": [
    {
     "data": {
      "text/html": [
       "<div>\n",
       "<style scoped>\n",
       "    .dataframe tbody tr th:only-of-type {\n",
       "        vertical-align: middle;\n",
       "    }\n",
       "\n",
       "    .dataframe tbody tr th {\n",
       "        vertical-align: top;\n",
       "    }\n",
       "\n",
       "    .dataframe thead th {\n",
       "        text-align: right;\n",
       "    }\n",
       "</style>\n",
       "<table border=\"1\" class=\"dataframe\">\n",
       "  <thead>\n",
       "    <tr style=\"text-align: right;\">\n",
       "      <th></th>\n",
       "      <th>overall</th>\n",
       "      <th>verified</th>\n",
       "      <th>reviewTime</th>\n",
       "      <th>reviewerID</th>\n",
       "      <th>asin</th>\n",
       "      <th>style</th>\n",
       "      <th>reviewerName</th>\n",
       "      <th>reviewText</th>\n",
       "      <th>summary</th>\n",
       "      <th>unixReviewTime</th>\n",
       "      <th>vote</th>\n",
       "      <th>image</th>\n",
       "    </tr>\n",
       "  </thead>\n",
       "  <tbody>\n",
       "    <tr>\n",
       "      <th>0</th>\n",
       "      <td>4</td>\n",
       "      <td>True</td>\n",
       "      <td>03 11, 2014</td>\n",
       "      <td>A240ORQ2LF9LUI</td>\n",
       "      <td>0077613252</td>\n",
       "      <td>{'Format:': ' Loose Leaf'}</td>\n",
       "      <td>Michelle W</td>\n",
       "      <td>The materials arrived early and were in excell...</td>\n",
       "      <td>Material Great</td>\n",
       "      <td>1394496000</td>\n",
       "      <td>NaN</td>\n",
       "      <td>NaN</td>\n",
       "    </tr>\n",
       "    <tr>\n",
       "      <th>1</th>\n",
       "      <td>4</td>\n",
       "      <td>True</td>\n",
       "      <td>02 23, 2014</td>\n",
       "      <td>A1YCCU0YRLS0FE</td>\n",
       "      <td>0077613252</td>\n",
       "      <td>{'Format:': ' Loose Leaf'}</td>\n",
       "      <td>Rosalind White Ames</td>\n",
       "      <td>I am really enjoying this book with the worksh...</td>\n",
       "      <td>Health</td>\n",
       "      <td>1393113600</td>\n",
       "      <td>NaN</td>\n",
       "      <td>NaN</td>\n",
       "    </tr>\n",
       "    <tr>\n",
       "      <th>2</th>\n",
       "      <td>1</td>\n",
       "      <td>True</td>\n",
       "      <td>02 17, 2014</td>\n",
       "      <td>A1BJHRQDYVAY2J</td>\n",
       "      <td>0077613252</td>\n",
       "      <td>{'Format:': ' Loose Leaf'}</td>\n",
       "      <td>Allan R. Baker</td>\n",
       "      <td>IF YOU ARE TAKING THIS CLASS DON\"T WASTE YOUR ...</td>\n",
       "      <td>ARE YOU KIDING ME?</td>\n",
       "      <td>1392595200</td>\n",
       "      <td>7</td>\n",
       "      <td>NaN</td>\n",
       "    </tr>\n",
       "  </tbody>\n",
       "</table>\n",
       "</div>"
      ],
      "text/plain": [
       "   overall  verified   reviewTime      reviewerID        asin  \\\n",
       "0        4      True  03 11, 2014  A240ORQ2LF9LUI  0077613252   \n",
       "1        4      True  02 23, 2014  A1YCCU0YRLS0FE  0077613252   \n",
       "2        1      True  02 17, 2014  A1BJHRQDYVAY2J  0077613252   \n",
       "\n",
       "                        style         reviewerName  \\\n",
       "0  {'Format:': ' Loose Leaf'}           Michelle W   \n",
       "1  {'Format:': ' Loose Leaf'}  Rosalind White Ames   \n",
       "2  {'Format:': ' Loose Leaf'}       Allan R. Baker   \n",
       "\n",
       "                                          reviewText             summary  \\\n",
       "0  The materials arrived early and were in excell...      Material Great   \n",
       "1  I am really enjoying this book with the worksh...              Health   \n",
       "2  IF YOU ARE TAKING THIS CLASS DON\"T WASTE YOUR ...  ARE YOU KIDING ME?   \n",
       "\n",
       "   unixReviewTime vote image  \n",
       "0      1394496000  NaN   NaN  \n",
       "1      1393113600  NaN   NaN  \n",
       "2      1392595200    7   NaN  "
      ]
     },
     "execution_count": 6,
     "metadata": {},
     "output_type": "execute_result"
    }
   ],
   "source": [
    "df.head(3)"
   ]
  },
  {
   "cell_type": "code",
   "execution_count": 7,
   "id": "7a69614a",
   "metadata": {},
   "outputs": [
    {
     "data": {
      "text/plain": [
       "'2014-03-11 00:00:00'"
      ]
     },
     "execution_count": 7,
     "metadata": {},
     "output_type": "execute_result"
    }
   ],
   "source": [
    "def HumanTime (x):\n",
    "    return datetime.utcfromtimestamp(x).strftime('%Y-%m-%d %H:%M:%S')\n",
    "\n",
    "HumanTime(df['unixReviewTime'][0])"
   ]
  },
  {
   "cell_type": "code",
   "execution_count": 8,
   "id": "a2c66b04",
   "metadata": {},
   "outputs": [
    {
     "name": "stderr",
     "output_type": "stream",
     "text": [
      "100%|██████████| 459436/459436 [00:00<00:00, 4215047.31it/s]\n"
     ]
    }
   ],
   "source": [
    "df['ReviewTime']= tqdm(df.unixReviewTime.apply(HumanTime))\n"
   ]
  },
  {
   "cell_type": "code",
   "execution_count": 9,
   "id": "18293fba",
   "metadata": {},
   "outputs": [
    {
     "data": {
      "text/plain": [
       "0    2014-03-11 00:00:00\n",
       "1    2014-02-23 00:00:00\n",
       "2    2014-02-17 00:00:00\n",
       "Name: ReviewTime, dtype: object"
      ]
     },
     "execution_count": 9,
     "metadata": {},
     "output_type": "execute_result"
    }
   ],
   "source": [
    "df['ReviewTime'].head(3)"
   ]
  },
  {
   "cell_type": "code",
   "execution_count": 10,
   "id": "60240627",
   "metadata": {},
   "outputs": [],
   "source": [
    "df['Year'] = df['ReviewTime'].apply(lambda x: int(re.findall (\"\\d+\", x)[0]))"
   ]
  },
  {
   "cell_type": "code",
   "execution_count": 11,
   "id": "1ff8ef9f",
   "metadata": {},
   "outputs": [
    {
     "data": {
      "text/plain": [
       "1998        1\n",
       "1999      125\n",
       "2000     1326\n",
       "2001     2833\n",
       "2002     4144\n",
       "2003     4681\n",
       "2004     4685\n",
       "2005     6724\n",
       "2006     8486\n",
       "2007    13962\n",
       "2008    17735\n",
       "2009    20000\n",
       "2010    15185\n",
       "2011    17061\n",
       "2012    22894\n",
       "2013    46663\n",
       "2014    77348\n",
       "2015    86324\n",
       "2016    66786\n",
       "2017    29350\n",
       "2018    13123\n",
       "Name: Year, dtype: int64"
      ]
     },
     "execution_count": 11,
     "metadata": {},
     "output_type": "execute_result"
    }
   ],
   "source": [
    "df['Year'].value_counts().sort_index()"
   ]
  },
  {
   "cell_type": "code",
   "execution_count": 12,
   "id": "d6e51c63",
   "metadata": {},
   "outputs": [
    {
     "data": {
      "text/plain": [
       "count     459370\n",
       "unique    421432\n",
       "top         good\n",
       "freq         811\n",
       "Name: reviewText, dtype: object"
      ]
     },
     "execution_count": 12,
     "metadata": {},
     "output_type": "execute_result"
    }
   ],
   "source": [
    "df.reviewText.describe()"
   ]
  },
  {
   "cell_type": "code",
   "execution_count": 13,
   "id": "d3479ad6",
   "metadata": {},
   "outputs": [
    {
     "data": {
      "text/plain": [
       "count         459380\n",
       "unique        286888\n",
       "top       Five Stars\n",
       "freq           51188\n",
       "Name: summary, dtype: object"
      ]
     },
     "execution_count": 13,
     "metadata": {},
     "output_type": "execute_result"
    }
   ],
   "source": [
    "df.summary.describe()"
   ]
  },
  {
   "cell_type": "code",
   "execution_count": 14,
   "id": "9aa23409",
   "metadata": {},
   "outputs": [
    {
     "data": {
      "text/plain": [
       "1    102548\n",
       "2     31445\n",
       "3     39395\n",
       "4     73596\n",
       "5    212452\n",
       "Name: overall, dtype: int64"
      ]
     },
     "execution_count": 14,
     "metadata": {},
     "output_type": "execute_result"
    }
   ],
   "source": [
    "df.overall.value_counts().sort_index()"
   ]
  },
  {
   "cell_type": "code",
   "execution_count": 15,
   "id": "80d9a2f5",
   "metadata": {},
   "outputs": [
    {
     "data": {
      "text/plain": [
       "count    459436.000000\n",
       "mean          3.570175\n",
       "std           1.626662\n",
       "min           1.000000\n",
       "25%           2.000000\n",
       "50%           4.000000\n",
       "75%           5.000000\n",
       "max           5.000000\n",
       "Name: overall, dtype: float64"
      ]
     },
     "execution_count": 15,
     "metadata": {},
     "output_type": "execute_result"
    }
   ],
   "source": [
    "df.overall.describe() #Review Scores"
   ]
  },
  {
   "cell_type": "code",
   "execution_count": 16,
   "id": "0c82791f",
   "metadata": {},
   "outputs": [
    {
     "data": {
      "text/plain": [
       "4.0"
      ]
     },
     "execution_count": 16,
     "metadata": {},
     "output_type": "execute_result"
    }
   ],
   "source": [
    "df['overall'].median()"
   ]
  },
  {
   "cell_type": "code",
   "execution_count": 17,
   "id": "d183abcf",
   "metadata": {},
   "outputs": [
    {
     "data": {
      "text/plain": [
       "count                            234401\n",
       "unique                              423\n",
       "top       {'Platform:': ' PC Download'}\n",
       "freq                              50647\n",
       "Name: style, dtype: object"
      ]
     },
     "execution_count": 17,
     "metadata": {},
     "output_type": "execute_result"
    }
   ],
   "source": [
    "df['style'].describe()"
   ]
  },
  {
   "cell_type": "code",
   "execution_count": 18,
   "id": "5db9f1e6",
   "metadata": {},
   "outputs": [
    {
     "data": {
      "image/png": "[encoded data removed]",
      "text/plain": [
       "<Figure size 432x288 with 1 Axes>"
      ]
     },
     "metadata": {},
     "output_type": "display_data"
    }
   ],
   "source": [
    "sns.set(style=\"darkgrid\")\n",
    "sns.histplot(df['overall']).set(title = \"Distribution of reviews for Software - entire dataset\",\n",
    "                                        xlabel = 'Review Score')\n",
    "plt.show()"
   ]
  },
  {
   "cell_type": "markdown",
   "id": "41134b2c",
   "metadata": {},
   "source": [
    "Mostly five-star reviews."
   ]
  },
  {
   "cell_type": "code",
   "execution_count": 19,
   "id": "dd92fc36",
   "metadata": {},
   "outputs": [
    {
     "data": {
      "text/plain": [
       "(102548, 14)"
      ]
     },
     "execution_count": 19,
     "metadata": {},
     "output_type": "execute_result"
    }
   ],
   "source": [
    "oneStarReviews = df[df['overall']==1]\n",
    "oneStarReviews.shape"
   ]
  },
  {
   "cell_type": "code",
   "execution_count": 20,
   "id": "e5bb37ce",
   "metadata": {},
   "outputs": [],
   "source": [
    "twoStarReviews = df[df['overall']==2]\n",
    "threeStarReviews = df[df['overall']==3]\n",
    "fourStarReviews = df[df['overall']==4]\n",
    "fiveStarReviews = df[df['overall']==5]"
   ]
  },
  {
   "cell_type": "code",
   "execution_count": 21,
   "id": "f5fc57e6",
   "metadata": {},
   "outputs": [],
   "source": [
    "random.seed(6174)\n",
    "#Kaprekar’s constant"
   ]
  },
  {
   "cell_type": "code",
   "execution_count": 22,
   "id": "a57a72aa",
   "metadata": {},
   "outputs": [],
   "source": [
    "randomSelection = random.choices(range(len(df)), k=1000) \n",
    "# we're going to work with 1000 reviews to lessen run times\n",
    "#randomSelection"
   ]
  },
  {
   "cell_type": "code",
   "execution_count": 23,
   "id": "3a327714",
   "metadata": {},
   "outputs": [
    {
     "data": {
      "text/html": [
       "<div>\n",
       "<style scoped>\n",
       "    .dataframe tbody tr th:only-of-type {\n",
       "        vertical-align: middle;\n",
       "    }\n",
       "\n",
       "    .dataframe tbody tr th {\n",
       "        vertical-align: top;\n",
       "    }\n",
       "\n",
       "    .dataframe thead th {\n",
       "        text-align: right;\n",
       "    }\n",
       "</style>\n",
       "<table border=\"1\" class=\"dataframe\">\n",
       "  <thead>\n",
       "    <tr style=\"text-align: right;\">\n",
       "      <th></th>\n",
       "      <th>overall</th>\n",
       "      <th>verified</th>\n",
       "      <th>reviewTime</th>\n",
       "      <th>reviewerID</th>\n",
       "      <th>asin</th>\n",
       "      <th>style</th>\n",
       "      <th>reviewerName</th>\n",
       "      <th>reviewText</th>\n",
       "      <th>summary</th>\n",
       "      <th>unixReviewTime</th>\n",
       "      <th>vote</th>\n",
       "      <th>image</th>\n",
       "      <th>ReviewTime</th>\n",
       "      <th>Year</th>\n",
       "    </tr>\n",
       "  </thead>\n",
       "  <tbody>\n",
       "    <tr>\n",
       "      <th>319057</th>\n",
       "      <td>1</td>\n",
       "      <td>False</td>\n",
       "      <td>11 19, 2016</td>\n",
       "      <td>A2WULF7HX5QRW6</td>\n",
       "      <td>B01019T6O0</td>\n",
       "      <td>{'Style:': ' USB Flash Drive'}</td>\n",
       "      <td>fazil</td>\n",
       "      <td>Windows 10 updates all the time! Causing my co...</td>\n",
       "      <td>Garbage!</td>\n",
       "      <td>1479513600</td>\n",
       "      <td>NaN</td>\n",
       "      <td>NaN</td>\n",
       "      <td>2016-11-19 00:00:00</td>\n",
       "      <td>2016</td>\n",
       "    </tr>\n",
       "    <tr>\n",
       "      <th>351090</th>\n",
       "      <td>5</td>\n",
       "      <td>True</td>\n",
       "      <td>12 30, 2015</td>\n",
       "      <td>A2LDZGQKQTBLKE</td>\n",
       "      <td>B01637REAM</td>\n",
       "      <td>{'Platform:': ' PC Download'}</td>\n",
       "      <td>joe d</td>\n",
       "      <td>I have been using turbo tax from the start way...</td>\n",
       "      <td>Still The Best</td>\n",
       "      <td>1451433600</td>\n",
       "      <td>NaN</td>\n",
       "      <td>NaN</td>\n",
       "      <td>2015-12-30 00:00:00</td>\n",
       "      <td>2015</td>\n",
       "    </tr>\n",
       "    <tr>\n",
       "      <th>391520</th>\n",
       "      <td>1</td>\n",
       "      <td>False</td>\n",
       "      <td>06 29, 2007</td>\n",
       "      <td>AOWZQAE1TO0IA</td>\n",
       "      <td>B000AMPJPY</td>\n",
       "      <td>NaN</td>\n",
       "      <td>Science Minded</td>\n",
       "      <td>Very Buggy software that needs some rewriting....</td>\n",
       "      <td>Don't expect any help</td>\n",
       "      <td>1183075200</td>\n",
       "      <td>NaN</td>\n",
       "      <td>NaN</td>\n",
       "      <td>2007-06-29 00:00:00</td>\n",
       "      <td>2007</td>\n",
       "    </tr>\n",
       "  </tbody>\n",
       "</table>\n",
       "</div>"
      ],
      "text/plain": [
       "        overall  verified   reviewTime      reviewerID        asin  \\\n",
       "319057        1     False  11 19, 2016  A2WULF7HX5QRW6  B01019T6O0   \n",
       "351090        5      True  12 30, 2015  A2LDZGQKQTBLKE  B01637REAM   \n",
       "391520        1     False  06 29, 2007   AOWZQAE1TO0IA  B000AMPJPY   \n",
       "\n",
       "                                 style    reviewerName  \\\n",
       "319057  {'Style:': ' USB Flash Drive'}           fazil   \n",
       "351090   {'Platform:': ' PC Download'}           joe d   \n",
       "391520                             NaN  Science Minded   \n",
       "\n",
       "                                               reviewText  \\\n",
       "319057  Windows 10 updates all the time! Causing my co...   \n",
       "351090  I have been using turbo tax from the start way...   \n",
       "391520  Very Buggy software that needs some rewriting....   \n",
       "\n",
       "                      summary  unixReviewTime vote image           ReviewTime  \\\n",
       "319057               Garbage!      1479513600  NaN   NaN  2016-11-19 00:00:00   \n",
       "351090         Still The Best      1451433600  NaN   NaN  2015-12-30 00:00:00   \n",
       "391520  Don't expect any help      1183075200  NaN   NaN  2007-06-29 00:00:00   \n",
       "\n",
       "        Year  \n",
       "319057  2016  \n",
       "351090  2015  \n",
       "391520  2007  "
      ]
     },
     "execution_count": 23,
     "metadata": {},
     "output_type": "execute_result"
    }
   ],
   "source": [
    "df1000 = df.loc[randomSelection,]\n",
    "df1000.head(3)"
   ]
  },
  {
   "cell_type": "code",
   "execution_count": 24,
   "id": "f4abea90",
   "metadata": {},
   "outputs": [
    {
     "data": {
      "image/png": "[encoded data removed]",
      "text/plain": [
       "<Figure size 432x288 with 1 Axes>"
      ]
     },
     "metadata": {},
     "output_type": "display_data"
    }
   ],
   "source": [
    "sns.set(style=\"darkgrid\")\n",
    "sns.histplot(df1000['overall']).set(\n",
    "    title = \"Distribution of reviews for Software - 1000 random entries\",\n",
    "    xlabel = 'Review Score')\n",
    "plt.show()"
   ]
  },
  {
   "cell_type": "markdown",
   "id": "89c17498",
   "metadata": {},
   "source": [
    "This histogram of 1000 random rows resembles the one for the entire dataset"
   ]
  },
  {
   "cell_type": "code",
   "execution_count": 25,
   "id": "91979aad",
   "metadata": {},
   "outputs": [
    {
     "name": "stdout",
     "output_type": "stream",
     "text": [
      "The average score in the dataset was 3.57 whereas \n",
      "the mean score for the 1000 random rows was 3.55.\n"
     ]
    }
   ],
   "source": [
    "print(\"\"\"The average score in the dataset was {} whereas \n",
    "the mean score for the 1000 random rows was {}.\"\"\".format(\n",
    "round(df['overall'].mean(), 2),\n",
    "round(df1000['overall'].mean(), 2)\n",
    "     ))"
   ]
  },
  {
   "cell_type": "markdown",
   "id": "38a68cd2",
   "metadata": {},
   "source": [
    "More rigourous comparisons of the dataset to the 1000 random samples could be done, but I'd say this 1000 random rows is representaive enough of the dataset for our puproses."
   ]
  },
  {
   "cell_type": "markdown",
   "id": "6b91f134",
   "metadata": {},
   "source": [
    "We'll also be making a df25 of the first 25 rows for troubleshooting, testing, and the reapply it all to the df1000 later."
   ]
  },
  {
   "cell_type": "code",
   "execution_count": 26,
   "id": "82e69dc7",
   "metadata": {},
   "outputs": [
    {
     "data": {
      "text/html": [
       "<div>\n",
       "<style scoped>\n",
       "    .dataframe tbody tr th:only-of-type {\n",
       "        vertical-align: middle;\n",
       "    }\n",
       "\n",
       "    .dataframe tbody tr th {\n",
       "        vertical-align: top;\n",
       "    }\n",
       "\n",
       "    .dataframe thead th {\n",
       "        text-align: right;\n",
       "    }\n",
       "</style>\n",
       "<table border=\"1\" class=\"dataframe\">\n",
       "  <thead>\n",
       "    <tr style=\"text-align: right;\">\n",
       "      <th></th>\n",
       "      <th>overall</th>\n",
       "      <th>verified</th>\n",
       "      <th>reviewTime</th>\n",
       "      <th>reviewerID</th>\n",
       "      <th>asin</th>\n",
       "      <th>style</th>\n",
       "      <th>reviewerName</th>\n",
       "      <th>reviewText</th>\n",
       "      <th>summary</th>\n",
       "      <th>unixReviewTime</th>\n",
       "      <th>vote</th>\n",
       "      <th>image</th>\n",
       "      <th>ReviewTime</th>\n",
       "      <th>Year</th>\n",
       "    </tr>\n",
       "  </thead>\n",
       "  <tbody>\n",
       "    <tr>\n",
       "      <th>319057</th>\n",
       "      <td>1</td>\n",
       "      <td>False</td>\n",
       "      <td>11 19, 2016</td>\n",
       "      <td>A2WULF7HX5QRW6</td>\n",
       "      <td>B01019T6O0</td>\n",
       "      <td>{'Style:': ' USB Flash Drive'}</td>\n",
       "      <td>fazil</td>\n",
       "      <td>Windows 10 updates all the time! Causing my co...</td>\n",
       "      <td>Garbage!</td>\n",
       "      <td>1479513600</td>\n",
       "      <td>NaN</td>\n",
       "      <td>NaN</td>\n",
       "      <td>2016-11-19 00:00:00</td>\n",
       "      <td>2016</td>\n",
       "    </tr>\n",
       "    <tr>\n",
       "      <th>351090</th>\n",
       "      <td>5</td>\n",
       "      <td>True</td>\n",
       "      <td>12 30, 2015</td>\n",
       "      <td>A2LDZGQKQTBLKE</td>\n",
       "      <td>B01637REAM</td>\n",
       "      <td>{'Platform:': ' PC Download'}</td>\n",
       "      <td>joe d</td>\n",
       "      <td>I have been using turbo tax from the start way...</td>\n",
       "      <td>Still The Best</td>\n",
       "      <td>1451433600</td>\n",
       "      <td>NaN</td>\n",
       "      <td>NaN</td>\n",
       "      <td>2015-12-30 00:00:00</td>\n",
       "      <td>2015</td>\n",
       "    </tr>\n",
       "  </tbody>\n",
       "</table>\n",
       "</div>"
      ],
      "text/plain": [
       "        overall  verified   reviewTime      reviewerID        asin  \\\n",
       "319057        1     False  11 19, 2016  A2WULF7HX5QRW6  B01019T6O0   \n",
       "351090        5      True  12 30, 2015  A2LDZGQKQTBLKE  B01637REAM   \n",
       "\n",
       "                                 style reviewerName  \\\n",
       "319057  {'Style:': ' USB Flash Drive'}        fazil   \n",
       "351090   {'Platform:': ' PC Download'}        joe d   \n",
       "\n",
       "                                               reviewText         summary  \\\n",
       "319057  Windows 10 updates all the time! Causing my co...        Garbage!   \n",
       "351090  I have been using turbo tax from the start way...  Still The Best   \n",
       "\n",
       "        unixReviewTime vote image           ReviewTime  Year  \n",
       "319057      1479513600  NaN   NaN  2016-11-19 00:00:00  2016  \n",
       "351090      1451433600  NaN   NaN  2015-12-30 00:00:00  2015  "
      ]
     },
     "execution_count": 26,
     "metadata": {},
     "output_type": "execute_result"
    }
   ],
   "source": [
    "df25 = df.loc[randomSelection[:25]]\n",
    "df25.head(2)"
   ]
  },
  {
   "cell_type": "code",
   "execution_count": 33,
   "id": "1b8c6dcd",
   "metadata": {},
   "outputs": [],
   "source": [
    "vocab= []\n",
    "for c, r in df1000.iterrows():\n",
    "    tokens =( nltk.word_tokenize(r['reviewText']) )\n",
    "    for token in tokens:\n",
    "        vocab.append(token)"
   ]
  },
  {
   "cell_type": "code",
   "execution_count": 34,
   "id": "214ef987",
   "metadata": {},
   "outputs": [],
   "source": [
    "vocabulary = set(vocab) # to assure no duplicates.  As of now, we haven't handled capitalization"
   ]
  },
  {
   "cell_type": "markdown",
   "id": "5370443a",
   "metadata": {},
   "source": [
    "### Sentiment Analysis"
   ]
  },
  {
   "cell_type": "code",
   "execution_count": 35,
   "id": "3159ec94",
   "metadata": {},
   "outputs": [
    {
     "name": "stderr",
     "output_type": "stream",
     "text": [
      "No model was supplied, defaulted to distilbert-base-uncased-finetuned-sst-2-english (https://huggingface.co/distilbert-base-uncased-finetuned-sst-2-english)\n"
     ]
    }
   ],
   "source": [
    "classifier = pipeline(\"sentiment-analysis\")\n",
    "currentClassifierType = \"sentiment-analysis\" #This variable will be updated throughtout the notebook\n",
    "#It assures that the correct classifier is in user\n",
    "#Run the notebook in order to assure proper classifier\n",
    "\n",
    "\n",
    "#This cell will download models the first time it's run.  \n",
    "#These are large so don't use a metered connection if possible.\n",
    "#default model used, link here:\n",
    "#https://huggingface.co/distilbert-base-uncased-finetuned-sst-2-english"
   ]
  },
  {
   "cell_type": "code",
   "execution_count": 36,
   "id": "75259c96",
   "metadata": {},
   "outputs": [],
   "source": [
    "def performDefaultSetntimentAnalysis(x):\n",
    "    if(currentClassifierType != \"sentiment-analysis\"):\n",
    "        print(\"You're using the wrong classifier!  Run the notebook in order.\")\n",
    "        return None\n",
    "    try:\n",
    "        return classifier(x)\n",
    "    except:\n",
    "        return\"UNKNOWN\""
   ]
  },
  {
   "cell_type": "code",
   "execution_count": 37,
   "id": "fb372af3",
   "metadata": {},
   "outputs": [
    {
     "name": "stderr",
     "output_type": "stream",
     "text": [
      "100%|██████████| 25/25 [00:00<?, ?it/s]\n"
     ]
    }
   ],
   "source": [
    "\n",
    "df25['distilbert-base-uncased sentiment-analysis'] = tqdm(\n",
    "    df25['reviewText'].apply(performDefaultSetntimentAnalysis)\n",
    ",total = len(df25))\n",
    "#This cell will take several minutes to run"
   ]
  },
  {
   "cell_type": "code",
   "execution_count": 38,
   "id": "5c47bd80",
   "metadata": {},
   "outputs": [
    {
     "data": {
      "text/html": [
       "<div>\n",
       "<style scoped>\n",
       "    .dataframe tbody tr th:only-of-type {\n",
       "        vertical-align: middle;\n",
       "    }\n",
       "\n",
       "    .dataframe tbody tr th {\n",
       "        vertical-align: top;\n",
       "    }\n",
       "\n",
       "    .dataframe thead th {\n",
       "        text-align: right;\n",
       "    }\n",
       "</style>\n",
       "<table border=\"1\" class=\"dataframe\">\n",
       "  <thead>\n",
       "    <tr style=\"text-align: right;\">\n",
       "      <th></th>\n",
       "      <th>overall</th>\n",
       "      <th>verified</th>\n",
       "      <th>reviewTime</th>\n",
       "      <th>reviewerID</th>\n",
       "      <th>asin</th>\n",
       "      <th>style</th>\n",
       "      <th>reviewerName</th>\n",
       "      <th>reviewText</th>\n",
       "      <th>summary</th>\n",
       "      <th>unixReviewTime</th>\n",
       "      <th>vote</th>\n",
       "      <th>image</th>\n",
       "      <th>ReviewTime</th>\n",
       "      <th>Year</th>\n",
       "      <th>distilbert-base-uncased sentiment-analysis</th>\n",
       "    </tr>\n",
       "  </thead>\n",
       "  <tbody>\n",
       "    <tr>\n",
       "      <th>319057</th>\n",
       "      <td>1</td>\n",
       "      <td>False</td>\n",
       "      <td>11 19, 2016</td>\n",
       "      <td>A2WULF7HX5QRW6</td>\n",
       "      <td>B01019T6O0</td>\n",
       "      <td>{'Style:': ' USB Flash Drive'}</td>\n",
       "      <td>fazil</td>\n",
       "      <td>Windows 10 updates all the time! Causing my co...</td>\n",
       "      <td>Garbage!</td>\n",
       "      <td>1479513600</td>\n",
       "      <td>NaN</td>\n",
       "      <td>NaN</td>\n",
       "      <td>2016-11-19 00:00:00</td>\n",
       "      <td>2016</td>\n",
       "      <td>[{'label': 'NEGATIVE', 'score': 0.999703466892...</td>\n",
       "    </tr>\n",
       "    <tr>\n",
       "      <th>351090</th>\n",
       "      <td>5</td>\n",
       "      <td>True</td>\n",
       "      <td>12 30, 2015</td>\n",
       "      <td>A2LDZGQKQTBLKE</td>\n",
       "      <td>B01637REAM</td>\n",
       "      <td>{'Platform:': ' PC Download'}</td>\n",
       "      <td>joe d</td>\n",
       "      <td>I have been using turbo tax from the start way...</td>\n",
       "      <td>Still The Best</td>\n",
       "      <td>1451433600</td>\n",
       "      <td>NaN</td>\n",
       "      <td>NaN</td>\n",
       "      <td>2015-12-30 00:00:00</td>\n",
       "      <td>2015</td>\n",
       "      <td>[{'label': 'NEGATIVE', 'score': 0.993547618389...</td>\n",
       "    </tr>\n",
       "    <tr>\n",
       "      <th>391520</th>\n",
       "      <td>1</td>\n",
       "      <td>False</td>\n",
       "      <td>06 29, 2007</td>\n",
       "      <td>AOWZQAE1TO0IA</td>\n",
       "      <td>B000AMPJPY</td>\n",
       "      <td>NaN</td>\n",
       "      <td>Science Minded</td>\n",
       "      <td>Very Buggy software that needs some rewriting....</td>\n",
       "      <td>Don't expect any help</td>\n",
       "      <td>1183075200</td>\n",
       "      <td>NaN</td>\n",
       "      <td>NaN</td>\n",
       "      <td>2007-06-29 00:00:00</td>\n",
       "      <td>2007</td>\n",
       "      <td>[{'label': 'NEGATIVE', 'score': 0.999778926372...</td>\n",
       "    </tr>\n",
       "  </tbody>\n",
       "</table>\n",
       "</div>"
      ],
      "text/plain": [
       "        overall  verified   reviewTime      reviewerID        asin  \\\n",
       "319057        1     False  11 19, 2016  A2WULF7HX5QRW6  B01019T6O0   \n",
       "351090        5      True  12 30, 2015  A2LDZGQKQTBLKE  B01637REAM   \n",
       "391520        1     False  06 29, 2007   AOWZQAE1TO0IA  B000AMPJPY   \n",
       "\n",
       "                                 style    reviewerName  \\\n",
       "319057  {'Style:': ' USB Flash Drive'}           fazil   \n",
       "351090   {'Platform:': ' PC Download'}           joe d   \n",
       "391520                             NaN  Science Minded   \n",
       "\n",
       "                                               reviewText  \\\n",
       "319057  Windows 10 updates all the time! Causing my co...   \n",
       "351090  I have been using turbo tax from the start way...   \n",
       "391520  Very Buggy software that needs some rewriting....   \n",
       "\n",
       "                      summary  unixReviewTime vote image           ReviewTime  \\\n",
       "319057               Garbage!      1479513600  NaN   NaN  2016-11-19 00:00:00   \n",
       "351090         Still The Best      1451433600  NaN   NaN  2015-12-30 00:00:00   \n",
       "391520  Don't expect any help      1183075200  NaN   NaN  2007-06-29 00:00:00   \n",
       "\n",
       "        Year         distilbert-base-uncased sentiment-analysis  \n",
       "319057  2016  [{'label': 'NEGATIVE', 'score': 0.999703466892...  \n",
       "351090  2015  [{'label': 'NEGATIVE', 'score': 0.993547618389...  \n",
       "391520  2007  [{'label': 'NEGATIVE', 'score': 0.999778926372...  "
      ]
     },
     "execution_count": 38,
     "metadata": {},
     "output_type": "execute_result"
    }
   ],
   "source": [
    "df25.head(3)"
   ]
  },
  {
   "cell_type": "markdown",
   "id": "d2a49333",
   "metadata": {},
   "source": [
    "### Zero shot classification"
   ]
  },
  {
   "cell_type": "code",
   "execution_count": 39,
   "id": "bf2bf681",
   "metadata": {},
   "outputs": [
    {
     "name": "stderr",
     "output_type": "stream",
     "text": [
      "No model was supplied, defaulted to facebook/bart-large-mnli (https://huggingface.co/facebook/bart-large-mnli)\n"
     ]
    },
    {
     "data": {
      "text/plain": [
       "transformers.pipelines.zero_shot_classification.ZeroShotClassificationPipeline"
      ]
     },
     "execution_count": 39,
     "metadata": {},
     "output_type": "execute_result"
    }
   ],
   "source": [
    "classifier = pipeline(\"zero-shot-classification\")\n",
    "\n",
    "currentClassifierType = \"zero-shot-classification\"\n",
    "type(classifier)\n",
    "#This cell involves a 1.5+ GB download"
   ]
  },
  {
   "cell_type": "code",
   "execution_count": 40,
   "id": "4b9898d2",
   "metadata": {},
   "outputs": [
    {
     "data": {
      "text/plain": [
       "{'sequence': 'I just ate great Spanish food with my foes.',\n",
       " 'labels': ['cuisine', 'friendship', 'nihilism'],\n",
       " 'scores': [0.9875638484954834, 0.0067010740749537945, 0.005735104903578758]}"
      ]
     },
     "execution_count": 40,
     "metadata": {},
     "output_type": "execute_result"
    }
   ],
   "source": [
    "#DELETE, testing, screwing around\n",
    "classifier(\n",
    "    \"I just ate great Spanish food with my foes.\",\n",
    "    candidate_labels=[\"cuisine\", \"friendship\",\"nihilism\"],\n",
    ")"
   ]
  },
  {
   "cell_type": "code",
   "execution_count": 41,
   "id": "aebbcbd3",
   "metadata": {},
   "outputs": [],
   "source": [
    "def performZeroShotAnalysis(x, labs = ['endorsement','disapproval']):\n",
    "    if (currentClassifierType != \"zero-shot-classification\"):\n",
    "        print(\"You aren't using the right classifer now.  Rerun the cell with the ZeroShot.\")\n",
    "        return None\n",
    "    try:\n",
    "        return classifier (x, candidate_labels = labs)\n",
    "    except:\n",
    "        return \"UNKNOWN\""
   ]
  },
  {
   "cell_type": "code",
   "execution_count": 42,
   "id": "41d52d77",
   "metadata": {},
   "outputs": [
    {
     "data": {
      "text/plain": [
       "{'sequence': \"I wish I hadn't bought this product.\",\n",
       " 'labels': ['disapproval', 'endorsement'],\n",
       " 'scores': [0.9734046459197998, 0.026595350354909897]}"
      ]
     },
     "execution_count": 42,
     "metadata": {},
     "output_type": "execute_result"
    }
   ],
   "source": [
    "performZeroShotAnalysis('I wish I hadn\\'t bought this product.')\n",
    "#So we can use this pipeline to to classify reviews "
   ]
  },
  {
   "cell_type": "code",
   "execution_count": 43,
   "id": "978d157d",
   "metadata": {},
   "outputs": [
    {
     "name": "stderr",
     "output_type": "stream",
     "text": [
      "100%|██████████| 25/25 [00:00<00:00, 24977.99it/s]\n"
     ]
    }
   ],
   "source": [
    "df25['zero shot facebook/bart-large-mnli'] =  tqdm(df25['reviewText'].apply(performZeroShotAnalysis))"
   ]
  },
  {
   "cell_type": "code",
   "execution_count": 44,
   "id": "fa3150fe",
   "metadata": {},
   "outputs": [
    {
     "data": {
      "text/plain": [
       "array([{'sequence': 'Windows 10 updates all the time! Causing my computer to shut down and restart right in the middle of my projects!!! Garbage!', 'labels': ['disapproval', 'endorsement'], 'scores': [0.8000677824020386, 0.1999322772026062]},\n",
       "       {'sequence': 'I have been using turbo tax from the start way back.  One year I even took  it H&R to see if it was anything different but they were charging $230.00  Guess what I am still using Turbo Tax with no regrets.', 'labels': ['endorsement', 'disapproval'], 'scores': [0.8479723930358887, 0.15202759206295013]},\n",
       "       {'sequence': 'Very Buggy software that needs some rewriting.\\nWhen you email problems the responses are either unreadagle of just useless.  Nuance are the new owners and it looks like they are trying to milk a cash cow without feeding it.', 'labels': ['disapproval', 'endorsement'], 'scores': [0.7127806544303894, 0.287219375371933]}],\n",
       "      dtype=object)"
      ]
     },
     "execution_count": 44,
     "metadata": {},
     "output_type": "execute_result"
    }
   ],
   "source": [
    "df25['zero shot facebook/bart-large-mnli'].values[0:3]\n",
    "#notice that the labels, \"endorsement and dissaproval\" change order.  TODO"
   ]
  },
  {
   "cell_type": "code",
   "execution_count": 45,
   "id": "f315bec7",
   "metadata": {},
   "outputs": [],
   "source": [
    "#This function will always get the Endorsment rating first, then the disapproval rating second.\n",
    "#The order can sometimes be given in an unexpected way.\n",
    "#\n",
    "def getEndorsementThenDissaproval(x):\n",
    "    endorsementScore = 0\n",
    "    disapprovalScore = 0\n",
    "    try:\n",
    "        if(x['labels'][0]=='endorsement'):\n",
    "            endorsementScore = x['scores'][0]\n",
    "            disapprovalScore = x['scores'][1]\n",
    "            return [endorsementScore, disapprovalScore]\n",
    "        elif (x['labels'][0]=='disapproval'):\n",
    "            endorsementScore = x['scores'][1] #flip-flopped\n",
    "            disapprovalScore = x['scores'][0] \n",
    "            return [endorsementScore, disapprovalScore]\n",
    "        else:\n",
    "            print('something wrong here')\n",
    "            return [-2,-2]\n",
    "    except:\n",
    "        return [-1,-1]"
   ]
  },
  {
   "cell_type": "code",
   "execution_count": 46,
   "id": "7d8d1c49",
   "metadata": {},
   "outputs": [
    {
     "data": {
      "text/plain": [
       "[0.7803976535797119, 0.21960234642028809]"
      ]
     },
     "execution_count": 46,
     "metadata": {},
     "output_type": "execute_result"
    }
   ],
   "source": [
    "getEndorsementThenDissaproval ( df25['zero shot facebook/bart-large-mnli'].values[21] )"
   ]
  },
  {
   "cell_type": "code",
   "execution_count": 47,
   "id": "cadce929",
   "metadata": {},
   "outputs": [
    {
     "data": {
      "text/plain": [
       "{'sequence': 'This game may be old, but it\\'s still fun to play. You can choose the character you want to race with from over 10 characters, including SpongeBob, Catdog, Angelica, and, when you win in all three cups, the Mystery Rider. Even when you reveal who the Mystery Rider is, you can keep playing the game and win gold in the medium and hard modes. Once you beat every cup in every difficulty level, you can ride in a bonus round, which, in my opinion, is not that fun. In the bonus round, you\\'re not racing against other characters. Instead, you have to collect a bunch of presents under the amount of time given. Besides that, the rest of the game is fun. The best part of this game is that every time you race, whether in a cup or just for fun, different things happen, which are usually funny. For example, some of the worlds have a few \"glitch spots,\" which cause characters to wind up last. One time, Catdog got stuck on the wall of an obstacle, causing them to get 6th place. It looked very funny, because they were trying to back up and nothing happened. Although this game may have a few minor bugs, I still recommend this game to anyone who likes Nicktoons.',\n",
       " 'labels': ['endorsement', 'disapproval'],\n",
       " 'scores': [0.7803976535797119, 0.21960234642028809]}"
      ]
     },
     "execution_count": 47,
     "metadata": {},
     "output_type": "execute_result"
    }
   ],
   "source": [
    "df25['zero shot facebook/bart-large-mnli'].values[21]"
   ]
  },
  {
   "cell_type": "code",
   "execution_count": 49,
   "id": "1b0e793d",
   "metadata": {},
   "outputs": [],
   "source": [
    "endorsementsList = []\n",
    "disapprovalsList =[]\n",
    "for i in df25['zero shot facebook/bart-large-mnli'].index:\n",
    "    endorsementsList.append(\n",
    "        getEndorsementThenDissaproval(\n",
    "        df25['zero shot facebook/bart-large-mnli'][i]\n",
    "                          )[0]\n",
    "    )\n",
    "    disapprovalsList.append(\n",
    "        getEndorsementThenDissaproval(\n",
    "        df25['zero shot facebook/bart-large-mnli'][i]\n",
    "                          )[1]\n",
    "    )\n",
    "\n",
    "#for i in range(len(df25)):\n",
    "#    print(df25['zero shot facebook/bart-large-mnli'][i])"
   ]
  },
  {
   "cell_type": "code",
   "execution_count": 50,
   "id": "6a2b4584",
   "metadata": {},
   "outputs": [],
   "source": [
    "df25['endorsement per zero shot facebook/bart-large-mnli']= endorsementsList\n",
    "df25['disapproval per zero shot facebook/bart-large-mnli']= disapprovalsList"
   ]
  },
  {
   "cell_type": "code",
   "execution_count": 51,
   "id": "5940d1fb",
   "metadata": {},
   "outputs": [
    {
     "data": {
      "text/html": [
       "<div>\n",
       "<style scoped>\n",
       "    .dataframe tbody tr th:only-of-type {\n",
       "        vertical-align: middle;\n",
       "    }\n",
       "\n",
       "    .dataframe tbody tr th {\n",
       "        vertical-align: top;\n",
       "    }\n",
       "\n",
       "    .dataframe thead th {\n",
       "        text-align: right;\n",
       "    }\n",
       "</style>\n",
       "<table border=\"1\" class=\"dataframe\">\n",
       "  <thead>\n",
       "    <tr style=\"text-align: right;\">\n",
       "      <th></th>\n",
       "      <th>overall</th>\n",
       "      <th>verified</th>\n",
       "      <th>reviewTime</th>\n",
       "      <th>reviewerID</th>\n",
       "      <th>asin</th>\n",
       "      <th>style</th>\n",
       "      <th>reviewerName</th>\n",
       "      <th>reviewText</th>\n",
       "      <th>summary</th>\n",
       "      <th>unixReviewTime</th>\n",
       "      <th>vote</th>\n",
       "      <th>image</th>\n",
       "      <th>ReviewTime</th>\n",
       "      <th>Year</th>\n",
       "      <th>distilbert-base-uncased sentiment-analysis</th>\n",
       "      <th>zero shot facebook/bart-large-mnli</th>\n",
       "      <th>endorsement per zero shot facebook/bart-large-mnli</th>\n",
       "      <th>disapproval per zero shot facebook/bart-large-mnli</th>\n",
       "    </tr>\n",
       "  </thead>\n",
       "  <tbody>\n",
       "    <tr>\n",
       "      <th>319057</th>\n",
       "      <td>1</td>\n",
       "      <td>False</td>\n",
       "      <td>11 19, 2016</td>\n",
       "      <td>A2WULF7HX5QRW6</td>\n",
       "      <td>B01019T6O0</td>\n",
       "      <td>{'Style:': ' USB Flash Drive'}</td>\n",
       "      <td>fazil</td>\n",
       "      <td>Windows 10 updates all the time! Causing my co...</td>\n",
       "      <td>Garbage!</td>\n",
       "      <td>1479513600</td>\n",
       "      <td>NaN</td>\n",
       "      <td>NaN</td>\n",
       "      <td>2016-11-19 00:00:00</td>\n",
       "      <td>2016</td>\n",
       "      <td>[{'label': 'NEGATIVE', 'score': 0.999703466892...</td>\n",
       "      <td>{'sequence': 'Windows 10 updates all the time!...</td>\n",
       "      <td>0.199932</td>\n",
       "      <td>0.800068</td>\n",
       "    </tr>\n",
       "    <tr>\n",
       "      <th>351090</th>\n",
       "      <td>5</td>\n",
       "      <td>True</td>\n",
       "      <td>12 30, 2015</td>\n",
       "      <td>A2LDZGQKQTBLKE</td>\n",
       "      <td>B01637REAM</td>\n",
       "      <td>{'Platform:': ' PC Download'}</td>\n",
       "      <td>joe d</td>\n",
       "      <td>I have been using turbo tax from the start way...</td>\n",
       "      <td>Still The Best</td>\n",
       "      <td>1451433600</td>\n",
       "      <td>NaN</td>\n",
       "      <td>NaN</td>\n",
       "      <td>2015-12-30 00:00:00</td>\n",
       "      <td>2015</td>\n",
       "      <td>[{'label': 'NEGATIVE', 'score': 0.993547618389...</td>\n",
       "      <td>{'sequence': 'I have been using turbo tax from...</td>\n",
       "      <td>0.847972</td>\n",
       "      <td>0.152028</td>\n",
       "    </tr>\n",
       "    <tr>\n",
       "      <th>391520</th>\n",
       "      <td>1</td>\n",
       "      <td>False</td>\n",
       "      <td>06 29, 2007</td>\n",
       "      <td>AOWZQAE1TO0IA</td>\n",
       "      <td>B000AMPJPY</td>\n",
       "      <td>NaN</td>\n",
       "      <td>Science Minded</td>\n",
       "      <td>Very Buggy software that needs some rewriting....</td>\n",
       "      <td>Don't expect any help</td>\n",
       "      <td>1183075200</td>\n",
       "      <td>NaN</td>\n",
       "      <td>NaN</td>\n",
       "      <td>2007-06-29 00:00:00</td>\n",
       "      <td>2007</td>\n",
       "      <td>[{'label': 'NEGATIVE', 'score': 0.999778926372...</td>\n",
       "      <td>{'sequence': 'Very Buggy software that needs s...</td>\n",
       "      <td>0.287219</td>\n",
       "      <td>0.712781</td>\n",
       "    </tr>\n",
       "  </tbody>\n",
       "</table>\n",
       "</div>"
      ],
      "text/plain": [
       "        overall  verified   reviewTime      reviewerID        asin  \\\n",
       "319057        1     False  11 19, 2016  A2WULF7HX5QRW6  B01019T6O0   \n",
       "351090        5      True  12 30, 2015  A2LDZGQKQTBLKE  B01637REAM   \n",
       "391520        1     False  06 29, 2007   AOWZQAE1TO0IA  B000AMPJPY   \n",
       "\n",
       "                                 style    reviewerName  \\\n",
       "319057  {'Style:': ' USB Flash Drive'}           fazil   \n",
       "351090   {'Platform:': ' PC Download'}           joe d   \n",
       "391520                             NaN  Science Minded   \n",
       "\n",
       "                                               reviewText  \\\n",
       "319057  Windows 10 updates all the time! Causing my co...   \n",
       "351090  I have been using turbo tax from the start way...   \n",
       "391520  Very Buggy software that needs some rewriting....   \n",
       "\n",
       "                      summary  unixReviewTime vote image           ReviewTime  \\\n",
       "319057               Garbage!      1479513600  NaN   NaN  2016-11-19 00:00:00   \n",
       "351090         Still The Best      1451433600  NaN   NaN  2015-12-30 00:00:00   \n",
       "391520  Don't expect any help      1183075200  NaN   NaN  2007-06-29 00:00:00   \n",
       "\n",
       "        Year         distilbert-base-uncased sentiment-analysis  \\\n",
       "319057  2016  [{'label': 'NEGATIVE', 'score': 0.999703466892...   \n",
       "351090  2015  [{'label': 'NEGATIVE', 'score': 0.993547618389...   \n",
       "391520  2007  [{'label': 'NEGATIVE', 'score': 0.999778926372...   \n",
       "\n",
       "                       zero shot facebook/bart-large-mnli  \\\n",
       "319057  {'sequence': 'Windows 10 updates all the time!...   \n",
       "351090  {'sequence': 'I have been using turbo tax from...   \n",
       "391520  {'sequence': 'Very Buggy software that needs s...   \n",
       "\n",
       "        endorsement per zero shot facebook/bart-large-mnli  \\\n",
       "319057                                           0.199932    \n",
       "351090                                           0.847972    \n",
       "391520                                           0.287219    \n",
       "\n",
       "        disapproval per zero shot facebook/bart-large-mnli  \n",
       "319057                                           0.800068   \n",
       "351090                                           0.152028   \n",
       "391520                                           0.712781   "
      ]
     },
     "execution_count": 51,
     "metadata": {},
     "output_type": "execute_result"
    }
   ],
   "source": [
    "df25.head(3)"
   ]
  },
  {
   "cell_type": "code",
   "execution_count": 52,
   "id": "6d42ea7c",
   "metadata": {},
   "outputs": [
    {
     "data": {
      "text/plain": [
       "0.5525741583108902"
      ]
     },
     "execution_count": 52,
     "metadata": {},
     "output_type": "execute_result"
    }
   ],
   "source": [
    "df25['disapproval per zero shot facebook/bart-large-mnli'].mean()"
   ]
  },
  {
   "cell_type": "code",
   "execution_count": 53,
   "id": "7b623b54",
   "metadata": {},
   "outputs": [
    {
     "data": {
      "text/plain": [
       "2.88"
      ]
     },
     "execution_count": 53,
     "metadata": {},
     "output_type": "execute_result"
    }
   ],
   "source": [
    "df25['overall'].mean()"
   ]
  },
  {
   "cell_type": "code",
   "execution_count": 54,
   "id": "49867a93",
   "metadata": {},
   "outputs": [
    {
     "data": {
      "text/plain": [
       "3.546"
      ]
     },
     "execution_count": 54,
     "metadata": {},
     "output_type": "execute_result"
    }
   ],
   "source": [
    "df1000['overall'].mean()"
   ]
  },
  {
   "cell_type": "markdown",
   "id": "bf525e02",
   "metadata": {},
   "source": [
    "#perform the same thing for the df1000 dataframe, after doing the zeroshot on df1000\n",
    "endorsementsList = []\n",
    "disapprovalsList =[]\n",
    "for i in df1000['zero shot facebook/bart-large-mnli'].index:\n",
    "    endorsementsList.append(\n",
    "        getEndorsementThenDissaproval(\n",
    "        df25['zero shot facebook/bart-large-mnli'][i]\n",
    "                          )[0]\n",
    "    )\n",
    "    disapprovalsList.append(\n",
    "        getEndorsementThenDissaproval(\n",
    "        df25['zero shot facebook/bart-large-mnli'][i]\n",
    "                          )[1]\n",
    "    )\n",
    "\n",
    "df1000['endorsement per zero shot facebook/bart-large-mnli']= endorsementsList\n",
    "df1000['disapproval per zero shot facebook/bart-large-mnli']= disapprovalsList"
   ]
  },
  {
   "cell_type": "code",
   "execution_count": 61,
   "id": "f1d6cf81",
   "metadata": {},
   "outputs": [
    {
     "data": {
      "text/plain": [
       "319057    Windows 10 updates all the time! Causing my co...\n",
       "351090    I have been using turbo tax from the start way...\n",
       "391520    Very Buggy software that needs some rewriting....\n",
       "Name: reviewText, dtype: object"
      ]
     },
     "execution_count": 61,
     "metadata": {},
     "output_type": "execute_result"
    }
   ],
   "source": [
    "df25['reviewText'][:3]"
   ]
  },
  {
   "cell_type": "code",
   "execution_count": 56,
   "id": "0af0cdd6",
   "metadata": {},
   "outputs": [
    {
     "data": {
      "text/plain": [
       "Index(['overall', 'verified', 'reviewTime', 'reviewerID', 'asin', 'style',\n",
       "       'reviewerName', 'reviewText', 'summary', 'unixReviewTime', 'vote',\n",
       "       'image', 'ReviewTime', 'Year',\n",
       "       'distilbert-base-uncased sentiment-analysis',\n",
       "       'zero shot facebook/bart-large-mnli',\n",
       "       'endorsement per zero shot facebook/bart-large-mnli',\n",
       "       'disapproval per zero shot facebook/bart-large-mnli'],\n",
       "      dtype='object')"
      ]
     },
     "execution_count": 56,
     "metadata": {},
     "output_type": "execute_result"
    }
   ],
   "source": [
    "df25.columns"
   ]
  },
  {
   "cell_type": "code",
   "execution_count": 57,
   "id": "ba2de42c",
   "metadata": {},
   "outputs": [
    {
     "data": {
      "text/html": [
       "<div>\n",
       "<style scoped>\n",
       "    .dataframe tbody tr th:only-of-type {\n",
       "        vertical-align: middle;\n",
       "    }\n",
       "\n",
       "    .dataframe tbody tr th {\n",
       "        vertical-align: top;\n",
       "    }\n",
       "\n",
       "    .dataframe thead th {\n",
       "        text-align: right;\n",
       "    }\n",
       "</style>\n",
       "<table border=\"1\" class=\"dataframe\">\n",
       "  <thead>\n",
       "    <tr style=\"text-align: right;\">\n",
       "      <th></th>\n",
       "      <th>overall</th>\n",
       "      <th>verified</th>\n",
       "      <th>reviewTime</th>\n",
       "      <th>reviewerID</th>\n",
       "      <th>asin</th>\n",
       "      <th>style</th>\n",
       "      <th>reviewerName</th>\n",
       "      <th>reviewText</th>\n",
       "      <th>summary</th>\n",
       "      <th>unixReviewTime</th>\n",
       "      <th>vote</th>\n",
       "      <th>image</th>\n",
       "      <th>ReviewTime</th>\n",
       "      <th>Year</th>\n",
       "      <th>distilbert-base-uncased sentiment-analysis</th>\n",
       "      <th>zero shot facebook/bart-large-mnli</th>\n",
       "      <th>endorsement per zero shot facebook/bart-large-mnli</th>\n",
       "      <th>disapproval per zero shot facebook/bart-large-mnli</th>\n",
       "    </tr>\n",
       "  </thead>\n",
       "  <tbody>\n",
       "    <tr>\n",
       "      <th>319057</th>\n",
       "      <td>1</td>\n",
       "      <td>False</td>\n",
       "      <td>11 19, 2016</td>\n",
       "      <td>A2WULF7HX5QRW6</td>\n",
       "      <td>B01019T6O0</td>\n",
       "      <td>{'Style:': ' USB Flash Drive'}</td>\n",
       "      <td>fazil</td>\n",
       "      <td>Windows 10 updates all the time! Causing my co...</td>\n",
       "      <td>Garbage!</td>\n",
       "      <td>1479513600</td>\n",
       "      <td>NaN</td>\n",
       "      <td>NaN</td>\n",
       "      <td>2016-11-19 00:00:00</td>\n",
       "      <td>2016</td>\n",
       "      <td>[{'label': 'NEGATIVE', 'score': 0.999703466892...</td>\n",
       "      <td>{'sequence': 'Windows 10 updates all the time!...</td>\n",
       "      <td>0.199932</td>\n",
       "      <td>0.800068</td>\n",
       "    </tr>\n",
       "    <tr>\n",
       "      <th>351090</th>\n",
       "      <td>5</td>\n",
       "      <td>True</td>\n",
       "      <td>12 30, 2015</td>\n",
       "      <td>A2LDZGQKQTBLKE</td>\n",
       "      <td>B01637REAM</td>\n",
       "      <td>{'Platform:': ' PC Download'}</td>\n",
       "      <td>joe d</td>\n",
       "      <td>I have been using turbo tax from the start way...</td>\n",
       "      <td>Still The Best</td>\n",
       "      <td>1451433600</td>\n",
       "      <td>NaN</td>\n",
       "      <td>NaN</td>\n",
       "      <td>2015-12-30 00:00:00</td>\n",
       "      <td>2015</td>\n",
       "      <td>[{'label': 'NEGATIVE', 'score': 0.993547618389...</td>\n",
       "      <td>{'sequence': 'I have been using turbo tax from...</td>\n",
       "      <td>0.847972</td>\n",
       "      <td>0.152028</td>\n",
       "    </tr>\n",
       "    <tr>\n",
       "      <th>391520</th>\n",
       "      <td>1</td>\n",
       "      <td>False</td>\n",
       "      <td>06 29, 2007</td>\n",
       "      <td>AOWZQAE1TO0IA</td>\n",
       "      <td>B000AMPJPY</td>\n",
       "      <td>NaN</td>\n",
       "      <td>Science Minded</td>\n",
       "      <td>Very Buggy software that needs some rewriting....</td>\n",
       "      <td>Don't expect any help</td>\n",
       "      <td>1183075200</td>\n",
       "      <td>NaN</td>\n",
       "      <td>NaN</td>\n",
       "      <td>2007-06-29 00:00:00</td>\n",
       "      <td>2007</td>\n",
       "      <td>[{'label': 'NEGATIVE', 'score': 0.999778926372...</td>\n",
       "      <td>{'sequence': 'Very Buggy software that needs s...</td>\n",
       "      <td>0.287219</td>\n",
       "      <td>0.712781</td>\n",
       "    </tr>\n",
       "  </tbody>\n",
       "</table>\n",
       "</div>"
      ],
      "text/plain": [
       "        overall  verified   reviewTime      reviewerID        asin  \\\n",
       "319057        1     False  11 19, 2016  A2WULF7HX5QRW6  B01019T6O0   \n",
       "351090        5      True  12 30, 2015  A2LDZGQKQTBLKE  B01637REAM   \n",
       "391520        1     False  06 29, 2007   AOWZQAE1TO0IA  B000AMPJPY   \n",
       "\n",
       "                                 style    reviewerName  \\\n",
       "319057  {'Style:': ' USB Flash Drive'}           fazil   \n",
       "351090   {'Platform:': ' PC Download'}           joe d   \n",
       "391520                             NaN  Science Minded   \n",
       "\n",
       "                                               reviewText  \\\n",
       "319057  Windows 10 updates all the time! Causing my co...   \n",
       "351090  I have been using turbo tax from the start way...   \n",
       "391520  Very Buggy software that needs some rewriting....   \n",
       "\n",
       "                      summary  unixReviewTime vote image           ReviewTime  \\\n",
       "319057               Garbage!      1479513600  NaN   NaN  2016-11-19 00:00:00   \n",
       "351090         Still The Best      1451433600  NaN   NaN  2015-12-30 00:00:00   \n",
       "391520  Don't expect any help      1183075200  NaN   NaN  2007-06-29 00:00:00   \n",
       "\n",
       "        Year         distilbert-base-uncased sentiment-analysis  \\\n",
       "319057  2016  [{'label': 'NEGATIVE', 'score': 0.999703466892...   \n",
       "351090  2015  [{'label': 'NEGATIVE', 'score': 0.993547618389...   \n",
       "391520  2007  [{'label': 'NEGATIVE', 'score': 0.999778926372...   \n",
       "\n",
       "                       zero shot facebook/bart-large-mnli  \\\n",
       "319057  {'sequence': 'Windows 10 updates all the time!...   \n",
       "351090  {'sequence': 'I have been using turbo tax from...   \n",
       "391520  {'sequence': 'Very Buggy software that needs s...   \n",
       "\n",
       "        endorsement per zero shot facebook/bart-large-mnli  \\\n",
       "319057                                           0.199932    \n",
       "351090                                           0.847972    \n",
       "391520                                           0.287219    \n",
       "\n",
       "        disapproval per zero shot facebook/bart-large-mnli  \n",
       "319057                                           0.800068   \n",
       "351090                                           0.152028   \n",
       "391520                                           0.712781   "
      ]
     },
     "execution_count": 57,
     "metadata": {},
     "output_type": "execute_result"
    }
   ],
   "source": [
    "df25.head(3)"
   ]
  },
  {
   "cell_type": "markdown",
   "id": "97b3e8c7",
   "metadata": {},
   "source": [
    "### Named Entity Recognition"
   ]
  },
  {
   "cell_type": "code",
   "execution_count": 63,
   "id": "8ab2f496",
   "metadata": {},
   "outputs": [
    {
     "name": "stderr",
     "output_type": "stream",
     "text": [
      "Downloading: 100%|██████████| 59.0/59.0 [00:00<00:00, 59.1kB/s]\n",
      "Downloading: 100%|██████████| 829/829 [00:00<00:00, 415kB/s]\n",
      "Downloading: 100%|██████████| 208k/208k [00:00<00:00, 3.62MB/s]\n",
      "Downloading: 100%|██████████| 2.00/2.00 [00:00<00:00, 2.00kB/s]\n",
      "Downloading: 100%|██████████| 112/112 [00:00<00:00, 112kB/s]\n",
      "Downloading: 100%|██████████| 413M/413M [01:05<00:00, 6.57MB/s] \n"
     ]
    },
    {
     "name": "stdout",
     "output_type": "stream",
     "text": [
      "[{'entity': 'B-PER', 'score': 0.9990139, 'index': 4, 'word': 'Wolfgang', 'start': 11, 'end': 19}, {'entity': 'B-LOC', 'score': 0.999645, 'index': 9, 'word': 'Berlin', 'start': 34, 'end': 40}]\n"
     ]
    }
   ],
   "source": [
    "#https://huggingface.co/dslim/bert-base-NER?text=My+name+is+Wolfgang+and+I+live+in+Berlin\n",
    "from transformers import AutoTokenizer, AutoModelForTokenClassification\n",
    "from transformers import pipeline\n",
    "\n",
    "tokenizer = AutoTokenizer.from_pretrained(\"dslim/bert-base-NER\")\n",
    "model = AutoModelForTokenClassification.from_pretrained(\"dslim/bert-base-NER\")\n",
    "\n",
    "nlp = pipeline(\"ner\", model=model, tokenizer=tokenizer)\n",
    "example = \"My name is Wolfgang and I live in Berlin\"\n",
    "\n",
    "ner_results = nlp(example)\n",
    "print(ner_results)"
   ]
  },
  {
   "cell_type": "code",
   "execution_count": 64,
   "id": "316c95b5",
   "metadata": {},
   "outputs": [],
   "source": [
    "#O \tOutside of a named entity\n",
    "#B-MIS \tBeginning of a miscellaneous entity right after another miscellaneous entity\n",
    "#I-MIS \tMiscellaneous entity\n",
    "#B-PER \tBeginning of a person’s name right after another person’s name\n",
    "#I-PER \tPerson’s name\n",
    "#B-ORG \tBeginning of an organization right after another organization\n",
    "#I-ORG \torganization\n",
    "#B-LOC \tBeginning of a location right after another location\n",
    "#I-LOC \tLocation"
   ]
  },
  {
   "cell_type": "code",
   "execution_count": 66,
   "id": "5dfca5f0",
   "metadata": {},
   "outputs": [],
   "source": [
    "df25['NER dslim bert-base'] = df25['reviewText'].apply(lambda x: nlp(x))"
   ]
  },
  {
   "cell_type": "code",
   "execution_count": 73,
   "id": "e90fe75a",
   "metadata": {},
   "outputs": [],
   "source": [
    "df25['Num of Recognized Entites dslim bert-base'] = df25['NER dslim bert-base'].apply(lambda x: len(x))"
   ]
  },
  {
   "cell_type": "code",
   "execution_count": 74,
   "id": "95ca1435",
   "metadata": {},
   "outputs": [
    {
     "data": {
      "text/html": [
       "<div>\n",
       "<style scoped>\n",
       "    .dataframe tbody tr th:only-of-type {\n",
       "        vertical-align: middle;\n",
       "    }\n",
       "\n",
       "    .dataframe tbody tr th {\n",
       "        vertical-align: top;\n",
       "    }\n",
       "\n",
       "    .dataframe thead th {\n",
       "        text-align: right;\n",
       "    }\n",
       "</style>\n",
       "<table border=\"1\" class=\"dataframe\">\n",
       "  <thead>\n",
       "    <tr style=\"text-align: right;\">\n",
       "      <th></th>\n",
       "      <th>overall</th>\n",
       "      <th>verified</th>\n",
       "      <th>reviewTime</th>\n",
       "      <th>reviewerID</th>\n",
       "      <th>asin</th>\n",
       "      <th>style</th>\n",
       "      <th>reviewerName</th>\n",
       "      <th>reviewText</th>\n",
       "      <th>summary</th>\n",
       "      <th>unixReviewTime</th>\n",
       "      <th>vote</th>\n",
       "      <th>image</th>\n",
       "      <th>ReviewTime</th>\n",
       "      <th>Year</th>\n",
       "      <th>distilbert-base-uncased sentiment-analysis</th>\n",
       "      <th>zero shot facebook/bart-large-mnli</th>\n",
       "      <th>endorsement per zero shot facebook/bart-large-mnli</th>\n",
       "      <th>disapproval per zero shot facebook/bart-large-mnli</th>\n",
       "      <th>NER dslim bert-base</th>\n",
       "      <th>Num of Recognized Entites dslim bert-base</th>\n",
       "    </tr>\n",
       "  </thead>\n",
       "  <tbody>\n",
       "    <tr>\n",
       "      <th>319057</th>\n",
       "      <td>1</td>\n",
       "      <td>False</td>\n",
       "      <td>11 19, 2016</td>\n",
       "      <td>A2WULF7HX5QRW6</td>\n",
       "      <td>B01019T6O0</td>\n",
       "      <td>{'Style:': ' USB Flash Drive'}</td>\n",
       "      <td>fazil</td>\n",
       "      <td>Windows 10 updates all the time! Causing my co...</td>\n",
       "      <td>Garbage!</td>\n",
       "      <td>1479513600</td>\n",
       "      <td>NaN</td>\n",
       "      <td>NaN</td>\n",
       "      <td>2016-11-19 00:00:00</td>\n",
       "      <td>2016</td>\n",
       "      <td>[{'label': 'NEGATIVE', 'score': 0.999703466892...</td>\n",
       "      <td>{'sequence': 'Windows 10 updates all the time!...</td>\n",
       "      <td>0.199932</td>\n",
       "      <td>0.800068</td>\n",
       "      <td>[{'entity': 'B-MISC', 'score': 0.9983368, 'ind...</td>\n",
       "      <td>2</td>\n",
       "    </tr>\n",
       "    <tr>\n",
       "      <th>351090</th>\n",
       "      <td>5</td>\n",
       "      <td>True</td>\n",
       "      <td>12 30, 2015</td>\n",
       "      <td>A2LDZGQKQTBLKE</td>\n",
       "      <td>B01637REAM</td>\n",
       "      <td>{'Platform:': ' PC Download'}</td>\n",
       "      <td>joe d</td>\n",
       "      <td>I have been using turbo tax from the start way...</td>\n",
       "      <td>Still The Best</td>\n",
       "      <td>1451433600</td>\n",
       "      <td>NaN</td>\n",
       "      <td>NaN</td>\n",
       "      <td>2015-12-30 00:00:00</td>\n",
       "      <td>2015</td>\n",
       "      <td>[{'label': 'NEGATIVE', 'score': 0.993547618389...</td>\n",
       "      <td>{'sequence': 'I have been using turbo tax from...</td>\n",
       "      <td>0.847972</td>\n",
       "      <td>0.152028</td>\n",
       "      <td>[{'entity': 'B-ORG', 'score': 0.9976609, 'inde...</td>\n",
       "      <td>3</td>\n",
       "    </tr>\n",
       "    <tr>\n",
       "      <th>391520</th>\n",
       "      <td>1</td>\n",
       "      <td>False</td>\n",
       "      <td>06 29, 2007</td>\n",
       "      <td>AOWZQAE1TO0IA</td>\n",
       "      <td>B000AMPJPY</td>\n",
       "      <td>NaN</td>\n",
       "      <td>Science Minded</td>\n",
       "      <td>Very Buggy software that needs some rewriting....</td>\n",
       "      <td>Don't expect any help</td>\n",
       "      <td>1183075200</td>\n",
       "      <td>NaN</td>\n",
       "      <td>NaN</td>\n",
       "      <td>2007-06-29 00:00:00</td>\n",
       "      <td>2007</td>\n",
       "      <td>[{'label': 'NEGATIVE', 'score': 0.999778926372...</td>\n",
       "      <td>{'sequence': 'Very Buggy software that needs s...</td>\n",
       "      <td>0.287219</td>\n",
       "      <td>0.712781</td>\n",
       "      <td>[{'entity': 'B-MISC', 'score': 0.63482374, 'in...</td>\n",
       "      <td>1</td>\n",
       "    </tr>\n",
       "    <tr>\n",
       "      <th>65569</th>\n",
       "      <td>4</td>\n",
       "      <td>True</td>\n",
       "      <td>06 16, 2012</td>\n",
       "      <td>A24K4130JIZCC6</td>\n",
       "      <td>B0014X2UAK</td>\n",
       "      <td>NaN</td>\n",
       "      <td>iTanz</td>\n",
       "      <td>I ordered this product with expedited shipping...</td>\n",
       "      <td>iWork Rox</td>\n",
       "      <td>1339804800</td>\n",
       "      <td>NaN</td>\n",
       "      <td>NaN</td>\n",
       "      <td>2012-06-16 00:00:00</td>\n",
       "      <td>2012</td>\n",
       "      <td>[{'label': 'POSITIVE', 'score': 0.971159636974...</td>\n",
       "      <td>{'sequence': 'I ordered this product with expe...</td>\n",
       "      <td>0.940535</td>\n",
       "      <td>0.059465</td>\n",
       "      <td>[{'entity': 'B-ORG', 'score': 0.9159029, 'inde...</td>\n",
       "      <td>6</td>\n",
       "    </tr>\n",
       "    <tr>\n",
       "      <th>192359</th>\n",
       "      <td>1</td>\n",
       "      <td>False</td>\n",
       "      <td>02 10, 2014</td>\n",
       "      <td>ABVYGB2TKBO8F</td>\n",
       "      <td>B00E6LJBUO</td>\n",
       "      <td>NaN</td>\n",
       "      <td>J. Donaldson</td>\n",
       "      <td>Update Nov 2016\\nI continue to wonder why Intu...</td>\n",
       "      <td>Intuit doesn't listen to it's customers.</td>\n",
       "      <td>1391990400</td>\n",
       "      <td>3</td>\n",
       "      <td>NaN</td>\n",
       "      <td>2014-02-10 00:00:00</td>\n",
       "      <td>2014</td>\n",
       "      <td>[{'label': 'NEGATIVE', 'score': 0.999666571617...</td>\n",
       "      <td>{'sequence': 'Update Nov 2016\n",
       "I continue to wo...</td>\n",
       "      <td>0.101943</td>\n",
       "      <td>0.898057</td>\n",
       "      <td>[{'entity': 'B-ORG', 'score': 0.9908736, 'inde...</td>\n",
       "      <td>31</td>\n",
       "    </tr>\n",
       "  </tbody>\n",
       "</table>\n",
       "</div>"
      ],
      "text/plain": [
       "        overall  verified   reviewTime      reviewerID        asin  \\\n",
       "319057        1     False  11 19, 2016  A2WULF7HX5QRW6  B01019T6O0   \n",
       "351090        5      True  12 30, 2015  A2LDZGQKQTBLKE  B01637REAM   \n",
       "391520        1     False  06 29, 2007   AOWZQAE1TO0IA  B000AMPJPY   \n",
       "65569         4      True  06 16, 2012  A24K4130JIZCC6  B0014X2UAK   \n",
       "192359        1     False  02 10, 2014   ABVYGB2TKBO8F  B00E6LJBUO   \n",
       "\n",
       "                                 style    reviewerName  \\\n",
       "319057  {'Style:': ' USB Flash Drive'}           fazil   \n",
       "351090   {'Platform:': ' PC Download'}           joe d   \n",
       "391520                             NaN  Science Minded   \n",
       "65569                              NaN           iTanz   \n",
       "192359                             NaN    J. Donaldson   \n",
       "\n",
       "                                               reviewText  \\\n",
       "319057  Windows 10 updates all the time! Causing my co...   \n",
       "351090  I have been using turbo tax from the start way...   \n",
       "391520  Very Buggy software that needs some rewriting....   \n",
       "65569   I ordered this product with expedited shipping...   \n",
       "192359  Update Nov 2016\\nI continue to wonder why Intu...   \n",
       "\n",
       "                                         summary  unixReviewTime vote image  \\\n",
       "319057                                  Garbage!      1479513600  NaN   NaN   \n",
       "351090                            Still The Best      1451433600  NaN   NaN   \n",
       "391520                     Don't expect any help      1183075200  NaN   NaN   \n",
       "65569                                  iWork Rox      1339804800  NaN   NaN   \n",
       "192359  Intuit doesn't listen to it's customers.      1391990400    3   NaN   \n",
       "\n",
       "                 ReviewTime  Year  \\\n",
       "319057  2016-11-19 00:00:00  2016   \n",
       "351090  2015-12-30 00:00:00  2015   \n",
       "391520  2007-06-29 00:00:00  2007   \n",
       "65569   2012-06-16 00:00:00  2012   \n",
       "192359  2014-02-10 00:00:00  2014   \n",
       "\n",
       "               distilbert-base-uncased sentiment-analysis  \\\n",
       "319057  [{'label': 'NEGATIVE', 'score': 0.999703466892...   \n",
       "351090  [{'label': 'NEGATIVE', 'score': 0.993547618389...   \n",
       "391520  [{'label': 'NEGATIVE', 'score': 0.999778926372...   \n",
       "65569   [{'label': 'POSITIVE', 'score': 0.971159636974...   \n",
       "192359  [{'label': 'NEGATIVE', 'score': 0.999666571617...   \n",
       "\n",
       "                       zero shot facebook/bart-large-mnli  \\\n",
       "319057  {'sequence': 'Windows 10 updates all the time!...   \n",
       "351090  {'sequence': 'I have been using turbo tax from...   \n",
       "391520  {'sequence': 'Very Buggy software that needs s...   \n",
       "65569   {'sequence': 'I ordered this product with expe...   \n",
       "192359  {'sequence': 'Update Nov 2016\n",
       "I continue to wo...   \n",
       "\n",
       "        endorsement per zero shot facebook/bart-large-mnli  \\\n",
       "319057                                           0.199932    \n",
       "351090                                           0.847972    \n",
       "391520                                           0.287219    \n",
       "65569                                            0.940535    \n",
       "192359                                           0.101943    \n",
       "\n",
       "        disapproval per zero shot facebook/bart-large-mnli  \\\n",
       "319057                                           0.800068    \n",
       "351090                                           0.152028    \n",
       "391520                                           0.712781    \n",
       "65569                                            0.059465    \n",
       "192359                                           0.898057    \n",
       "\n",
       "                                      NER dslim bert-base  \\\n",
       "319057  [{'entity': 'B-MISC', 'score': 0.9983368, 'ind...   \n",
       "351090  [{'entity': 'B-ORG', 'score': 0.9976609, 'inde...   \n",
       "391520  [{'entity': 'B-MISC', 'score': 0.63482374, 'in...   \n",
       "65569   [{'entity': 'B-ORG', 'score': 0.9159029, 'inde...   \n",
       "192359  [{'entity': 'B-ORG', 'score': 0.9908736, 'inde...   \n",
       "\n",
       "        Num of Recognized Entites dslim bert-base  \n",
       "319057                                          2  \n",
       "351090                                          3  \n",
       "391520                                          1  \n",
       "65569                                           6  \n",
       "192359                                         31  "
      ]
     },
     "execution_count": 74,
     "metadata": {},
     "output_type": "execute_result"
    }
   ],
   "source": [
    "df25.head()"
   ]
  },
  {
   "cell_type": "code",
   "execution_count": null,
   "id": "0e39b384",
   "metadata": {},
   "outputs": [],
   "source": []
  },
  {
   "cell_type": "code",
   "execution_count": null,
   "id": "91597ecf",
   "metadata": {},
   "outputs": [],
   "source": []
  },
  {
   "cell_type": "code",
   "execution_count": null,
   "id": "a11b67a9",
   "metadata": {},
   "outputs": [],
   "source": []
  }
 ],
 "metadata": {
  "kernelspec": {
   "display_name": "Python 3 (ipykernel)",
   "language": "python",
   "name": "python3"
  },
  "language_info": {
   "codemirror_mode": {
    "name": "ipython",
    "version": 3
   },
   "file_extension": ".py",
   "mimetype": "text/x-python",
   "name": "python",
   "nbconvert_exporter": "python",
   "pygments_lexer": "ipython3",
   "version": "3.8.13"
  }
 },
 "nbformat": 4,
 "nbformat_minor": 5
}
